{
  "metadata": {
    "kaggle": {
      "accelerator": "none",
      "dataSources": [
        {
          "sourceId": 1546766,
          "sourceType": "datasetVersion",
          "datasetId": 912577
        }
      ],
      "dockerImageVersionId": 30646,
      "isInternetEnabled": false,
      "language": "python",
      "sourceType": "notebook",
      "isGpuEnabled": false
    },
    "kernelspec": {
      "display_name": "Python 3",
      "language": "python",
      "name": "python3"
    },
    "language_info": {
      "codemirror_mode": {
        "name": "ipython",
        "version": 3
      },
      "file_extension": ".py",
      "mimetype": "text/x-python",
      "name": "python",
      "nbconvert_exporter": "python",
      "pygments_lexer": "ipython3",
      "version": "3.10.13"
    },
    "colab": {
      "name": "DSC_478_Final_Project(Book Dataset)",
      "provenance": [],
      "include_colab_link": true
    }
  },
  "nbformat_minor": 0,
  "nbformat": 4,
  "cells": [
    {
      "cell_type": "markdown",
      "metadata": {
        "id": "view-in-github",
        "colab_type": "text"
      },
      "source": [
        "<a href=\"https://colab.research.google.com/github/sameera-g-mathad/DSC-478/blob/main/DSC_478_Final_Project(Book_Dataset).ipynb\" target=\"_parent\"><img src=\"https://colab.research.google.com/assets/colab-badge.svg\" alt=\"Open In Colab\"/></a>"
      ]
    },
    {
      "source": [
        "\n",
        "# IMPORTANT: RUN THIS CELL IN ORDER TO IMPORT YOUR KAGGLE DATA SOURCES\n",
        "# TO THE CORRECT LOCATION (/kaggle/input) IN YOUR NOTEBOOK,\n",
        "# THEN FEEL FREE TO DELETE THIS CELL.\n",
        "# NOTE: THIS NOTEBOOK ENVIRONMENT DIFFERS FROM KAGGLE'S PYTHON\n",
        "# ENVIRONMENT SO THERE MAY BE MISSING LIBRARIES USED BY YOUR\n",
        "# NOTEBOOK.\n",
        "\n",
        "import os\n",
        "import sys\n",
        "from tempfile import NamedTemporaryFile\n",
        "from urllib.request import urlopen\n",
        "from urllib.parse import unquote, urlparse\n",
        "from urllib.error import HTTPError\n",
        "from zipfile import ZipFile\n",
        "import tarfile\n",
        "import shutil\n",
        "\n",
        "CHUNK_SIZE = 40960\n",
        "DATA_SOURCE_MAPPING = 'books-dataset:https%3A%2F%2Fstorage.googleapis.com%2Fkaggle-data-sets%2F912577%2F1546766%2Fbundle%2Farchive.zip%3FX-Goog-Algorithm%3DGOOG4-RSA-SHA256%26X-Goog-Credential%3Dgcp-kaggle-com%2540kaggle-161607.iam.gserviceaccount.com%252F20240328%252Fauto%252Fstorage%252Fgoog4_request%26X-Goog-Date%3D20240328T000246Z%26X-Goog-Expires%3D259200%26X-Goog-SignedHeaders%3Dhost%26X-Goog-Signature%3D7c08497a3c1ccc8bbecf8bdc9ac890c55efdf77fe487f0ec5885cb1fe522803a56051de7358c23a7f2568a7ae8aad059cc34eddbd821810903a40206a9c30f29a3e08bbcfe46d6ae8a0d8b4f242c99ede7e1ce117ab3f149c64098aaf73dc9aacbfb3ab59726fc9d208ceb63f0ae3ea0470551d591295d8c02804b8543b3484426e3a43673d14fbe86a078e96e68b0887dbda5c1c213e0b73ba463f25c6693b25b57195dc504dce05273737c916edbf120f272371ae764fcb8714e5796ff560f972b9417f19bc2d6d091b8ffda34e6ecfdf454684b56f1612cc7759870b22538191555a9259274cea5874a754c0fa762025c9189668426af573b380247c43ae4'\n",
        "\n",
        "KAGGLE_INPUT_PATH='/kaggle/input'\n",
        "KAGGLE_WORKING_PATH='/kaggle/working'\n",
        "KAGGLE_SYMLINK='kaggle'\n",
        "\n",
        "!umount /kaggle/input/ 2> /dev/null\n",
        "shutil.rmtree('/kaggle/input', ignore_errors=True)\n",
        "os.makedirs(KAGGLE_INPUT_PATH, 0o777, exist_ok=True)\n",
        "os.makedirs(KAGGLE_WORKING_PATH, 0o777, exist_ok=True)\n",
        "\n",
        "try:\n",
        "  os.symlink(KAGGLE_INPUT_PATH, os.path.join(\"..\", 'input'), target_is_directory=True)\n",
        "except FileExistsError:\n",
        "  pass\n",
        "try:\n",
        "  os.symlink(KAGGLE_WORKING_PATH, os.path.join(\"..\", 'working'), target_is_directory=True)\n",
        "except FileExistsError:\n",
        "  pass\n",
        "\n",
        "for data_source_mapping in DATA_SOURCE_MAPPING.split(','):\n",
        "    directory, download_url_encoded = data_source_mapping.split(':')\n",
        "    download_url = unquote(download_url_encoded)\n",
        "    filename = urlparse(download_url).path\n",
        "    destination_path = os.path.join(KAGGLE_INPUT_PATH, directory)\n",
        "    try:\n",
        "        with urlopen(download_url) as fileres, NamedTemporaryFile() as tfile:\n",
        "            total_length = fileres.headers['content-length']\n",
        "            print(f'Downloading {directory}, {total_length} bytes compressed')\n",
        "            dl = 0\n",
        "            data = fileres.read(CHUNK_SIZE)\n",
        "            while len(data) > 0:\n",
        "                dl += len(data)\n",
        "                tfile.write(data)\n",
        "                done = int(50 * dl / int(total_length))\n",
        "                sys.stdout.write(f\"\\r[{'=' * done}{' ' * (50-done)}] {dl} bytes downloaded\")\n",
        "                sys.stdout.flush()\n",
        "                data = fileres.read(CHUNK_SIZE)\n",
        "            if filename.endswith('.zip'):\n",
        "              with ZipFile(tfile) as zfile:\n",
        "                zfile.extractall(destination_path)\n",
        "            else:\n",
        "              with tarfile.open(tfile.name) as tarfile:\n",
        "                tarfile.extractall(destination_path)\n",
        "            print(f'\\nDownloaded and uncompressed: {directory}')\n",
        "    except HTTPError as e:\n",
        "        print(f'Failed to load (likely expired) {download_url} to path {destination_path}')\n",
        "        continue\n",
        "    except OSError as e:\n",
        "        print(f'Failed to load {download_url} to path {destination_path}')\n",
        "        continue\n",
        "\n",
        "print('Data source import complete.')\n"
      ],
      "metadata": {
        "id": "Gc5x5LEtbQHC"
      },
      "cell_type": "code",
      "outputs": [],
      "execution_count": null
    },
    {
      "cell_type": "code",
      "source": [
        "import numpy as np\n",
        "import pandas as pd\n",
        "import matplotlib.pyplot as plt\n",
        "from sklearn.model_selection import train_test_split,cross_val_score\n",
        "from sklearn.neighbors import NearestCentroid,NearestNeighbors\n",
        "from sklearn.cluster import KMeans\n",
        "from sklearn.preprocessing import Normalizer,LabelEncoder\n",
        "from sklearn.metrics import accuracy_score,confusion_matrix,ConfusionMatrixDisplay,classification_report\n",
        "from sklearn.utils.extmath import randomized_svd\n",
        "from IPython.display import display\n",
        "from numpy import linalg as la\n",
        "from scipy.sparse import csr_matrix\n",
        "pd.set_option('display.max_colwidth',None)\n",
        "import os\n",
        "for dirname, _, filenames in os.walk('/kaggle/input'):\n",
        "    for filename in filenames:\n",
        "        print(os.path.join(dirname, filename))\n"
      ],
      "metadata": {
        "execution": {
          "iopub.status.busy": "2024-03-23T04:01:54.653246Z",
          "iopub.execute_input": "2024-03-23T04:01:54.653803Z",
          "iopub.status.idle": "2024-03-23T04:01:57.376886Z",
          "shell.execute_reply.started": "2024-03-23T04:01:54.653769Z",
          "shell.execute_reply": "2024-03-23T04:01:57.37605Z"
        },
        "trusted": true,
        "id": "oWT-i0_zbQHD",
        "outputId": "53c5a1c0-63bc-4b51-a5cf-dd0bb405a948"
      },
      "execution_count": null,
      "outputs": [
        {
          "name": "stdout",
          "text": "/kaggle/input/books-dataset/books_data/ratings.csv\n/kaggle/input/books-dataset/books_data/users.csv\n/kaggle/input/books-dataset/books_data/books.csv\n",
          "output_type": "stream"
        }
      ]
    },
    {
      "cell_type": "markdown",
      "source": [
        "# ------------ Pre-Processing ------------"
      ],
      "metadata": {
        "id": "KwQTwyzDbQHD"
      }
    },
    {
      "cell_type": "markdown",
      "source": [
        "#### Loading all the Data files"
      ],
      "metadata": {
        "id": "oHWwT8L3bQHD"
      }
    },
    {
      "cell_type": "code",
      "source": [
        "users_df = pd.read_csv('/kaggle/input/books-dataset/books_data/users.csv',sep=\";\",on_bad_lines=\"skip\",encoding='latin-1')\n",
        "ratings_df = pd.read_csv('/kaggle/input/books-dataset/books_data/ratings.csv',sep=\";\",on_bad_lines=\"skip\",encoding='latin-1')\n",
        "books_df = pd.read_csv(\"/kaggle/input/books-dataset/books_data/books.csv\",sep=\";\",on_bad_lines='skip',encoding = 'latin-1',low_memory = False)"
      ],
      "metadata": {
        "execution": {
          "iopub.status.busy": "2024-03-23T04:01:57.37967Z",
          "iopub.execute_input": "2024-03-23T04:01:57.380102Z",
          "iopub.status.idle": "2024-03-23T04:02:01.187043Z",
          "shell.execute_reply.started": "2024-03-23T04:01:57.380075Z",
          "shell.execute_reply": "2024-03-23T04:02:01.185829Z"
        },
        "trusted": true,
        "id": "F1XLGzqEbQHD"
      },
      "execution_count": null,
      "outputs": []
    },
    {
      "cell_type": "markdown",
      "source": [
        "#### List down all the loaded files to check the shape and data"
      ],
      "metadata": {
        "id": "dKonWjJBbQHE"
      }
    },
    {
      "cell_type": "code",
      "source": [
        "print(\"Books dataframe shape: \" , books_df.shape)\n",
        "print(\"Ratings dataframe shape: \" , ratings_df.shape)\n",
        "print(\"Users dataframe shape: \" , users_df.shape)"
      ],
      "metadata": {
        "execution": {
          "iopub.status.busy": "2024-03-23T04:02:01.192949Z",
          "iopub.execute_input": "2024-03-23T04:02:01.193499Z",
          "iopub.status.idle": "2024-03-23T04:02:01.19885Z",
          "shell.execute_reply.started": "2024-03-23T04:02:01.193462Z",
          "shell.execute_reply": "2024-03-23T04:02:01.197873Z"
        },
        "trusted": true,
        "id": "JV4ot9lObQHE",
        "outputId": "7362d0d9-a5d7-4cb6-bf05-59d11d25aa8a"
      },
      "execution_count": null,
      "outputs": [
        {
          "name": "stdout",
          "text": "Books dataframe shape:  (271360, 8)\nRatings dataframe shape:  (1149780, 3)\nUsers dataframe shape:  (278858, 3)\n",
          "output_type": "stream"
        }
      ]
    },
    {
      "cell_type": "code",
      "source": [
        "books_df.head(5)"
      ],
      "metadata": {
        "execution": {
          "iopub.status.busy": "2024-03-23T04:02:01.20044Z",
          "iopub.execute_input": "2024-03-23T04:02:01.200822Z",
          "iopub.status.idle": "2024-03-23T04:02:01.233236Z",
          "shell.execute_reply.started": "2024-03-23T04:02:01.200789Z",
          "shell.execute_reply": "2024-03-23T04:02:01.232242Z"
        },
        "trusted": true,
        "id": "FiPG-Y_ObQHE",
        "outputId": "2d008657-5b11-462d-bd84-1cae12f20928"
      },
      "execution_count": null,
      "outputs": [
        {
          "execution_count": 4,
          "output_type": "execute_result",
          "data": {
            "text/plain": "         ISBN  \\\n0  0195153448   \n1  0002005018   \n2  0060973129   \n3  0374157065   \n4  0393045218   \n\n                                                                                           Book-Title  \\\n0                                                                                 Classical Mythology   \n1                                                                                        Clara Callan   \n2                                                                                Decision in Normandy   \n3  Flu: The Story of the Great Influenza Pandemic of 1918 and the Search for the Virus That Caused It   \n4                                                                              The Mummies of Urumchi   \n\n            Book-Author Year-Of-Publication                   Publisher  \\\n0    Mark P. O. Morford                2002     Oxford University Press   \n1  Richard Bruce Wright                2001       HarperFlamingo Canada   \n2          Carlo D'Este                1991             HarperPerennial   \n3      Gina Bari Kolata                1999        Farrar Straus Giroux   \n4       E. J. W. Barber                1999  W. W. Norton &amp; Company   \n\n                                                    Image-URL-S  \\\n0  http://images.amazon.com/images/P/0195153448.01.THUMBZZZ.jpg   \n1  http://images.amazon.com/images/P/0002005018.01.THUMBZZZ.jpg   \n2  http://images.amazon.com/images/P/0060973129.01.THUMBZZZ.jpg   \n3  http://images.amazon.com/images/P/0374157065.01.THUMBZZZ.jpg   \n4  http://images.amazon.com/images/P/0393045218.01.THUMBZZZ.jpg   \n\n                                                    Image-URL-M  \\\n0  http://images.amazon.com/images/P/0195153448.01.MZZZZZZZ.jpg   \n1  http://images.amazon.com/images/P/0002005018.01.MZZZZZZZ.jpg   \n2  http://images.amazon.com/images/P/0060973129.01.MZZZZZZZ.jpg   \n3  http://images.amazon.com/images/P/0374157065.01.MZZZZZZZ.jpg   \n4  http://images.amazon.com/images/P/0393045218.01.MZZZZZZZ.jpg   \n\n                                                    Image-URL-L  \n0  http://images.amazon.com/images/P/0195153448.01.LZZZZZZZ.jpg  \n1  http://images.amazon.com/images/P/0002005018.01.LZZZZZZZ.jpg  \n2  http://images.amazon.com/images/P/0060973129.01.LZZZZZZZ.jpg  \n3  http://images.amazon.com/images/P/0374157065.01.LZZZZZZZ.jpg  \n4  http://images.amazon.com/images/P/0393045218.01.LZZZZZZZ.jpg  ",
            "text/html": "<div>\n<style scoped>\n    .dataframe tbody tr th:only-of-type {\n        vertical-align: middle;\n    }\n\n    .dataframe tbody tr th {\n        vertical-align: top;\n    }\n\n    .dataframe thead th {\n        text-align: right;\n    }\n</style>\n<table border=\"1\" class=\"dataframe\">\n  <thead>\n    <tr style=\"text-align: right;\">\n      <th></th>\n      <th>ISBN</th>\n      <th>Book-Title</th>\n      <th>Book-Author</th>\n      <th>Year-Of-Publication</th>\n      <th>Publisher</th>\n      <th>Image-URL-S</th>\n      <th>Image-URL-M</th>\n      <th>Image-URL-L</th>\n    </tr>\n  </thead>\n  <tbody>\n    <tr>\n      <th>0</th>\n      <td>0195153448</td>\n      <td>Classical Mythology</td>\n      <td>Mark P. O. Morford</td>\n      <td>2002</td>\n      <td>Oxford University Press</td>\n      <td>http://images.amazon.com/images/P/0195153448.01.THUMBZZZ.jpg</td>\n      <td>http://images.amazon.com/images/P/0195153448.01.MZZZZZZZ.jpg</td>\n      <td>http://images.amazon.com/images/P/0195153448.01.LZZZZZZZ.jpg</td>\n    </tr>\n    <tr>\n      <th>1</th>\n      <td>0002005018</td>\n      <td>Clara Callan</td>\n      <td>Richard Bruce Wright</td>\n      <td>2001</td>\n      <td>HarperFlamingo Canada</td>\n      <td>http://images.amazon.com/images/P/0002005018.01.THUMBZZZ.jpg</td>\n      <td>http://images.amazon.com/images/P/0002005018.01.MZZZZZZZ.jpg</td>\n      <td>http://images.amazon.com/images/P/0002005018.01.LZZZZZZZ.jpg</td>\n    </tr>\n    <tr>\n      <th>2</th>\n      <td>0060973129</td>\n      <td>Decision in Normandy</td>\n      <td>Carlo D'Este</td>\n      <td>1991</td>\n      <td>HarperPerennial</td>\n      <td>http://images.amazon.com/images/P/0060973129.01.THUMBZZZ.jpg</td>\n      <td>http://images.amazon.com/images/P/0060973129.01.MZZZZZZZ.jpg</td>\n      <td>http://images.amazon.com/images/P/0060973129.01.LZZZZZZZ.jpg</td>\n    </tr>\n    <tr>\n      <th>3</th>\n      <td>0374157065</td>\n      <td>Flu: The Story of the Great Influenza Pandemic of 1918 and the Search for the Virus That Caused It</td>\n      <td>Gina Bari Kolata</td>\n      <td>1999</td>\n      <td>Farrar Straus Giroux</td>\n      <td>http://images.amazon.com/images/P/0374157065.01.THUMBZZZ.jpg</td>\n      <td>http://images.amazon.com/images/P/0374157065.01.MZZZZZZZ.jpg</td>\n      <td>http://images.amazon.com/images/P/0374157065.01.LZZZZZZZ.jpg</td>\n    </tr>\n    <tr>\n      <th>4</th>\n      <td>0393045218</td>\n      <td>The Mummies of Urumchi</td>\n      <td>E. J. W. Barber</td>\n      <td>1999</td>\n      <td>W. W. Norton &amp;amp; Company</td>\n      <td>http://images.amazon.com/images/P/0393045218.01.THUMBZZZ.jpg</td>\n      <td>http://images.amazon.com/images/P/0393045218.01.MZZZZZZZ.jpg</td>\n      <td>http://images.amazon.com/images/P/0393045218.01.LZZZZZZZ.jpg</td>\n    </tr>\n  </tbody>\n</table>\n</div>"
          },
          "metadata": {}
        }
      ]
    },
    {
      "cell_type": "code",
      "source": [
        "ratings_df.head(5)"
      ],
      "metadata": {
        "execution": {
          "iopub.status.busy": "2024-03-23T04:02:01.234366Z",
          "iopub.execute_input": "2024-03-23T04:02:01.234663Z",
          "iopub.status.idle": "2024-03-23T04:02:01.244028Z",
          "shell.execute_reply.started": "2024-03-23T04:02:01.234638Z",
          "shell.execute_reply": "2024-03-23T04:02:01.243011Z"
        },
        "trusted": true,
        "id": "OP6pjTK0bQHE",
        "outputId": "a327e86a-a8fe-4c11-bfd3-59fe0c5c6258"
      },
      "execution_count": null,
      "outputs": [
        {
          "execution_count": 5,
          "output_type": "execute_result",
          "data": {
            "text/plain": "   User-ID        ISBN  Book-Rating\n0   276725  034545104X            0\n1   276726  0155061224            5\n2   276727  0446520802            0\n3   276729  052165615X            3\n4   276729  0521795028            6",
            "text/html": "<div>\n<style scoped>\n    .dataframe tbody tr th:only-of-type {\n        vertical-align: middle;\n    }\n\n    .dataframe tbody tr th {\n        vertical-align: top;\n    }\n\n    .dataframe thead th {\n        text-align: right;\n    }\n</style>\n<table border=\"1\" class=\"dataframe\">\n  <thead>\n    <tr style=\"text-align: right;\">\n      <th></th>\n      <th>User-ID</th>\n      <th>ISBN</th>\n      <th>Book-Rating</th>\n    </tr>\n  </thead>\n  <tbody>\n    <tr>\n      <th>0</th>\n      <td>276725</td>\n      <td>034545104X</td>\n      <td>0</td>\n    </tr>\n    <tr>\n      <th>1</th>\n      <td>276726</td>\n      <td>0155061224</td>\n      <td>5</td>\n    </tr>\n    <tr>\n      <th>2</th>\n      <td>276727</td>\n      <td>0446520802</td>\n      <td>0</td>\n    </tr>\n    <tr>\n      <th>3</th>\n      <td>276729</td>\n      <td>052165615X</td>\n      <td>3</td>\n    </tr>\n    <tr>\n      <th>4</th>\n      <td>276729</td>\n      <td>0521795028</td>\n      <td>6</td>\n    </tr>\n  </tbody>\n</table>\n</div>"
          },
          "metadata": {}
        }
      ]
    },
    {
      "cell_type": "code",
      "source": [
        "users_df.head(5)"
      ],
      "metadata": {
        "execution": {
          "iopub.status.busy": "2024-03-23T04:02:01.245577Z",
          "iopub.execute_input": "2024-03-23T04:02:01.245885Z",
          "iopub.status.idle": "2024-03-23T04:02:01.257679Z",
          "shell.execute_reply.started": "2024-03-23T04:02:01.245859Z",
          "shell.execute_reply": "2024-03-23T04:02:01.256739Z"
        },
        "trusted": true,
        "id": "r3jn0VF6bQHE",
        "outputId": "8697f8be-62b5-4f07-92dc-e96a5899e634"
      },
      "execution_count": null,
      "outputs": [
        {
          "execution_count": 6,
          "output_type": "execute_result",
          "data": {
            "text/plain": "   User-ID                            Location   Age\n0        1                  nyc, new york, usa   NaN\n1        2           stockton, california, usa  18.0\n2        3     moscow, yukon territory, russia   NaN\n3        4           porto, v.n.gaia, portugal  17.0\n4        5  farnborough, hants, united kingdom   NaN",
            "text/html": "<div>\n<style scoped>\n    .dataframe tbody tr th:only-of-type {\n        vertical-align: middle;\n    }\n\n    .dataframe tbody tr th {\n        vertical-align: top;\n    }\n\n    .dataframe thead th {\n        text-align: right;\n    }\n</style>\n<table border=\"1\" class=\"dataframe\">\n  <thead>\n    <tr style=\"text-align: right;\">\n      <th></th>\n      <th>User-ID</th>\n      <th>Location</th>\n      <th>Age</th>\n    </tr>\n  </thead>\n  <tbody>\n    <tr>\n      <th>0</th>\n      <td>1</td>\n      <td>nyc, new york, usa</td>\n      <td>NaN</td>\n    </tr>\n    <tr>\n      <th>1</th>\n      <td>2</td>\n      <td>stockton, california, usa</td>\n      <td>18.0</td>\n    </tr>\n    <tr>\n      <th>2</th>\n      <td>3</td>\n      <td>moscow, yukon territory, russia</td>\n      <td>NaN</td>\n    </tr>\n    <tr>\n      <th>3</th>\n      <td>4</td>\n      <td>porto, v.n.gaia, portugal</td>\n      <td>17.0</td>\n    </tr>\n    <tr>\n      <th>4</th>\n      <td>5</td>\n      <td>farnborough, hants, united kingdom</td>\n      <td>NaN</td>\n    </tr>\n  </tbody>\n</table>\n</div>"
          },
          "metadata": {}
        }
      ]
    },
    {
      "cell_type": "markdown",
      "source": [
        "### *********************** PRE-PROCESSING ****************************"
      ],
      "metadata": {
        "id": "A1CogqxlbQHE"
      }
    },
    {
      "cell_type": "markdown",
      "source": [
        "#### First we will work on users dataframe"
      ],
      "metadata": {
        "id": "U0-KuDIvbQHE"
      }
    },
    {
      "cell_type": "code",
      "source": [
        "users_df.head(5)"
      ],
      "metadata": {
        "execution": {
          "iopub.status.busy": "2024-03-23T04:02:01.259016Z",
          "iopub.execute_input": "2024-03-23T04:02:01.259408Z",
          "iopub.status.idle": "2024-03-23T04:02:01.27223Z",
          "shell.execute_reply.started": "2024-03-23T04:02:01.259374Z",
          "shell.execute_reply": "2024-03-23T04:02:01.271165Z"
        },
        "trusted": true,
        "id": "Lc52RNwAbQHE",
        "outputId": "d810ed5a-7a50-4005-813c-a68bb3f84ebd"
      },
      "execution_count": null,
      "outputs": [
        {
          "execution_count": 7,
          "output_type": "execute_result",
          "data": {
            "text/plain": "   User-ID                            Location   Age\n0        1                  nyc, new york, usa   NaN\n1        2           stockton, california, usa  18.0\n2        3     moscow, yukon territory, russia   NaN\n3        4           porto, v.n.gaia, portugal  17.0\n4        5  farnborough, hants, united kingdom   NaN",
            "text/html": "<div>\n<style scoped>\n    .dataframe tbody tr th:only-of-type {\n        vertical-align: middle;\n    }\n\n    .dataframe tbody tr th {\n        vertical-align: top;\n    }\n\n    .dataframe thead th {\n        text-align: right;\n    }\n</style>\n<table border=\"1\" class=\"dataframe\">\n  <thead>\n    <tr style=\"text-align: right;\">\n      <th></th>\n      <th>User-ID</th>\n      <th>Location</th>\n      <th>Age</th>\n    </tr>\n  </thead>\n  <tbody>\n    <tr>\n      <th>0</th>\n      <td>1</td>\n      <td>nyc, new york, usa</td>\n      <td>NaN</td>\n    </tr>\n    <tr>\n      <th>1</th>\n      <td>2</td>\n      <td>stockton, california, usa</td>\n      <td>18.0</td>\n    </tr>\n    <tr>\n      <th>2</th>\n      <td>3</td>\n      <td>moscow, yukon territory, russia</td>\n      <td>NaN</td>\n    </tr>\n    <tr>\n      <th>3</th>\n      <td>4</td>\n      <td>porto, v.n.gaia, portugal</td>\n      <td>17.0</td>\n    </tr>\n    <tr>\n      <th>4</th>\n      <td>5</td>\n      <td>farnborough, hants, united kingdom</td>\n      <td>NaN</td>\n    </tr>\n  </tbody>\n</table>\n</div>"
          },
          "metadata": {}
        }
      ]
    },
    {
      "cell_type": "markdown",
      "source": [
        "#### From the above result, we can see that location consists of city, state, country\n",
        "#### So, we will filter out the attribute having data less than 3 values"
      ],
      "metadata": {
        "id": "bIVIPetkbQHE"
      }
    },
    {
      "cell_type": "code",
      "source": [
        "# Getting the indices of location which is not equal to 3\n",
        "drop_indeces = users_df[users_df['Location'].str.split(\",\").str.len() != 3].index"
      ],
      "metadata": {
        "execution": {
          "iopub.status.busy": "2024-03-23T04:02:01.2736Z",
          "iopub.execute_input": "2024-03-23T04:02:01.274044Z",
          "iopub.status.idle": "2024-03-23T04:02:01.83028Z",
          "shell.execute_reply.started": "2024-03-23T04:02:01.274017Z",
          "shell.execute_reply": "2024-03-23T04:02:01.829373Z"
        },
        "trusted": true,
        "id": "Agv6k1cdbQHE"
      },
      "execution_count": null,
      "outputs": []
    },
    {
      "cell_type": "code",
      "source": [
        "## Dropping the above indices\n",
        "users_df = users_df.drop(index = drop_indeces)\n"
      ],
      "metadata": {
        "execution": {
          "iopub.status.busy": "2024-03-23T04:02:01.833611Z",
          "iopub.execute_input": "2024-03-23T04:02:01.833909Z",
          "iopub.status.idle": "2024-03-23T04:02:01.857263Z",
          "shell.execute_reply.started": "2024-03-23T04:02:01.833886Z",
          "shell.execute_reply": "2024-03-23T04:02:01.856378Z"
        },
        "trusted": true,
        "id": "ue6GYMWnbQHE"
      },
      "execution_count": null,
      "outputs": []
    },
    {
      "cell_type": "code",
      "source": [
        "## Computing the count whose location has all 3 values\n",
        "(users_df['Location'].str.split(\",\").str.len()==3).value_counts()"
      ],
      "metadata": {
        "execution": {
          "iopub.status.busy": "2024-03-23T04:02:01.858358Z",
          "iopub.execute_input": "2024-03-23T04:02:01.858651Z",
          "iopub.status.idle": "2024-03-23T04:02:02.526499Z",
          "shell.execute_reply.started": "2024-03-23T04:02:01.858627Z",
          "shell.execute_reply": "2024-03-23T04:02:02.525386Z"
        },
        "trusted": true,
        "id": "KZ2KcYTlbQHE",
        "outputId": "5f61be6f-8090-45e8-9031-dac7f72df94e"
      },
      "execution_count": null,
      "outputs": [
        {
          "execution_count": 10,
          "output_type": "execute_result",
          "data": {
            "text/plain": "Location\nTrue    277348\nName: count, dtype: int64"
          },
          "metadata": {}
        }
      ]
    },
    {
      "cell_type": "markdown",
      "source": [
        "#### Splitting location column into City,State and Country columns"
      ],
      "metadata": {
        "id": "wcdZZ_--bQHE"
      }
    },
    {
      "cell_type": "code",
      "source": [
        "users_df[['City','State','Country']] = users_df['Location'].str.strip().str.split(\",\",expand = True,n=2)"
      ],
      "metadata": {
        "execution": {
          "iopub.status.busy": "2024-03-23T04:02:02.52817Z",
          "iopub.execute_input": "2024-03-23T04:02:02.528478Z",
          "iopub.status.idle": "2024-03-23T04:02:03.380745Z",
          "shell.execute_reply.started": "2024-03-23T04:02:02.52845Z",
          "shell.execute_reply": "2024-03-23T04:02:03.379511Z"
        },
        "trusted": true,
        "id": "T2LISg5CbQHE"
      },
      "execution_count": null,
      "outputs": []
    },
    {
      "cell_type": "markdown",
      "source": [
        "#### Trimming data to removing leading and tailing spaces"
      ],
      "metadata": {
        "id": "SQTQRxQYbQHE"
      }
    },
    {
      "cell_type": "code",
      "source": [
        "users_df['City'] = users_df['City'].str.strip()\n",
        "users_df['State'] = users_df['State'].str.strip()\n",
        "users_df['Country'] = users_df['Country'].str.strip()"
      ],
      "metadata": {
        "execution": {
          "iopub.status.busy": "2024-03-23T04:02:03.382191Z",
          "iopub.execute_input": "2024-03-23T04:02:03.382576Z",
          "iopub.status.idle": "2024-03-23T04:02:03.676309Z",
          "shell.execute_reply.started": "2024-03-23T04:02:03.382541Z",
          "shell.execute_reply": "2024-03-23T04:02:03.67518Z"
        },
        "trusted": true,
        "id": "_AWMVLCqbQHE"
      },
      "execution_count": null,
      "outputs": []
    },
    {
      "cell_type": "code",
      "source": [
        "users_df.head()"
      ],
      "metadata": {
        "execution": {
          "iopub.status.busy": "2024-03-23T04:02:03.677738Z",
          "iopub.execute_input": "2024-03-23T04:02:03.67831Z",
          "iopub.status.idle": "2024-03-23T04:02:03.691208Z",
          "shell.execute_reply.started": "2024-03-23T04:02:03.67828Z",
          "shell.execute_reply": "2024-03-23T04:02:03.690469Z"
        },
        "trusted": true,
        "id": "AdGnwpNtbQHE",
        "outputId": "3c15b87b-f40f-4e73-83a5-149652ab44e9"
      },
      "execution_count": null,
      "outputs": [
        {
          "execution_count": 13,
          "output_type": "execute_result",
          "data": {
            "text/plain": "   User-ID                            Location   Age         City  \\\n0        1                  nyc, new york, usa   NaN          nyc   \n1        2           stockton, california, usa  18.0     stockton   \n2        3     moscow, yukon territory, russia   NaN       moscow   \n3        4           porto, v.n.gaia, portugal  17.0        porto   \n4        5  farnborough, hants, united kingdom   NaN  farnborough   \n\n             State         Country  \n0         new york             usa  \n1       california             usa  \n2  yukon territory          russia  \n3         v.n.gaia        portugal  \n4            hants  united kingdom  ",
            "text/html": "<div>\n<style scoped>\n    .dataframe tbody tr th:only-of-type {\n        vertical-align: middle;\n    }\n\n    .dataframe tbody tr th {\n        vertical-align: top;\n    }\n\n    .dataframe thead th {\n        text-align: right;\n    }\n</style>\n<table border=\"1\" class=\"dataframe\">\n  <thead>\n    <tr style=\"text-align: right;\">\n      <th></th>\n      <th>User-ID</th>\n      <th>Location</th>\n      <th>Age</th>\n      <th>City</th>\n      <th>State</th>\n      <th>Country</th>\n    </tr>\n  </thead>\n  <tbody>\n    <tr>\n      <th>0</th>\n      <td>1</td>\n      <td>nyc, new york, usa</td>\n      <td>NaN</td>\n      <td>nyc</td>\n      <td>new york</td>\n      <td>usa</td>\n    </tr>\n    <tr>\n      <th>1</th>\n      <td>2</td>\n      <td>stockton, california, usa</td>\n      <td>18.0</td>\n      <td>stockton</td>\n      <td>california</td>\n      <td>usa</td>\n    </tr>\n    <tr>\n      <th>2</th>\n      <td>3</td>\n      <td>moscow, yukon territory, russia</td>\n      <td>NaN</td>\n      <td>moscow</td>\n      <td>yukon territory</td>\n      <td>russia</td>\n    </tr>\n    <tr>\n      <th>3</th>\n      <td>4</td>\n      <td>porto, v.n.gaia, portugal</td>\n      <td>17.0</td>\n      <td>porto</td>\n      <td>v.n.gaia</td>\n      <td>portugal</td>\n    </tr>\n    <tr>\n      <th>4</th>\n      <td>5</td>\n      <td>farnborough, hants, united kingdom</td>\n      <td>NaN</td>\n      <td>farnborough</td>\n      <td>hants</td>\n      <td>united kingdom</td>\n    </tr>\n  </tbody>\n</table>\n</div>"
          },
          "metadata": {}
        }
      ]
    },
    {
      "cell_type": "markdown",
      "source": [
        "#### from the above result, we can see that location's data is split into city state and country"
      ],
      "metadata": {
        "id": "AV9vVZgRbQHF"
      }
    },
    {
      "cell_type": "markdown",
      "source": [
        "#### Dropping column 'Location' as it is split into (City,State,Country) columns"
      ],
      "metadata": {
        "id": "UMbqxU2xbQHF"
      }
    },
    {
      "cell_type": "code",
      "source": [
        "users_df = users_df.drop('Location',axis = 1)\n",
        "users_df"
      ],
      "metadata": {
        "execution": {
          "iopub.status.busy": "2024-03-23T04:02:03.692481Z",
          "iopub.execute_input": "2024-03-23T04:02:03.693019Z",
          "iopub.status.idle": "2024-03-23T04:02:03.731978Z",
          "shell.execute_reply.started": "2024-03-23T04:02:03.692992Z",
          "shell.execute_reply": "2024-03-23T04:02:03.730968Z"
        },
        "trusted": true,
        "id": "JirSNof8bQHF",
        "outputId": "0a53ad2f-0757-45c0-b8f7-f1e18f52fe99"
      },
      "execution_count": null,
      "outputs": [
        {
          "execution_count": 14,
          "output_type": "execute_result",
          "data": {
            "text/plain": "        User-ID   Age         City            State         Country\n0             1   NaN          nyc         new york             usa\n1             2  18.0     stockton       california             usa\n2             3   NaN       moscow  yukon territory          russia\n3             4  17.0        porto         v.n.gaia        portugal\n4             5   NaN  farnborough            hants  united kingdom\n...         ...   ...          ...              ...             ...\n278853   278854   NaN     portland           oregon             usa\n278854   278855  50.0       tacoma       washington  united kingdom\n278855   278856   NaN     brampton          ontario          canada\n278856   278857   NaN    knoxville        tennessee             usa\n278857   278858   NaN       dublin              n/a         ireland\n\n[277348 rows x 5 columns]",
            "text/html": "<div>\n<style scoped>\n    .dataframe tbody tr th:only-of-type {\n        vertical-align: middle;\n    }\n\n    .dataframe tbody tr th {\n        vertical-align: top;\n    }\n\n    .dataframe thead th {\n        text-align: right;\n    }\n</style>\n<table border=\"1\" class=\"dataframe\">\n  <thead>\n    <tr style=\"text-align: right;\">\n      <th></th>\n      <th>User-ID</th>\n      <th>Age</th>\n      <th>City</th>\n      <th>State</th>\n      <th>Country</th>\n    </tr>\n  </thead>\n  <tbody>\n    <tr>\n      <th>0</th>\n      <td>1</td>\n      <td>NaN</td>\n      <td>nyc</td>\n      <td>new york</td>\n      <td>usa</td>\n    </tr>\n    <tr>\n      <th>1</th>\n      <td>2</td>\n      <td>18.0</td>\n      <td>stockton</td>\n      <td>california</td>\n      <td>usa</td>\n    </tr>\n    <tr>\n      <th>2</th>\n      <td>3</td>\n      <td>NaN</td>\n      <td>moscow</td>\n      <td>yukon territory</td>\n      <td>russia</td>\n    </tr>\n    <tr>\n      <th>3</th>\n      <td>4</td>\n      <td>17.0</td>\n      <td>porto</td>\n      <td>v.n.gaia</td>\n      <td>portugal</td>\n    </tr>\n    <tr>\n      <th>4</th>\n      <td>5</td>\n      <td>NaN</td>\n      <td>farnborough</td>\n      <td>hants</td>\n      <td>united kingdom</td>\n    </tr>\n    <tr>\n      <th>...</th>\n      <td>...</td>\n      <td>...</td>\n      <td>...</td>\n      <td>...</td>\n      <td>...</td>\n    </tr>\n    <tr>\n      <th>278853</th>\n      <td>278854</td>\n      <td>NaN</td>\n      <td>portland</td>\n      <td>oregon</td>\n      <td>usa</td>\n    </tr>\n    <tr>\n      <th>278854</th>\n      <td>278855</td>\n      <td>50.0</td>\n      <td>tacoma</td>\n      <td>washington</td>\n      <td>united kingdom</td>\n    </tr>\n    <tr>\n      <th>278855</th>\n      <td>278856</td>\n      <td>NaN</td>\n      <td>brampton</td>\n      <td>ontario</td>\n      <td>canada</td>\n    </tr>\n    <tr>\n      <th>278856</th>\n      <td>278857</td>\n      <td>NaN</td>\n      <td>knoxville</td>\n      <td>tennessee</td>\n      <td>usa</td>\n    </tr>\n    <tr>\n      <th>278857</th>\n      <td>278858</td>\n      <td>NaN</td>\n      <td>dublin</td>\n      <td>n/a</td>\n      <td>ireland</td>\n    </tr>\n  </tbody>\n</table>\n<p>277348 rows × 5 columns</p>\n</div>"
          },
          "metadata": {}
        }
      ]
    },
    {
      "cell_type": "code",
      "source": [
        "users_df['Age'].unique()"
      ],
      "metadata": {
        "execution": {
          "iopub.status.busy": "2024-03-23T04:02:03.733166Z",
          "iopub.execute_input": "2024-03-23T04:02:03.733462Z",
          "iopub.status.idle": "2024-03-23T04:02:03.77037Z",
          "shell.execute_reply.started": "2024-03-23T04:02:03.733437Z",
          "shell.execute_reply": "2024-03-23T04:02:03.769335Z"
        },
        "trusted": true,
        "id": "xx_9HaaSbQHF",
        "outputId": "91ffb791-6edb-4843-abda-f0667d04d00d"
      },
      "execution_count": null,
      "outputs": [
        {
          "execution_count": 15,
          "output_type": "execute_result",
          "data": {
            "text/plain": "array([ nan,  18.,  17.,  61.,  26.,  14.,  25.,  19.,  46.,  55.,  32.,\n        24.,  20.,  34.,  23.,  51.,  31.,  21.,  44.,  30.,  57.,  43.,\n        37.,  41.,  54.,  42.,  50.,  39.,  53.,  47.,  36.,  28.,  35.,\n        13.,  58.,  49.,  38.,  45.,  62.,  63.,  27.,  33.,  29.,  66.,\n        40.,  15.,  60.,   0.,  79.,  22.,  16.,  65.,  59.,  48.,  72.,\n        56.,  67.,   1.,  80.,  52.,  69.,  71.,  73.,  78.,   9.,  64.,\n       103., 104.,  12.,  74.,  75., 231.,   3.,  76.,  83.,  68., 119.,\n        11.,   2.,  70.,  77.,  93.,   8.,   7.,   4.,  81., 114., 230.,\n       239.,  10.,   5., 148., 151.,   6., 101., 201.,  96.,  84.,  82.,\n        90., 123., 244., 133.,  91., 128.,  94.,  85., 141., 110.,  97.,\n       219.,  86., 124.,  92., 175., 172., 209., 212., 237.,  87., 162.,\n       100., 156., 136.,  95.,  89., 106.,  99., 108., 210.,  88., 199.,\n       147., 168., 132., 159., 186., 152., 102., 116., 200., 115., 226.,\n       137., 207., 229., 138., 109., 105., 228., 183., 204.,  98., 223.,\n       113., 208., 157., 111., 146., 118., 220., 143., 140., 189., 127.])"
          },
          "metadata": {}
        }
      ]
    },
    {
      "cell_type": "markdown",
      "source": [
        "#### From the above result we can see that there are values of age greater than 100 which is not ideal so filtering it out"
      ],
      "metadata": {
        "id": "0C_vVkaEbQHF"
      }
    },
    {
      "cell_type": "markdown",
      "source": [
        "## Also we are considering age group between 10 to 90 to get more appropriate data"
      ],
      "metadata": {
        "id": "1Vu90RNCbQHF"
      }
    },
    {
      "cell_type": "code",
      "source": [
        "users_df[~users_df['Age'].between(10,90) & ~users_df['Age'].isnull()]['Age'].unique()"
      ],
      "metadata": {
        "execution": {
          "iopub.status.busy": "2024-03-23T04:02:03.77178Z",
          "iopub.execute_input": "2024-03-23T04:02:03.772207Z",
          "iopub.status.idle": "2024-03-23T04:02:03.784256Z",
          "shell.execute_reply.started": "2024-03-23T04:02:03.772169Z",
          "shell.execute_reply": "2024-03-23T04:02:03.783037Z"
        },
        "trusted": true,
        "id": "48SftN0MbQHF",
        "outputId": "0a22e62a-ed4c-4bfe-d0d4-684c62e0059d"
      },
      "execution_count": null,
      "outputs": [
        {
          "execution_count": 16,
          "output_type": "execute_result",
          "data": {
            "text/plain": "array([  0.,   1.,   9., 103., 104., 231.,   3., 119.,   2.,  93.,   8.,\n         7.,   4., 114., 230., 239.,   5., 148., 151.,   6., 101., 201.,\n        96., 123., 244., 133.,  91., 128.,  94., 141., 110.,  97., 219.,\n       124.,  92., 175., 172., 209., 212., 237., 162., 100., 156., 136.,\n        95., 106.,  99., 108., 210., 199., 147., 168., 132., 159., 186.,\n       152., 102., 116., 200., 115., 226., 137., 207., 229., 138., 109.,\n       105., 228., 183., 204.,  98., 223., 113., 208., 157., 111., 146.,\n       118., 220., 143., 140., 189., 127.])"
          },
          "metadata": {}
        }
      ]
    },
    {
      "cell_type": "code",
      "source": [
        "ages_graph_params = users_df.groupby('Age').size()\n",
        "plt.bar(ages_graph_params.index,ages_graph_params.values)\n",
        "plt.title('Distribution of Age')\n",
        "plt.xlabel('Age')\n",
        "plt.ylabel('Frequency')"
      ],
      "metadata": {
        "execution": {
          "iopub.status.busy": "2024-03-23T04:02:03.785517Z",
          "iopub.execute_input": "2024-03-23T04:02:03.785837Z",
          "iopub.status.idle": "2024-03-23T04:02:04.30284Z",
          "shell.execute_reply.started": "2024-03-23T04:02:03.785811Z",
          "shell.execute_reply": "2024-03-23T04:02:04.301781Z"
        },
        "trusted": true,
        "id": "11Bn6s1ObQHF",
        "outputId": "34b70a11-0112-443b-add5-e49c8e872eaf"
      },
      "execution_count": null,
      "outputs": [
        {
          "execution_count": 17,
          "output_type": "execute_result",
          "data": {
            "text/plain": "Text(0, 0.5, 'Frequency')"
          },
          "metadata": {}
        },
        {
          "output_type": "display_data",
          "data": {
            "text/plain": "<Figure size 640x480 with 1 Axes>",
            "image/png": "[encoded data removed]"
          },
          "metadata": {}
        }
      ]
    },
    {
      "cell_type": "markdown",
      "source": [
        "#### Filtering the age group as mentioned"
      ],
      "metadata": {
        "id": "nPtSU2Q_bQHF"
      }
    },
    {
      "cell_type": "code",
      "source": [
        "users_to_omit = ~users_df['Age'].between(10,90) & ~users_df['Age'].isnull()\n",
        "users_df.loc[users_to_omit] = np.nan\n",
        "users_df['Age'].sort_values().unique()"
      ],
      "metadata": {
        "execution": {
          "iopub.status.busy": "2024-03-23T04:02:04.304224Z",
          "iopub.execute_input": "2024-03-23T04:02:04.304952Z",
          "iopub.status.idle": "2024-03-23T04:02:04.344996Z",
          "shell.execute_reply.started": "2024-03-23T04:02:04.304912Z",
          "shell.execute_reply": "2024-03-23T04:02:04.343772Z"
        },
        "trusted": true,
        "id": "GtDqgP_6bQHF",
        "outputId": "4674800f-0d9b-4831-f0d0-6a786c6f297c"
      },
      "execution_count": null,
      "outputs": [
        {
          "execution_count": 18,
          "output_type": "execute_result",
          "data": {
            "text/plain": "array([10., 11., 12., 13., 14., 15., 16., 17., 18., 19., 20., 21., 22.,\n       23., 24., 25., 26., 27., 28., 29., 30., 31., 32., 33., 34., 35.,\n       36., 37., 38., 39., 40., 41., 42., 43., 44., 45., 46., 47., 48.,\n       49., 50., 51., 52., 53., 54., 55., 56., 57., 58., 59., 60., 61.,\n       62., 63., 64., 65., 66., 67., 68., 69., 70., 71., 72., 73., 74.,\n       75., 76., 77., 78., 79., 80., 81., 82., 83., 84., 85., 86., 87.,\n       88., 89., 90., nan])"
          },
          "metadata": {}
        }
      ]
    },
    {
      "cell_type": "markdown",
      "source": [
        "#### From the above result, now we can see that age is as expected. Now we can replace the Nan values with its mean"
      ],
      "metadata": {
        "id": "FHDqXhwJbQHF"
      }
    },
    {
      "cell_type": "code",
      "source": [
        "users_df.head()"
      ],
      "metadata": {
        "execution": {
          "iopub.status.busy": "2024-03-23T04:02:04.34636Z",
          "iopub.execute_input": "2024-03-23T04:02:04.346664Z",
          "iopub.status.idle": "2024-03-23T04:02:04.358293Z",
          "shell.execute_reply.started": "2024-03-23T04:02:04.346639Z",
          "shell.execute_reply": "2024-03-23T04:02:04.357357Z"
        },
        "trusted": true,
        "id": "flpoM1Q7bQHF",
        "outputId": "6e509b82-bdc6-456a-d357-5bc31a23f292"
      },
      "execution_count": null,
      "outputs": [
        {
          "execution_count": 19,
          "output_type": "execute_result",
          "data": {
            "text/plain": "   User-ID   Age         City            State         Country\n0      1.0   NaN          nyc         new york             usa\n1      2.0  18.0     stockton       california             usa\n2      3.0   NaN       moscow  yukon territory          russia\n3      4.0  17.0        porto         v.n.gaia        portugal\n4      5.0   NaN  farnborough            hants  united kingdom",
            "text/html": "<div>\n<style scoped>\n    .dataframe tbody tr th:only-of-type {\n        vertical-align: middle;\n    }\n\n    .dataframe tbody tr th {\n        vertical-align: top;\n    }\n\n    .dataframe thead th {\n        text-align: right;\n    }\n</style>\n<table border=\"1\" class=\"dataframe\">\n  <thead>\n    <tr style=\"text-align: right;\">\n      <th></th>\n      <th>User-ID</th>\n      <th>Age</th>\n      <th>City</th>\n      <th>State</th>\n      <th>Country</th>\n    </tr>\n  </thead>\n  <tbody>\n    <tr>\n      <th>0</th>\n      <td>1.0</td>\n      <td>NaN</td>\n      <td>nyc</td>\n      <td>new york</td>\n      <td>usa</td>\n    </tr>\n    <tr>\n      <th>1</th>\n      <td>2.0</td>\n      <td>18.0</td>\n      <td>stockton</td>\n      <td>california</td>\n      <td>usa</td>\n    </tr>\n    <tr>\n      <th>2</th>\n      <td>3.0</td>\n      <td>NaN</td>\n      <td>moscow</td>\n      <td>yukon territory</td>\n      <td>russia</td>\n    </tr>\n    <tr>\n      <th>3</th>\n      <td>4.0</td>\n      <td>17.0</td>\n      <td>porto</td>\n      <td>v.n.gaia</td>\n      <td>portugal</td>\n    </tr>\n    <tr>\n      <th>4</th>\n      <td>5.0</td>\n      <td>NaN</td>\n      <td>farnborough</td>\n      <td>hants</td>\n      <td>united kingdom</td>\n    </tr>\n  </tbody>\n</table>\n</div>"
          },
          "metadata": {}
        }
      ]
    },
    {
      "cell_type": "code",
      "source": [
        "users_df['Age'].mean()"
      ],
      "metadata": {
        "execution": {
          "iopub.status.busy": "2024-03-23T04:02:04.359715Z",
          "iopub.execute_input": "2024-03-23T04:02:04.360136Z",
          "iopub.status.idle": "2024-03-23T04:02:04.373406Z",
          "shell.execute_reply.started": "2024-03-23T04:02:04.360083Z",
          "shell.execute_reply": "2024-03-23T04:02:04.372193Z"
        },
        "trusted": true,
        "id": "DNdcrG3rbQHF",
        "outputId": "db477e0f-c1fc-4980-cf7f-9b7f797e7ea5"
      },
      "execution_count": null,
      "outputs": [
        {
          "execution_count": 20,
          "output_type": "execute_result",
          "data": {
            "text/plain": "34.729518290474466"
          },
          "metadata": {}
        }
      ]
    },
    {
      "cell_type": "markdown",
      "source": [
        "#### Imputing age column with the mean age value of 34"
      ],
      "metadata": {
        "id": "VzoZKLr0bQHF"
      }
    },
    {
      "cell_type": "code",
      "source": [
        "null_age = users_df['Age'].isnull()\n",
        "users_df.loc[null_age,'Age'] = users_df['Age'].mean()"
      ],
      "metadata": {
        "execution": {
          "iopub.status.busy": "2024-03-23T04:02:04.375079Z",
          "iopub.execute_input": "2024-03-23T04:02:04.37558Z",
          "iopub.status.idle": "2024-03-23T04:02:04.386653Z",
          "shell.execute_reply.started": "2024-03-23T04:02:04.375546Z",
          "shell.execute_reply": "2024-03-23T04:02:04.385767Z"
        },
        "trusted": true,
        "id": "MPWpPgqlbQHF"
      },
      "execution_count": null,
      "outputs": []
    },
    {
      "cell_type": "code",
      "source": [
        "ages_graph_params = users_df.groupby('Age').size()\n",
        "plt.bar(ages_graph_params.index,ages_graph_params.values)\n"
      ],
      "metadata": {
        "execution": {
          "iopub.status.busy": "2024-03-23T04:02:04.387896Z",
          "iopub.execute_input": "2024-03-23T04:02:04.388241Z",
          "iopub.status.idle": "2024-03-23T04:02:04.69924Z",
          "shell.execute_reply.started": "2024-03-23T04:02:04.388213Z",
          "shell.execute_reply": "2024-03-23T04:02:04.698159Z"
        },
        "trusted": true,
        "id": "f1ACIHWAbQHF",
        "outputId": "58fa8b7f-f964-4dd7-e0eb-645c83a31aa1"
      },
      "execution_count": null,
      "outputs": [
        {
          "execution_count": 22,
          "output_type": "execute_result",
          "data": {
            "text/plain": "<BarContainer object of 82 artists>"
          },
          "metadata": {}
        },
        {
          "output_type": "display_data",
          "data": {
            "text/plain": "<Figure size 640x480 with 1 Axes>",
            "image/png": "[encoded data removed]"
          },
          "metadata": {}
        }
      ]
    },
    {
      "cell_type": "code",
      "source": [
        "users_df.head()"
      ],
      "metadata": {
        "execution": {
          "iopub.status.busy": "2024-03-23T04:02:04.700476Z",
          "iopub.execute_input": "2024-03-23T04:02:04.700816Z",
          "iopub.status.idle": "2024-03-23T04:02:04.713185Z",
          "shell.execute_reply.started": "2024-03-23T04:02:04.700786Z",
          "shell.execute_reply": "2024-03-23T04:02:04.71217Z"
        },
        "trusted": true,
        "id": "d4llYcCHbQHF",
        "outputId": "73f8cc01-e76c-48f0-b25a-45ff036af8a3"
      },
      "execution_count": null,
      "outputs": [
        {
          "execution_count": 23,
          "output_type": "execute_result",
          "data": {
            "text/plain": "   User-ID        Age         City            State         Country\n0      1.0  34.729518          nyc         new york             usa\n1      2.0  18.000000     stockton       california             usa\n2      3.0  34.729518       moscow  yukon territory          russia\n3      4.0  17.000000        porto         v.n.gaia        portugal\n4      5.0  34.729518  farnborough            hants  united kingdom",
            "text/html": "<div>\n<style scoped>\n    .dataframe tbody tr th:only-of-type {\n        vertical-align: middle;\n    }\n\n    .dataframe tbody tr th {\n        vertical-align: top;\n    }\n\n    .dataframe thead th {\n        text-align: right;\n    }\n</style>\n<table border=\"1\" class=\"dataframe\">\n  <thead>\n    <tr style=\"text-align: right;\">\n      <th></th>\n      <th>User-ID</th>\n      <th>Age</th>\n      <th>City</th>\n      <th>State</th>\n      <th>Country</th>\n    </tr>\n  </thead>\n  <tbody>\n    <tr>\n      <th>0</th>\n      <td>1.0</td>\n      <td>34.729518</td>\n      <td>nyc</td>\n      <td>new york</td>\n      <td>usa</td>\n    </tr>\n    <tr>\n      <th>1</th>\n      <td>2.0</td>\n      <td>18.000000</td>\n      <td>stockton</td>\n      <td>california</td>\n      <td>usa</td>\n    </tr>\n    <tr>\n      <th>2</th>\n      <td>3.0</td>\n      <td>34.729518</td>\n      <td>moscow</td>\n      <td>yukon territory</td>\n      <td>russia</td>\n    </tr>\n    <tr>\n      <th>3</th>\n      <td>4.0</td>\n      <td>17.000000</td>\n      <td>porto</td>\n      <td>v.n.gaia</td>\n      <td>portugal</td>\n    </tr>\n    <tr>\n      <th>4</th>\n      <td>5.0</td>\n      <td>34.729518</td>\n      <td>farnborough</td>\n      <td>hants</td>\n      <td>united kingdom</td>\n    </tr>\n  </tbody>\n</table>\n</div>"
          },
          "metadata": {}
        }
      ]
    },
    {
      "cell_type": "code",
      "source": [
        "users_df['Age'] = users_df['Age'].astype('int')"
      ],
      "metadata": {
        "execution": {
          "iopub.status.busy": "2024-03-23T04:02:04.714457Z",
          "iopub.execute_input": "2024-03-23T04:02:04.714762Z",
          "iopub.status.idle": "2024-03-23T04:02:04.723562Z",
          "shell.execute_reply.started": "2024-03-23T04:02:04.714736Z",
          "shell.execute_reply": "2024-03-23T04:02:04.722794Z"
        },
        "trusted": true,
        "id": "uAV5vHoXbQHF"
      },
      "execution_count": null,
      "outputs": []
    },
    {
      "cell_type": "code",
      "source": [
        "users_df['Age'].sort_values().unique()"
      ],
      "metadata": {
        "execution": {
          "iopub.status.busy": "2024-03-23T04:02:04.724673Z",
          "iopub.execute_input": "2024-03-23T04:02:04.725676Z",
          "iopub.status.idle": "2024-03-23T04:02:04.760254Z",
          "shell.execute_reply.started": "2024-03-23T04:02:04.725648Z",
          "shell.execute_reply": "2024-03-23T04:02:04.759192Z"
        },
        "trusted": true,
        "id": "pmOoQKJcbQHF",
        "outputId": "e934fe92-5569-4f99-f838-99b2e5c36644"
      },
      "execution_count": null,
      "outputs": [
        {
          "execution_count": 25,
          "output_type": "execute_result",
          "data": {
            "text/plain": "array([10, 11, 12, 13, 14, 15, 16, 17, 18, 19, 20, 21, 22, 23, 24, 25, 26,\n       27, 28, 29, 30, 31, 32, 33, 34, 35, 36, 37, 38, 39, 40, 41, 42, 43,\n       44, 45, 46, 47, 48, 49, 50, 51, 52, 53, 54, 55, 56, 57, 58, 59, 60,\n       61, 62, 63, 64, 65, 66, 67, 68, 69, 70, 71, 72, 73, 74, 75, 76, 77,\n       78, 79, 80, 81, 82, 83, 84, 85, 86, 87, 88, 89, 90])"
          },
          "metadata": {}
        }
      ]
    },
    {
      "cell_type": "markdown",
      "source": [
        "#### From the above result now we can say that age attribute is pre-processed correctly"
      ],
      "metadata": {
        "id": "vBK44vPMbQHF"
      }
    },
    {
      "cell_type": "code",
      "source": [],
      "metadata": {
        "id": "Pazt4HbcbQHF"
      },
      "execution_count": null,
      "outputs": []
    },
    {
      "cell_type": "markdown",
      "source": [
        "#### Column country has garbage and reduntant values"
      ],
      "metadata": {
        "id": "8JhmtNjebQHF"
      }
    },
    {
      "cell_type": "code",
      "source": [
        "users_df['Country'].sort_values().unique()"
      ],
      "metadata": {
        "execution": {
          "iopub.status.busy": "2024-03-23T04:02:04.761584Z",
          "iopub.execute_input": "2024-03-23T04:02:04.761899Z",
          "iopub.status.idle": "2024-03-23T04:02:05.13459Z",
          "shell.execute_reply.started": "2024-03-23T04:02:04.761872Z",
          "shell.execute_reply": "2024-03-23T04:02:05.133549Z"
        },
        "trusted": true,
        "id": "1MmPwn19bQHG",
        "outputId": "4424b355-b864-4265-bae8-1fb26b8ba1aa"
      },
      "execution_count": null,
      "outputs": [
        {
          "execution_count": 26,
          "output_type": "execute_result",
          "data": {
            "text/plain": "array(['', '\"', '&#20013;&#22269;', '&#32654;&#22269;', '*', '-',\n       '-------', '.', '01776', '02458', '19104', '23232', '30064',\n       '5057chadwick ct.', '85021', '87510', '?ú?{', '\\\\\"n/a\\\\\"\"',\n       '\\\\n/a\\\\\"\"', '_ brasil', 'a', 'aaa', 'adsgfdr',\n       'afganstand holla !!', 'afghanistan', 'ahrensburg', 'alachua',\n       'albania', 'alderney', 'algeria', 'algérie', 'allen', 'ama lurra',\n       'america', 'american samoa', 'andorra', 'andorra\"', 'angola',\n       'antarctica', 'antigua & barbuda', 'antigua and barbuda',\n       'aotearoa', 'argentina', 'argentina\"', 'armenia', 'aroostook',\n       'aruba', 'asturies', 'auckland', 'australia', 'australia\"',\n       'australii', 'austria', 'austria\"', 'autralia', 'az', 'azerbaijan',\n       'bademn würtemberg', 'baden-württemberg', 'bahamas', 'bahrain',\n       'baltimore', 'bangladesh', 'bangladesh\"', 'barbados', 'basilicata',\n       'basque country', 'bavaria', 'baxter', 'bbbzzzzz', 'belarus',\n       'belgi', 'belgique', 'belgium', 'belgium\"', 'belize', 'bell',\n       'benin', 'berguedà', 'bermuda', 'bernalillo', 'bfe', 'bhutan',\n       'bih', 'bkk', 'bladen', 'bolivia', 'bosnia',\n       'bosnia and herzegovina', 'botswana', 'brasil', 'brazil',\n       'brazil\"', 'british virgin islands', 'brunei', 'brunei darussalam',\n       'bucks', 'bulgaria', 'buncombe', 'burkina faso', 'burkinafasu',\n       'burlington', 'burma', 'burma\"', 'butler', 'c', 'cadd0',\n       'calabria', 'california', 'cambodia', 'camden', 'cameroon', 'can',\n       'canada', 'canada eh', 'cananda', 'canda', 'cape may', 'cape town',\n       'cape verde', 'cape verde\"', 'caribbean sea', 'carter', 'cass',\n       'catalonia', 'catalunya', 'catalunya spain',\n       'catalunya(catalonia)', 'cayman islands', 'chad', 'cherokee',\n       'chian', 'chile', 'chile\"', 'china', 'china people`s republic',\n       'china öð¹ú', 'china\"', 'chinaöð¹ú', 'citrus.', 'clackamas',\n       'clinton', 'cn', 'cnina', 'collin', 'colombia', 'colombia\"',\n       'commonwealth of northern mariana islands', 'comoros', 'congo',\n       'cook', 'copenhagen', 'costa rica', 'costa rica\"', 'cote d`ivoire',\n       'cote d`ivoire\"', 'country', 'courtenay', 'croatia', 'croatia\"',\n       'csa', 'cuba', 'cyprus', 'czech republic', 'czech republic\"',\n       'côte d', 'dauphin', 'davidson', 'de', 'dekalb', 'denmark',\n       'denmark\"', 'der', 'deutsches reich', 'deutschland',\n       'deutschland\"', 'dfg', 'distrito federal', 'diy', 'djibouti',\n       'dominica', 'dominican republic', 'doodedoo', 'dublin',\n       'east africa', 'ecuador', 'ee.uu', 'effingham', 'egypt', 'egypt\"',\n       'el salvador', 'england', 'england uk', 'english',\n       'equatorial geuinea', 'eritrea', 'espaã?â±a', 'espaã±a', 'españa',\n       'españa\"', 'essex', 'estonia', 'ethiopia', 'europa', 'europe',\n       'euskadi', 'euskal herria', 'everywhere and anywhere',\n       'evil empire', 'exactly where i am', 'fairyland', 'far away...',\n       'faroe islands', 'fernando de la mora', 'ferrara', 'fifi', 'fiji',\n       'finland', 'finland\"', 'fontana', 'fort bend', 'fortaleza',\n       'framingham', 'france', 'france\"', 'fred',\n       'fredonia - land of the brave and free', 'frome', 'fulton',\n       'gabon', 'galiza', 'galiza neghra', 'gb', 'geermany', 'georgia',\n       'germany', 'germany\"', 'germay', 'ghana', 'ghana\"',\n       'good old u.s.a.', 'good old usa !', 'goteborg', 'granville',\n       'greece', 'greece (=hellas)', 'greece\"', 'grenada', 'guam',\n       'guatemala', 'guatemala\"', 'guernsey', 'guinea', 'guinea-bissau',\n       'guyana', 'h.u.g.', 'haiti', 'hamilton', 'hampden', 'harvatija',\n       'hennipen', 'henry', 'here and there', 'hernando', 'hidalgo',\n       'hillsborough', 'holland', 'holy see', 'honduras', 'hong kong',\n       'hong kong\"', 'hongkong', 'hornyonic', 'houston', 'hungary',\n       'hungary and usa', 'hungary\"', 'iceland', 'iceland\"', 'id',\n       'il canada', 'in', 'in your heart', 'india', 'india\"', 'indiai',\n       'indonesia', 'indonesia\"', 'input error', 'iran', 'iran\"', 'iraq',\n       'ireland', 'ireland\"', 'isle of man', 'israel', 'israel\"',\n       'isreal', 'italia', 'italien', 'italy', 'italy\"', 'itlay',\n       'jackson', 'jamaica', 'jamaica\"', 'japan', 'jersey', 'johnson',\n       'jordan', 'k1c7b1', 'kazakhstan', 'kenya', 'kern', 'kiribati',\n       'korea', 'kosovo', 'ksa', 'kuwait', 'kyrgyzstan', 'kz', 'l',\n       'l`algérie', 'l`italia', 'la argentina', 'la belgique',\n       'la chine eternelle!', 'la chine éternelle !',\n       'la chine éternelle!', 'la france', 'la suisse', 'la svizzera',\n       'lake', 'lane', 'laos', 'latvia', 'lazio', 'le canada',\n       'le madagascar', 'lebanon', 'lecce', 'lee', 'lesotho', 'liaoning',\n       'liberia', 'libya', 'libya\"', 'lithuania', 'lithuania\"', 'liushi',\n       'livingston', 'lj', 'lkjlj', 'lleida', 'lombardia', 'london',\n       'los estados unidos de norte america', 'luxembourg', 'luxembourg\"',\n       'macau', 'macedonia', 'macedonia\"', 'madagascar', 'madrid',\n       'maine', 'malawi', 'malaysia', 'malaysia\"', 'malaysian',\n       'maldives', 'mali', 'malta', 'maracopa', 'maricopa', 'maroc',\n       'marrion', 'marshall islands', 'mauritania', 'mauritius',\n       'mauritius\"', 'mexico', 'mexico\"', 'micronesia', 'milano',\n       'minnehaha', 'moldova', 'monaco', 'mongolia', 'monroe',\n       'monterrey', 'mordor', 'morgan', 'morocco', 'morocco\"',\n       'mozambique', 'mozambique\"', 'moçambique', 'my', 'myanmar',\n       'mã?â©xico', 'mérida', 'méxico', 'n/a', 'n/a - on the road',\n       'namibia', 'nederlands', 'nepal', 'netherlands',\n       'netherlands antilles', 'netherlands\"', 'neverland', 'new london',\n       'new zealand', 'new zealand\"', 'newzealand', 'nh', 'nicaragua',\n       'niger', 'nigeria', 'nigeria\"', 'nl', 'no more', 'none',\n       'north carolina', 'north korea', 'northern ireland', 'norway',\n       'norway\"', 'nowhere', 'nrw', 'nyc', 'nyhamnsläge', 'ohio', 'oman',\n       'onondaga nation', 'orange co', 'orense', 'osceola', 'ouranos',\n       'p r china', 'p.r. china', 'p.r.c', 'p.r.china', 'pa', 'pakistan',\n       'pakistan\"', 'pakistan.', 'palau', 'palm beach', 'panama',\n       'papua new guinea', 'paraguay', 'pasco', 'pender',\n       'people`s republic of china', 'peru', 'peru\"', 'perãº',\n       'petrolwar nation', 'phila', 'philippine', 'philippines',\n       'philippines\"', 'philippinies', 'phillipines', 'phils',\n       'phippines', 'pinallas', 'pippo', 'pistlavakia', 'poland',\n       'poland\"', 'polk', 'polska', 'portugal', 'portugal\"', 'pr', 'prc',\n       'prince william', 'pueblo', 'puerto rico', 'qatar', 'queensland',\n       'queenspark', 'quit', 'r.o.c.', 'rapides', 'rep san marino',\n       'rep. san marino', 'republic of korea', 'republic of panama',\n       'rice', 'richmond country', 'rmi', 'roma', 'romania', 'romania\"',\n       'rosario', 'rsa', 'russia', 'russian federation', 'rutherford',\n       'rwanda', 's.africa', 's.corea', 'saint kitts and nevis',\n       'saint loius', 'saint lucia', 'saint luica',\n       'saint vincent and the grenadines',\n       'saint vincent and the grenadines\"', 'samoa', 'san bernardino',\n       'san franicsco', 'san marino', 'san mateo', 'santa barbara',\n       'sao tome and principe', 'sao tome and principe\"', 'sardegna',\n       'sardinia', 'saudi arabia', 'saudia arabia', 'scotland',\n       'scotland\"', 'senegal', 'serbia', 'serbia & montenegro',\n       'serbia and montenegro', 'shelby', 'sicilia', 'sierra leone',\n       'singapore', 'singapore\"', 'singapore/united kingdom', 'slo',\n       'slovak republik', 'slovakia', 'slovakia\"', 'slovenia',\n       'slovenia\"', 'smith', 'solano', 'solomon islands', 'somalia',\n       'somewherein space', 'south africa', 'south korea', 'south korea\"',\n       'space', 'spain', 'spain\"', 'spotsylvania', 'sri lanka',\n       'sri lanka\"', 'sri lanka\\\\\"n/a\\\\\"\"', 'srilanka', 'st. clair',\n       'st. helena', 'st. vincent and the grenadines', 'st.thomasi',\n       'strongbadia', 'sudan', 'sudan\"', 'suisse', 'sultanate of oman',\n       'suriname', 'swaziland', 'swazilandia', 'sweden', 'sweden\"',\n       'switzerland', 'switzerland\"', 'syria', 'taiwan', 'tajikistan',\n       'tanzania', 'tanzania\"', 'tdzimi', 'texas', 'thailand',\n       'thailand\"', 'thailoand', 'the gambia', 'the great white north',\n       'the netherlands', 'the philippines', 'thing', 'togo', 'tonga',\n       'toscana', 'travelling', 'trinidad', 'trinidad & tobago',\n       'trinidad and tobago', 'trinidad and tobago\"', 'trinidad/tobago.',\n       'tunisia', 'turkei', 'turkey', 'turkey\"', 'turkmenistan',\n       'tyrtyrt', 'türkiye', 'u', 'u k', 'u.', 'u.a.e', 'u.a.e\"', 'u.k.',\n       'u.s. of a.', 'u.s. virgin islands', 'u.s.a!', 'u.s.a.', 'u.s.a>',\n       'u.s>', 'ua', 'uae', 'uganda', 'uganda\"', 'uk', 'ukrain',\n       'ukraine', 'unit', 'united arab emirates', 'united kindgdom',\n       'united kindgonm', 'united kingdom', 'united kingdom\"',\n       'united kingdom.', 'united sates', 'united staes', 'united state',\n       'united statea', 'united stated', 'united stated of america',\n       'united states', 'united states of america', 'universe', 'unknown',\n       'urugua', 'uruguay', 'us', 'usa', 'usa & canada',\n       'usa (currently living in england)', 'usa\"', 'ussurfing', 'ust',\n       'uusa', 'uyo', 'uzbekistan', 'valtesse', 'van wert', 'vanuatu',\n       'vatican city', 'venezuela', 'venezuela\"', 'ventura',\n       'ventura county', 'vicenza', 'victoria', 'vietnam', 'vietnam\"',\n       'vorce', 'w. malaysia', 'wales', 'washtenaw', 'we`re global!',\n       'west yorkshire', 'whatcom', 'windham', 'wonderful usa', 'wood',\n       'worcester', 'x', 'xinyu', 'xxxxxx', 'yakima', 'yanhill', 'yemen',\n       'ysa', 'yugoslavia', 'yunling', 'z', 'zambia', 'zhengjiang',\n       'zimbabwe', 'ä¸\\xadå?½', 'öð¹ú', nan], dtype=object)"
          },
          "metadata": {}
        }
      ]
    },
    {
      "cell_type": "markdown",
      "source": [
        "#### We are using list of countries from this link for filtering out users."
      ],
      "metadata": {
        "id": "DEmBu6qDbQHG"
      }
    },
    {
      "cell_type": "code",
      "source": [
        "countries = (\n",
        "    ('AF', 'AFGHANISTAN'),\n",
        "    ('AL', 'ALBANIA'),\n",
        "    ('DZ', 'ALGERIA'),\n",
        "    ('AS', 'AMERICAN SAMOA'),\n",
        "    ('AD', 'ANDORRA'),\n",
        "    ('AO', 'ANGOLA'),\n",
        "    ('AI', 'ANGUILLA'),\n",
        "    ('AQ', 'ANTARCTICA'),\n",
        "    ('AG', 'ANTIGUA AND BARBUDA'),\n",
        "    ('AR', 'ARGENTINA'),\n",
        "    ('AM', 'ARMENIA'),\n",
        "    ('AW', 'ARUBA'),\n",
        "    ('AU', 'AUSTRALIA'),\n",
        "    ('AT', 'AUSTRIA'),\n",
        "    ('AZ', 'AZERBAIJAN'),\n",
        "    ('BS', 'BAHAMAS'),\n",
        "    ('BH', 'BAHRAIN'),\n",
        "    ('BD', 'BANGLADESH'),\n",
        "    ('BB', 'BARBADOS'),\n",
        "    ('BY', 'BELARUS'),\n",
        "    ('BE', 'BELGIUM'),\n",
        "    ('BZ', 'BELIZE'),\n",
        "    ('BJ', 'BENIN'),\n",
        "    ('BM', 'BERMUDA'),\n",
        "    ('BT', 'BHUTAN'),\n",
        "    ('BO', 'BOLIVIA'),\n",
        "    ('BA', 'BOSNIA AND HERZEGOVINA'),\n",
        "    ('BW', 'BOTSWANA'),\n",
        "    ('BV', 'BOUVET ISLAND'),\n",
        "    ('BR', 'BRAZIL'),\n",
        "    ('IO', 'BRITISH INDIAN OCEAN TERRITORY'),\n",
        "    ('BN', 'BRUNEI DARUSSALAM'),\n",
        "    ('BG', 'BULGARIA'),\n",
        "    ('BF', 'BURKINA FASO'),\n",
        "    ('BI', 'BURUNDI'),\n",
        "    ('KH', 'CAMBODIA'),\n",
        "    ('CM', 'CAMEROON'),\n",
        "    ('CA', 'CANADA'),\n",
        "    ('CV', 'CAPE VERDE'),\n",
        "    ('KY', 'CAYMAN ISLANDS'),\n",
        "    ('CF', 'CENTRAL AFRICAN REPUBLIC'),\n",
        "    ('TD', 'CHAD'),\n",
        "    ('CL', 'CHILE'),\n",
        "    ('CN', 'CHINA'),\n",
        "    ('CX', 'CHRISTMAS ISLAND'),\n",
        "    ('CC', 'COCOS (KEELING) ISLANDS'),\n",
        "    ('CO', 'COLOMBIA'),\n",
        "    ('KM', 'COMOROS'),\n",
        "    ('CG', 'CONGO'),\n",
        "    ('CD', 'CONGO, THE DEMOCRATIC REPUBLIC OF'),\n",
        "    ('CK', 'COOK ISLANDS'),\n",
        "    ('CR', 'COSTA RICA'),\n",
        "    ('CI', \"CÃ”TE D'IVOIRE\"),\n",
        "    ('HR', 'CROATIA'),\n",
        "    ('CU', 'CUBA'),\n",
        "    ('CY', 'CYPRUS'),\n",
        "    ('CZ', 'CZECH REPUBLIC'),\n",
        "    ('DK', 'DENMARK'),\n",
        "    ('DJ', 'DJIBOUTI'),\n",
        "    ('DM', 'DOMINICA'),\n",
        "    ('DO', 'DOMINICAN REPUBLIC'),\n",
        "    ('EC', 'ECUADOR'),\n",
        "    ('EG', 'EGYPT'),\n",
        "    ('SV', 'EL SALVADOR'),\n",
        "    ('GQ', 'EQUATORIAL GUINEA'),\n",
        "    ('ER', 'ERITREA'),\n",
        "    ('EE', 'ESTONIA'),\n",
        "    ('ET', 'ETHIOPIA'),\n",
        "    ('FK', 'FALKLAND ISLANDS (MALVINAS)'),\n",
        "    ('FO', 'FAROE ISLANDS'),\n",
        "    ('FJ', 'FIJI'),\n",
        "    ('FI', 'FINLAND'),\n",
        "    ('FR', 'FRANCE'),\n",
        "    ('GF', 'FRENCH GUIANA'),\n",
        "    ('PF', 'FRENCH POLYNESIA'),\n",
        "    ('TF', 'FRENCH SOUTHERN TERRITORIES'),\n",
        "    ('GA', 'GABON'),\n",
        "    ('GM', 'GAMBIA'),\n",
        "    ('GE', 'GEORGIA'),\n",
        "    ('DE', 'GERMANY'),\n",
        "    ('GH', 'GHANA'),\n",
        "    ('GI', 'GIBRALTAR'),\n",
        "    ('GR', 'GREECE'),\n",
        "    ('GL', 'GREENLAND'),\n",
        "    ('GD', 'GRENADA'),\n",
        "    ('GP', 'GUADELOUPE'),\n",
        "    ('GU', 'GUAM'),\n",
        "    ('GT', 'GUATEMALA'),\n",
        "    ('GN', 'GUINEA'),\n",
        "    ('GW', 'GUINEA'),\n",
        "    ('GY', 'GUYANA'),\n",
        "    ('HT', 'HAITI'),\n",
        "    ('HM', 'HEARD ISLAND AND MCDONALD ISLANDS'),\n",
        "    ('HN', 'HONDURAS'),\n",
        "    ('HK', 'HONG KONG'),\n",
        "    ('HU', 'HUNGARY'),\n",
        "    ('IS', 'ICELAND'),\n",
        "    ('IN', 'INDIA'),\n",
        "    ('ID', 'INDONESIA'),\n",
        "    ('IR', 'IRAN, ISLAMIC REPUBLIC OF'),\n",
        "    ('IQ', 'IRAQ'),\n",
        "    ('IE', 'IRELAND'),\n",
        "    ('IL', 'ISRAEL'),\n",
        "    ('IT', 'ITALY'),\n",
        "    ('JM', 'JAMAICA'),\n",
        "    ('JP', 'JAPAN'),\n",
        "    ('JO', 'JORDAN'),\n",
        "    ('KZ', 'KAZAKHSTAN'),\n",
        "    ('KE', 'KENYA'),\n",
        "    ('KI', 'KIRIBATI'),\n",
        "    ('KP', \"KOREA, DEMOCRATIC PEOPLE'S REPUBLIC OF\"),\n",
        "    ('KR', 'KOREA, REPUBLIC OF'),\n",
        "    ('KW', 'KUWAIT'),\n",
        "    ('KG', 'KYRGYZSTAN'),\n",
        "    ('LA', \"LAO PEOPLE'S DEMOCRATIC REPUBLIC\"),\n",
        "    ('LV', 'LATVIA'),\n",
        "    ('LB', 'LEBANON'),\n",
        "    ('LS', 'LESOTHO'),\n",
        "    ('LR', 'LIBERIA'),\n",
        "    ('LY', 'LIBYAN ARAB JAMAHIRIYA'),\n",
        "    ('LI', 'LIECHTENSTEIN'),\n",
        "    ('LT', 'LITHUANIA'),\n",
        "    ('LU', 'LUXEMBOURG'),\n",
        "    ('MO', 'MACAO'),\n",
        "    ('MK', 'MACEDONIA, THE FORMER YUGOSLAV REPUBLIC OF'),\n",
        "    ('MG', 'MADAGASCAR'),\n",
        "    ('MW', 'MALAWI'),\n",
        "    ('MY', 'MALAYSIA'),\n",
        "    ('MV', 'MALDIVES'),\n",
        "    ('ML', 'MALI'),\n",
        "    ('MT', 'MALTA'),\n",
        "    ('MH', 'MARSHALL ISLANDS'),\n",
        "    ('MQ', 'MARTINIQUE'),\n",
        "    ('MR', 'MAURITANIA'),\n",
        "    ('MU', 'MAURITIUS'),\n",
        "    ('YT', 'MAYOTTE'),\n",
        "    ('MX', 'MEXICO'),\n",
        "    ('FM', 'MICRONESIA, FEDERATED STATES OF'),\n",
        "    ('MD', 'MOLDOVA, REPUBLIC OF'),\n",
        "    ('MC', 'MONACO'),\n",
        "    ('MN', 'MONGOLIA'),\n",
        "    ('MS', 'MONTSERRAT'),\n",
        "    ('MA', 'MOROCCO'),\n",
        "    ('MZ', 'MOZAMBIQUE'),\n",
        "    ('MM', 'MYANMAR'),\n",
        "    ('NA', 'NAMIBIA'),\n",
        "    ('NR', 'NAURU'),\n",
        "    ('NP', 'NEPAL'),\n",
        "    ('NL', 'NETHERLANDS'),\n",
        "    ('AN', 'NETHERLANDS ANTILLES'),\n",
        "    ('NC', 'NEW CALEDONIA'),\n",
        "    ('NZ', 'NEW ZEALAND'),\n",
        "    ('NI', 'NICARAGUA'),\n",
        "    ('NE', 'NIGER'),\n",
        "    ('NG', 'NIGERIA'),\n",
        "    ('NU', 'NIUE'),\n",
        "    ('NF', 'NORFOLK ISLAND'),\n",
        "    ('MP', 'NORTHERN MARIANA ISLANDS'),\n",
        "    ('NO', 'NORWAY'),\n",
        "    ('OM', 'OMAN'),\n",
        "    ('PK', 'PAKISTAN'),\n",
        "    ('PW', 'PALAU'),\n",
        "    ('PS', 'PALESTINIAN TERRITORY, OCCUPIED'),\n",
        "    ('PA', 'PANAMA'),\n",
        "    ('PG', 'PAPUA NEW GUINEA'),\n",
        "    ('PY', 'PARAGUAY'),\n",
        "    ('PE', 'PERU'),\n",
        "    ('PH', 'PHILIPPINES'),\n",
        "    ('PN', 'PITCAIRN'),\n",
        "    ('PL', 'POLAND'),\n",
        "    ('PT', 'PORTUGAL'),\n",
        "    ('PR', 'PUERTO RICO'),\n",
        "    ('QA', 'QATAR'),\n",
        "    ('RE', 'RÃ‰UNION'),\n",
        "    ('RO', 'ROMANIA'),\n",
        "    ('RU', 'RUSSIAN FEDERATION'),\n",
        "    ('RW', 'RWANDA'),\n",
        "    ('SH', 'SAINT HELENA'),\n",
        "    ('KN', 'SAINT KITTS AND NEVIS'),\n",
        "    ('LC', 'SAINT LUCIA'),\n",
        "    ('PM', 'SAINT PIERRE AND MIQUELON'),\n",
        "    ('VC', 'SAINT VINCENT AND THE GRENADINES'),\n",
        "    ('WS', 'SAMOA'),\n",
        "    ('SM', 'SAN MARINO'),\n",
        "    ('ST', 'SAO TOME AND PRINCIPE'),\n",
        "    ('SA', 'SAUDI ARABIA'),\n",
        "    ('SN', 'SENEGAL'),\n",
        "    ('CS', 'SERBIA AND MONTENEGRO'),\n",
        "    ('SC', 'SEYCHELLES'),\n",
        "    ('SL', 'SIERRA LEONE'),\n",
        "    ('SG', 'SINGAPORE'),\n",
        "    ('SK', 'SLOVAKIA'),\n",
        "    ('SI', 'SLOVENIA'),\n",
        "    ('SB', 'SOLOMON ISLANDS'),\n",
        "    ('SO', 'SOMALIA'),\n",
        "    ('ZA', 'SOUTH AFRICA'),\n",
        "    ('GS', 'SOUTH GEORGIA AND SOUTH SANDWICH ISLANDS'),\n",
        "    ('ES', 'SPAIN'),\n",
        "    ('LK', 'SRI LANKA'),\n",
        "    ('SD', 'SUDAN'),\n",
        "    ('SR', 'SURINAME'),\n",
        "    ('SJ', 'SVALBARD AND JAN MAYEN'),\n",
        "    ('SZ', 'SWAZILAND'),\n",
        "    ('SE', 'SWEDEN'),\n",
        "    ('CH', 'SWITZERLAND'),\n",
        "    ('SY', 'SYRIAN ARAB REPUBLIC'),\n",
        "    ('TW', 'TAIWAN, PROVINCE OF CHINA'),\n",
        "    ('TJ', 'TAJIKISTAN'),\n",
        "    ('TZ', 'TANZANIA, UNITED REPUBLIC OF'),\n",
        "    ('TH', 'THAILAND'),\n",
        "    ('TL', 'TIMOR'),\n",
        "    ('TG', 'TOGO'),\n",
        "    ('TK', 'TOKELAU'),\n",
        "    ('TO', 'TONGA'),\n",
        "    ('TT', 'TRINIDAD AND TOBAGO'),\n",
        "    ('TN', 'TUNISIA'),\n",
        "    ('TR', 'TURKEY'),\n",
        "    ('TM', 'TURKMENISTAN'),\n",
        "    ('TC', 'TURKS AND CAICOS ISLANDS'),\n",
        "    ('TV', 'TUVALU'),\n",
        "    ('UG', 'UGANDA'),\n",
        "    ('UA', 'UKRAINE'),\n",
        "    ('AE', 'UNITED ARAB EMIRATES'),\n",
        "    ('GB', 'UNITED KINGDOM'),\n",
        "    ('US', 'UNITED STATES'),\n",
        "    ('UM', 'UNITED STATES MINOR OUTLYING ISLANDS'),\n",
        "    ('UY', 'URUGUAY'),\n",
        "    ('UZ', 'UZBEKISTAN'),\n",
        "    ('VU', 'VANUATU'),\n",
        "    ('VN', 'VIET NAM'),\n",
        "    ('VG', 'VIRGIN ISLANDS, BRITISH'),\n",
        "    ('VI', 'VIRGIN ISLANDS, U.S.'),\n",
        "    ('WF', 'WALLIS AND FUTUNA'),\n",
        "    ('EH', 'WESTERN SAHARA'),\n",
        "    ('YE', 'YEMEN'),\n",
        "    ('ZW', 'ZIMBABWE')\n",
        ")"
      ],
      "metadata": {
        "execution": {
          "iopub.status.busy": "2024-03-23T04:02:05.142318Z",
          "iopub.execute_input": "2024-03-23T04:02:05.142658Z",
          "iopub.status.idle": "2024-03-23T04:02:05.169909Z",
          "shell.execute_reply.started": "2024-03-23T04:02:05.142632Z",
          "shell.execute_reply": "2024-03-23T04:02:05.168839Z"
        },
        "trusted": true,
        "id": "tVt1VGnRbQHG"
      },
      "execution_count": null,
      "outputs": []
    },
    {
      "cell_type": "code",
      "source": [
        "list_of_countries = []\n",
        "for i in countries:\n",
        "    list_of_countries.append(i[1].lower())"
      ],
      "metadata": {
        "execution": {
          "iopub.status.busy": "2024-03-23T04:02:05.171333Z",
          "iopub.execute_input": "2024-03-23T04:02:05.171745Z",
          "iopub.status.idle": "2024-03-23T04:02:05.182684Z",
          "shell.execute_reply.started": "2024-03-23T04:02:05.171711Z",
          "shell.execute_reply": "2024-03-23T04:02:05.181822Z"
        },
        "trusted": true,
        "id": "l4kC0UkfbQHG"
      },
      "execution_count": null,
      "outputs": []
    },
    {
      "cell_type": "code",
      "source": [
        "print(list_of_countries)"
      ],
      "metadata": {
        "execution": {
          "iopub.status.busy": "2024-03-23T04:02:05.183815Z",
          "iopub.execute_input": "2024-03-23T04:02:05.184205Z",
          "iopub.status.idle": "2024-03-23T04:02:05.192007Z",
          "shell.execute_reply.started": "2024-03-23T04:02:05.184171Z",
          "shell.execute_reply": "2024-03-23T04:02:05.190949Z"
        },
        "trusted": true,
        "id": "UddM7ECSbQHG",
        "outputId": "3282a3e3-ee22-472e-fa17-00ba13c9ee51"
      },
      "execution_count": null,
      "outputs": [
        {
          "name": "stdout",
          "text": "['afghanistan', 'albania', 'algeria', 'american samoa', 'andorra', 'angola', 'anguilla', 'antarctica', 'antigua and barbuda', 'argentina', 'armenia', 'aruba', 'australia', 'austria', 'azerbaijan', 'bahamas', 'bahrain', 'bangladesh', 'barbados', 'belarus', 'belgium', 'belize', 'benin', 'bermuda', 'bhutan', 'bolivia', 'bosnia and herzegovina', 'botswana', 'bouvet island', 'brazil', 'british indian ocean territory', 'brunei darussalam', 'bulgaria', 'burkina faso', 'burundi', 'cambodia', 'cameroon', 'canada', 'cape verde', 'cayman islands', 'central african republic', 'chad', 'chile', 'china', 'christmas island', 'cocos (keeling) islands', 'colombia', 'comoros', 'congo', 'congo, the democratic republic of', 'cook islands', 'costa rica', \"cã”te d'ivoire\", 'croatia', 'cuba', 'cyprus', 'czech republic', 'denmark', 'djibouti', 'dominica', 'dominican republic', 'ecuador', 'egypt', 'el salvador', 'equatorial guinea', 'eritrea', 'estonia', 'ethiopia', 'falkland islands (malvinas)', 'faroe islands', 'fiji', 'finland', 'france', 'french guiana', 'french polynesia', 'french southern territories', 'gabon', 'gambia', 'georgia', 'germany', 'ghana', 'gibraltar', 'greece', 'greenland', 'grenada', 'guadeloupe', 'guam', 'guatemala', 'guinea', 'guinea', 'guyana', 'haiti', 'heard island and mcdonald islands', 'honduras', 'hong kong', 'hungary', 'iceland', 'india', 'indonesia', 'iran, islamic republic of', 'iraq', 'ireland', 'israel', 'italy', 'jamaica', 'japan', 'jordan', 'kazakhstan', 'kenya', 'kiribati', \"korea, democratic people's republic of\", 'korea, republic of', 'kuwait', 'kyrgyzstan', \"lao people's democratic republic\", 'latvia', 'lebanon', 'lesotho', 'liberia', 'libyan arab jamahiriya', 'liechtenstein', 'lithuania', 'luxembourg', 'macao', 'macedonia, the former yugoslav republic of', 'madagascar', 'malawi', 'malaysia', 'maldives', 'mali', 'malta', 'marshall islands', 'martinique', 'mauritania', 'mauritius', 'mayotte', 'mexico', 'micronesia, federated states of', 'moldova, republic of', 'monaco', 'mongolia', 'montserrat', 'morocco', 'mozambique', 'myanmar', 'namibia', 'nauru', 'nepal', 'netherlands', 'netherlands antilles', 'new caledonia', 'new zealand', 'nicaragua', 'niger', 'nigeria', 'niue', 'norfolk island', 'northern mariana islands', 'norway', 'oman', 'pakistan', 'palau', 'palestinian territory, occupied', 'panama', 'papua new guinea', 'paraguay', 'peru', 'philippines', 'pitcairn', 'poland', 'portugal', 'puerto rico', 'qatar', 'rã‰union', 'romania', 'russian federation', 'rwanda', 'saint helena', 'saint kitts and nevis', 'saint lucia', 'saint pierre and miquelon', 'saint vincent and the grenadines', 'samoa', 'san marino', 'sao tome and principe', 'saudi arabia', 'senegal', 'serbia and montenegro', 'seychelles', 'sierra leone', 'singapore', 'slovakia', 'slovenia', 'solomon islands', 'somalia', 'south africa', 'south georgia and south sandwich islands', 'spain', 'sri lanka', 'sudan', 'suriname', 'svalbard and jan mayen', 'swaziland', 'sweden', 'switzerland', 'syrian arab republic', 'taiwan, province of china', 'tajikistan', 'tanzania, united republic of', 'thailand', 'timor', 'togo', 'tokelau', 'tonga', 'trinidad and tobago', 'tunisia', 'turkey', 'turkmenistan', 'turks and caicos islands', 'tuvalu', 'uganda', 'ukraine', 'united arab emirates', 'united kingdom', 'united states', 'united states minor outlying islands', 'uruguay', 'uzbekistan', 'vanuatu', 'viet nam', 'virgin islands, british', 'virgin islands, u.s.', 'wallis and futuna', 'western sahara', 'yemen', 'zimbabwe']\n",
          "output_type": "stream"
        }
      ]
    },
    {
      "cell_type": "markdown",
      "source": [
        "#### Filtering users based on our list_of_countries values"
      ],
      "metadata": {
        "id": "5-wd0iRBbQHG"
      }
    },
    {
      "cell_type": "code",
      "source": [
        "users_df = users_df[users_df['Country'].isin(list_of_countries)]\n",
        "users_df"
      ],
      "metadata": {
        "execution": {
          "iopub.status.busy": "2024-03-23T04:02:05.193438Z",
          "iopub.execute_input": "2024-03-23T04:02:05.194156Z",
          "iopub.status.idle": "2024-03-23T04:02:05.25012Z",
          "shell.execute_reply.started": "2024-03-23T04:02:05.194102Z",
          "shell.execute_reply": "2024-03-23T04:02:05.249047Z"
        },
        "trusted": true,
        "id": "IYNxW32ubQHG",
        "outputId": "a19b3155-3107-4eba-e6b8-230d344d9264"
      },
      "execution_count": null,
      "outputs": [
        {
          "execution_count": 30,
          "output_type": "execute_result",
          "data": {
            "text/plain": "         User-ID  Age         City       State         Country\n3            4.0   17        porto    v.n.gaia        portugal\n4            5.0   34  farnborough       hants  united kingdom\n7            8.0   34      timmins     ontario          canada\n9           10.0   26     albacete   wisconsin           spain\n10          11.0   14    melbourne    victoria       australia\n...          ...  ...          ...         ...             ...\n278851  278852.0   32     brisbane  queensland       australia\n278852  278853.0   17    stranraer         n/a  united kingdom\n278854  278855.0   50       tacoma  washington  united kingdom\n278855  278856.0   34     brampton     ontario          canada\n278857  278858.0   34       dublin         n/a         ireland\n\n[129628 rows x 5 columns]",
            "text/html": "<div>\n<style scoped>\n    .dataframe tbody tr th:only-of-type {\n        vertical-align: middle;\n    }\n\n    .dataframe tbody tr th {\n        vertical-align: top;\n    }\n\n    .dataframe thead th {\n        text-align: right;\n    }\n</style>\n<table border=\"1\" class=\"dataframe\">\n  <thead>\n    <tr style=\"text-align: right;\">\n      <th></th>\n      <th>User-ID</th>\n      <th>Age</th>\n      <th>City</th>\n      <th>State</th>\n      <th>Country</th>\n    </tr>\n  </thead>\n  <tbody>\n    <tr>\n      <th>3</th>\n      <td>4.0</td>\n      <td>17</td>\n      <td>porto</td>\n      <td>v.n.gaia</td>\n      <td>portugal</td>\n    </tr>\n    <tr>\n      <th>4</th>\n      <td>5.0</td>\n      <td>34</td>\n      <td>farnborough</td>\n      <td>hants</td>\n      <td>united kingdom</td>\n    </tr>\n    <tr>\n      <th>7</th>\n      <td>8.0</td>\n      <td>34</td>\n      <td>timmins</td>\n      <td>ontario</td>\n      <td>canada</td>\n    </tr>\n    <tr>\n      <th>9</th>\n      <td>10.0</td>\n      <td>26</td>\n      <td>albacete</td>\n      <td>wisconsin</td>\n      <td>spain</td>\n    </tr>\n    <tr>\n      <th>10</th>\n      <td>11.0</td>\n      <td>14</td>\n      <td>melbourne</td>\n      <td>victoria</td>\n      <td>australia</td>\n    </tr>\n    <tr>\n      <th>...</th>\n      <td>...</td>\n      <td>...</td>\n      <td>...</td>\n      <td>...</td>\n      <td>...</td>\n    </tr>\n    <tr>\n      <th>278851</th>\n      <td>278852.0</td>\n      <td>32</td>\n      <td>brisbane</td>\n      <td>queensland</td>\n      <td>australia</td>\n    </tr>\n    <tr>\n      <th>278852</th>\n      <td>278853.0</td>\n      <td>17</td>\n      <td>stranraer</td>\n      <td>n/a</td>\n      <td>united kingdom</td>\n    </tr>\n    <tr>\n      <th>278854</th>\n      <td>278855.0</td>\n      <td>50</td>\n      <td>tacoma</td>\n      <td>washington</td>\n      <td>united kingdom</td>\n    </tr>\n    <tr>\n      <th>278855</th>\n      <td>278856.0</td>\n      <td>34</td>\n      <td>brampton</td>\n      <td>ontario</td>\n      <td>canada</td>\n    </tr>\n    <tr>\n      <th>278857</th>\n      <td>278858.0</td>\n      <td>34</td>\n      <td>dublin</td>\n      <td>n/a</td>\n      <td>ireland</td>\n    </tr>\n  </tbody>\n</table>\n<p>129628 rows × 5 columns</p>\n</div>"
          },
          "metadata": {}
        }
      ]
    },
    {
      "cell_type": "markdown",
      "source": [
        "#### Now selecting states and cities with atleast 4 characters and filtering it out with junk characters"
      ],
      "metadata": {
        "id": "wM7rWcxfbQHG"
      }
    },
    {
      "cell_type": "code",
      "source": [
        "list_of_states = users_df['State'].str.extract(r'(^[a-z]{4}[a-z]*|^[a-z]{1}[a-z]*\\w[a-z]{4})')[0].unique()"
      ],
      "metadata": {
        "execution": {
          "iopub.status.busy": "2024-03-23T04:02:05.251333Z",
          "iopub.execute_input": "2024-03-23T04:02:05.251625Z",
          "iopub.status.idle": "2024-03-23T04:02:05.693194Z",
          "shell.execute_reply.started": "2024-03-23T04:02:05.251601Z",
          "shell.execute_reply": "2024-03-23T04:02:05.692131Z"
        },
        "trusted": true,
        "id": "6yDWfYNWbQHG"
      },
      "execution_count": null,
      "outputs": []
    },
    {
      "cell_type": "code",
      "source": [
        "users_df = users_df[users_df['State'].isin(list_of_states)]"
      ],
      "metadata": {
        "execution": {
          "iopub.status.busy": "2024-03-23T04:02:05.694305Z",
          "iopub.execute_input": "2024-03-23T04:02:05.694596Z",
          "iopub.status.idle": "2024-03-23T04:02:05.731755Z",
          "shell.execute_reply.started": "2024-03-23T04:02:05.694571Z",
          "shell.execute_reply": "2024-03-23T04:02:05.730864Z"
        },
        "trusted": true,
        "id": "vIbqzRfabQHG"
      },
      "execution_count": null,
      "outputs": []
    },
    {
      "cell_type": "code",
      "source": [
        "list_of_city = users_df['City'].str.extract(r'(^[a-z]{4}[a-z]*|^[a-z]{1}[a-z]*\\w[a-z]{4})')[0].unique()\n",
        "users_df = users_df[users_df['City'].isin(list_of_city)]"
      ],
      "metadata": {
        "execution": {
          "iopub.status.busy": "2024-03-23T04:02:05.732843Z",
          "iopub.execute_input": "2024-03-23T04:02:05.733161Z",
          "iopub.status.idle": "2024-03-23T04:02:05.924848Z",
          "shell.execute_reply.started": "2024-03-23T04:02:05.733134Z",
          "shell.execute_reply": "2024-03-23T04:02:05.923834Z"
        },
        "trusted": true,
        "id": "n8ybfAHZbQHG"
      },
      "execution_count": null,
      "outputs": []
    },
    {
      "cell_type": "code",
      "source": [
        "print(\"Unique country count: \" , users_df['Country'].nunique())\n",
        "print(\"Unique state count: \" ,users_df['State'].nunique())\n",
        "print(\"Unique City count: \" , users_df['City'].nunique())"
      ],
      "metadata": {
        "execution": {
          "iopub.status.busy": "2024-03-23T04:02:05.926296Z",
          "iopub.execute_input": "2024-03-23T04:02:05.926682Z",
          "iopub.status.idle": "2024-03-23T04:02:05.978323Z",
          "shell.execute_reply.started": "2024-03-23T04:02:05.926646Z",
          "shell.execute_reply": "2024-03-23T04:02:05.977325Z"
        },
        "trusted": true,
        "id": "C1JKsiOJbQHG",
        "outputId": "73f17655-b9ba-4535-e3e6-1d6f1b566589"
      },
      "execution_count": null,
      "outputs": [
        {
          "name": "stdout",
          "text": "Unique country count:  154\nUnique state count:  2192\nUnique City count:  8452\n",
          "output_type": "stream"
        }
      ]
    },
    {
      "cell_type": "markdown",
      "source": [
        "#### Filtering the books dataset. Removing unrelated attributes"
      ],
      "metadata": {
        "id": "ukPbJjr9bQHG"
      }
    },
    {
      "cell_type": "code",
      "source": [
        "books_df.head(5)"
      ],
      "metadata": {
        "execution": {
          "iopub.status.busy": "2024-03-23T04:02:05.979513Z",
          "iopub.execute_input": "2024-03-23T04:02:05.979819Z",
          "iopub.status.idle": "2024-03-23T04:02:05.993856Z",
          "shell.execute_reply.started": "2024-03-23T04:02:05.979794Z",
          "shell.execute_reply": "2024-03-23T04:02:05.992567Z"
        },
        "trusted": true,
        "id": "7_O4oBiZbQHG",
        "outputId": "057ae0b3-672b-4bcd-d2e3-ce44ca410564"
      },
      "execution_count": null,
      "outputs": [
        {
          "execution_count": 35,
          "output_type": "execute_result",
          "data": {
            "text/plain": "         ISBN  \\\n0  0195153448   \n1  0002005018   \n2  0060973129   \n3  0374157065   \n4  0393045218   \n\n                                                                                           Book-Title  \\\n0                                                                                 Classical Mythology   \n1                                                                                        Clara Callan   \n2                                                                                Decision in Normandy   \n3  Flu: The Story of the Great Influenza Pandemic of 1918 and the Search for the Virus That Caused It   \n4                                                                              The Mummies of Urumchi   \n\n            Book-Author Year-Of-Publication                   Publisher  \\\n0    Mark P. O. Morford                2002     Oxford University Press   \n1  Richard Bruce Wright                2001       HarperFlamingo Canada   \n2          Carlo D'Este                1991             HarperPerennial   \n3      Gina Bari Kolata                1999        Farrar Straus Giroux   \n4       E. J. W. Barber                1999  W. W. Norton &amp; Company   \n\n                                                    Image-URL-S  \\\n0  http://images.amazon.com/images/P/0195153448.01.THUMBZZZ.jpg   \n1  http://images.amazon.com/images/P/0002005018.01.THUMBZZZ.jpg   \n2  http://images.amazon.com/images/P/0060973129.01.THUMBZZZ.jpg   \n3  http://images.amazon.com/images/P/0374157065.01.THUMBZZZ.jpg   \n4  http://images.amazon.com/images/P/0393045218.01.THUMBZZZ.jpg   \n\n                                                    Image-URL-M  \\\n0  http://images.amazon.com/images/P/0195153448.01.MZZZZZZZ.jpg   \n1  http://images.amazon.com/images/P/0002005018.01.MZZZZZZZ.jpg   \n2  http://images.amazon.com/images/P/0060973129.01.MZZZZZZZ.jpg   \n3  http://images.amazon.com/images/P/0374157065.01.MZZZZZZZ.jpg   \n4  http://images.amazon.com/images/P/0393045218.01.MZZZZZZZ.jpg   \n\n                                                    Image-URL-L  \n0  http://images.amazon.com/images/P/0195153448.01.LZZZZZZZ.jpg  \n1  http://images.amazon.com/images/P/0002005018.01.LZZZZZZZ.jpg  \n2  http://images.amazon.com/images/P/0060973129.01.LZZZZZZZ.jpg  \n3  http://images.amazon.com/images/P/0374157065.01.LZZZZZZZ.jpg  \n4  http://images.amazon.com/images/P/0393045218.01.LZZZZZZZ.jpg  ",
            "text/html": "<div>\n<style scoped>\n    .dataframe tbody tr th:only-of-type {\n        vertical-align: middle;\n    }\n\n    .dataframe tbody tr th {\n        vertical-align: top;\n    }\n\n    .dataframe thead th {\n        text-align: right;\n    }\n</style>\n<table border=\"1\" class=\"dataframe\">\n  <thead>\n    <tr style=\"text-align: right;\">\n      <th></th>\n      <th>ISBN</th>\n      <th>Book-Title</th>\n      <th>Book-Author</th>\n      <th>Year-Of-Publication</th>\n      <th>Publisher</th>\n      <th>Image-URL-S</th>\n      <th>Image-URL-M</th>\n      <th>Image-URL-L</th>\n    </tr>\n  </thead>\n  <tbody>\n    <tr>\n      <th>0</th>\n      <td>0195153448</td>\n      <td>Classical Mythology</td>\n      <td>Mark P. O. Morford</td>\n      <td>2002</td>\n      <td>Oxford University Press</td>\n      <td>http://images.amazon.com/images/P/0195153448.01.THUMBZZZ.jpg</td>\n      <td>http://images.amazon.com/images/P/0195153448.01.MZZZZZZZ.jpg</td>\n      <td>http://images.amazon.com/images/P/0195153448.01.LZZZZZZZ.jpg</td>\n    </tr>\n    <tr>\n      <th>1</th>\n      <td>0002005018</td>\n      <td>Clara Callan</td>\n      <td>Richard Bruce Wright</td>\n      <td>2001</td>\n      <td>HarperFlamingo Canada</td>\n      <td>http://images.amazon.com/images/P/0002005018.01.THUMBZZZ.jpg</td>\n      <td>http://images.amazon.com/images/P/0002005018.01.MZZZZZZZ.jpg</td>\n      <td>http://images.amazon.com/images/P/0002005018.01.LZZZZZZZ.jpg</td>\n    </tr>\n    <tr>\n      <th>2</th>\n      <td>0060973129</td>\n      <td>Decision in Normandy</td>\n      <td>Carlo D'Este</td>\n      <td>1991</td>\n      <td>HarperPerennial</td>\n      <td>http://images.amazon.com/images/P/0060973129.01.THUMBZZZ.jpg</td>\n      <td>http://images.amazon.com/images/P/0060973129.01.MZZZZZZZ.jpg</td>\n      <td>http://images.amazon.com/images/P/0060973129.01.LZZZZZZZ.jpg</td>\n    </tr>\n    <tr>\n      <th>3</th>\n      <td>0374157065</td>\n      <td>Flu: The Story of the Great Influenza Pandemic of 1918 and the Search for the Virus That Caused It</td>\n      <td>Gina Bari Kolata</td>\n      <td>1999</td>\n      <td>Farrar Straus Giroux</td>\n      <td>http://images.amazon.com/images/P/0374157065.01.THUMBZZZ.jpg</td>\n      <td>http://images.amazon.com/images/P/0374157065.01.MZZZZZZZ.jpg</td>\n      <td>http://images.amazon.com/images/P/0374157065.01.LZZZZZZZ.jpg</td>\n    </tr>\n    <tr>\n      <th>4</th>\n      <td>0393045218</td>\n      <td>The Mummies of Urumchi</td>\n      <td>E. J. W. Barber</td>\n      <td>1999</td>\n      <td>W. W. Norton &amp;amp; Company</td>\n      <td>http://images.amazon.com/images/P/0393045218.01.THUMBZZZ.jpg</td>\n      <td>http://images.amazon.com/images/P/0393045218.01.MZZZZZZZ.jpg</td>\n      <td>http://images.amazon.com/images/P/0393045218.01.LZZZZZZZ.jpg</td>\n    </tr>\n  </tbody>\n</table>\n</div>"
          },
          "metadata": {}
        }
      ]
    },
    {
      "cell_type": "code",
      "source": [
        "books_df = books_df.drop(['Image-URL-S','Image-URL-M','Image-URL-L'],axis = 1)\n",
        "books_df"
      ],
      "metadata": {
        "execution": {
          "iopub.status.busy": "2024-03-23T04:02:05.99522Z",
          "iopub.execute_input": "2024-03-23T04:02:05.995594Z",
          "iopub.status.idle": "2024-03-23T04:02:06.032099Z",
          "shell.execute_reply.started": "2024-03-23T04:02:05.995566Z",
          "shell.execute_reply": "2024-03-23T04:02:06.03095Z"
        },
        "trusted": true,
        "id": "8eVBA8mdbQHG",
        "outputId": "c996c07c-6e64-453b-fc5a-7b193b34893c"
      },
      "execution_count": null,
      "outputs": [
        {
          "execution_count": 36,
          "output_type": "execute_result",
          "data": {
            "text/plain": "              ISBN  \\\n0       0195153448   \n1       0002005018   \n2       0060973129   \n3       0374157065   \n4       0393045218   \n...            ...   \n271355  0440400988   \n271356  0525447644   \n271357  006008667X   \n271358  0192126040   \n271359  0767409752   \n\n                                                                                                                            Book-Title  \\\n0                                                                                                                  Classical Mythology   \n1                                                                                                                         Clara Callan   \n2                                                                                                                 Decision in Normandy   \n3                                   Flu: The Story of the Great Influenza Pandemic of 1918 and the Search for the Virus That Caused It   \n4                                                                                                               The Mummies of Urumchi   \n...                                                                                                                                ...   \n271355                                                                                                      There's a Bat in Bunk Five   \n271356                                                                                                         From One to One Hundred   \n271357                                                                   Lily Dale : The True Story of the Town that Talks to the Dead   \n271358                                                                                                     Republic (World's Classics)   \n271359  A Guided Tour of Rene Descartes' Meditations on First Philosophy with Complete Translations of the Meditations by Ronald Rubin   \n\n                 Book-Author Year-Of-Publication  \\\n0         Mark P. O. Morford                2002   \n1       Richard Bruce Wright                2001   \n2               Carlo D'Este                1991   \n3           Gina Bari Kolata                1999   \n4            E. J. W. Barber                1999   \n...                      ...                 ...   \n271355        Paula Danziger                1988   \n271356            Teri Sloat                1991   \n271357      Christine Wicker                2004   \n271358                 Plato                1996   \n271359   Christopher  Biffle                2000   \n\n                                               Publisher  \n0                                Oxford University Press  \n1                                  HarperFlamingo Canada  \n2                                        HarperPerennial  \n3                                   Farrar Straus Giroux  \n4                             W. W. Norton &amp; Company  \n...                                                  ...  \n271355                   Random House Childrens Pub (Mm)  \n271356                                      Dutton Books  \n271357                                HarperSanFrancisco  \n271358                           Oxford University Press  \n271359  McGraw-Hill Humanities/Social Sciences/Languages  \n\n[271360 rows x 5 columns]",
            "text/html": "<div>\n<style scoped>\n    .dataframe tbody tr th:only-of-type {\n        vertical-align: middle;\n    }\n\n    .dataframe tbody tr th {\n        vertical-align: top;\n    }\n\n    .dataframe thead th {\n        text-align: right;\n    }\n</style>\n<table border=\"1\" class=\"dataframe\">\n  <thead>\n    <tr style=\"text-align: right;\">\n      <th></th>\n      <th>ISBN</th>\n      <th>Book-Title</th>\n      <th>Book-Author</th>\n      <th>Year-Of-Publication</th>\n      <th>Publisher</th>\n    </tr>\n  </thead>\n  <tbody>\n    <tr>\n      <th>0</th>\n      <td>0195153448</td>\n      <td>Classical Mythology</td>\n      <td>Mark P. O. Morford</td>\n      <td>2002</td>\n      <td>Oxford University Press</td>\n    </tr>\n    <tr>\n      <th>1</th>\n      <td>0002005018</td>\n      <td>Clara Callan</td>\n      <td>Richard Bruce Wright</td>\n      <td>2001</td>\n      <td>HarperFlamingo Canada</td>\n    </tr>\n    <tr>\n      <th>2</th>\n      <td>0060973129</td>\n      <td>Decision in Normandy</td>\n      <td>Carlo D'Este</td>\n      <td>1991</td>\n      <td>HarperPerennial</td>\n    </tr>\n    <tr>\n      <th>3</th>\n      <td>0374157065</td>\n      <td>Flu: The Story of the Great Influenza Pandemic of 1918 and the Search for the Virus That Caused It</td>\n      <td>Gina Bari Kolata</td>\n      <td>1999</td>\n      <td>Farrar Straus Giroux</td>\n    </tr>\n    <tr>\n      <th>4</th>\n      <td>0393045218</td>\n      <td>The Mummies of Urumchi</td>\n      <td>E. J. W. Barber</td>\n      <td>1999</td>\n      <td>W. W. Norton &amp;amp; Company</td>\n    </tr>\n    <tr>\n      <th>...</th>\n      <td>...</td>\n      <td>...</td>\n      <td>...</td>\n      <td>...</td>\n      <td>...</td>\n    </tr>\n    <tr>\n      <th>271355</th>\n      <td>0440400988</td>\n      <td>There's a Bat in Bunk Five</td>\n      <td>Paula Danziger</td>\n      <td>1988</td>\n      <td>Random House Childrens Pub (Mm)</td>\n    </tr>\n    <tr>\n      <th>271356</th>\n      <td>0525447644</td>\n      <td>From One to One Hundred</td>\n      <td>Teri Sloat</td>\n      <td>1991</td>\n      <td>Dutton Books</td>\n    </tr>\n    <tr>\n      <th>271357</th>\n      <td>006008667X</td>\n      <td>Lily Dale : The True Story of the Town that Talks to the Dead</td>\n      <td>Christine Wicker</td>\n      <td>2004</td>\n      <td>HarperSanFrancisco</td>\n    </tr>\n    <tr>\n      <th>271358</th>\n      <td>0192126040</td>\n      <td>Republic (World's Classics)</td>\n      <td>Plato</td>\n      <td>1996</td>\n      <td>Oxford University Press</td>\n    </tr>\n    <tr>\n      <th>271359</th>\n      <td>0767409752</td>\n      <td>A Guided Tour of Rene Descartes' Meditations on First Philosophy with Complete Translations of the Meditations by Ronald Rubin</td>\n      <td>Christopher  Biffle</td>\n      <td>2000</td>\n      <td>McGraw-Hill Humanities/Social Sciences/Languages</td>\n    </tr>\n  </tbody>\n</table>\n<p>271360 rows × 5 columns</p>\n</div>"
          },
          "metadata": {}
        }
      ]
    },
    {
      "cell_type": "code",
      "source": [
        "books_df['Year-Of-Publication'].unique()\n"
      ],
      "metadata": {
        "execution": {
          "iopub.status.busy": "2024-03-23T04:02:06.033341Z",
          "iopub.execute_input": "2024-03-23T04:02:06.033664Z",
          "iopub.status.idle": "2024-03-23T04:02:06.05755Z",
          "shell.execute_reply.started": "2024-03-23T04:02:06.033638Z",
          "shell.execute_reply": "2024-03-23T04:02:06.056204Z"
        },
        "trusted": true,
        "id": "AEkzmaykbQHG",
        "outputId": "c7e98f62-3dce-4871-9601-f245a4410ae6"
      },
      "execution_count": null,
      "outputs": [
        {
          "execution_count": 37,
          "output_type": "execute_result",
          "data": {
            "text/plain": "array(['2002', '2001', '1991', '1999', '2000', '1993', '1996', '1988',\n       '2004', '1998', '1994', '2003', '1997', '1983', '1979', '1995',\n       '1982', '1985', '1992', '1986', '1978', '1980', '1952', '1987',\n       '1990', '1981', '1989', '1984', '0', '1968', '1961', '1958',\n       '1974', '1976', '1971', '1977', '1975', '1965', '1941', '1970',\n       '1962', '1973', '1972', '1960', '1966', '1920', '1956', '1959',\n       '1953', '1951', '1942', '1963', '1964', '1969', '1954', '1950',\n       '1967', '2005', '1957', '1940', '1937', '1955', '1946', '1936',\n       '1930', '2011', '1925', '1948', '1943', '1947', '1945', '1923',\n       '2020', '1939', '1926', '1938', '2030', '1911', '1904', '1949',\n       '1932', '1928', '1929', '1927', '1931', '1914', '2050', '1934',\n       '1910', '1933', '1902', '1924', '1921', '1900', '2038', '2026',\n       '1944', '1917', '1901', '2010', '1908', '1906', '1935', '1806',\n       '2021', '2012', '2006', 'DK Publishing Inc', 'Gallimard', '1909',\n       '2008', '1378', '1919', '1922', '1897', '2024', '1376', '2037'],\n      dtype=object)"
          },
          "metadata": {}
        }
      ]
    },
    {
      "cell_type": "markdown",
      "source": [
        "#### From the above result, we can see some garbage values in 'Year-Of-Publication' instead of only year values, which will be filtered and the column is converted into int"
      ],
      "metadata": {
        "id": "8WOD67OYbQHH"
      }
    },
    {
      "cell_type": "code",
      "source": [
        "year_of_publication = books_df['Year-Of-Publication'].str.extract(r'(\\d{4})')[0]\n",
        "books_df = books_df[books_df['Year-Of-Publication'].isin(year_of_publication)]"
      ],
      "metadata": {
        "execution": {
          "iopub.status.busy": "2024-03-23T04:02:06.058966Z",
          "iopub.execute_input": "2024-03-23T04:02:06.059681Z",
          "iopub.status.idle": "2024-03-23T04:02:06.842594Z",
          "shell.execute_reply.started": "2024-03-23T04:02:06.059649Z",
          "shell.execute_reply": "2024-03-23T04:02:06.84147Z"
        },
        "trusted": true,
        "id": "8Q4yCsGobQHH"
      },
      "execution_count": null,
      "outputs": []
    },
    {
      "cell_type": "code",
      "source": [
        "books_df['Year-Of-Publication'] = books_df['Year-Of-Publication'].astype('int')"
      ],
      "metadata": {
        "execution": {
          "iopub.status.busy": "2024-03-23T04:02:06.844212Z",
          "iopub.execute_input": "2024-03-23T04:02:06.844875Z",
          "iopub.status.idle": "2024-03-23T04:02:06.878458Z",
          "shell.execute_reply.started": "2024-03-23T04:02:06.844842Z",
          "shell.execute_reply": "2024-03-23T04:02:06.87719Z"
        },
        "trusted": true,
        "id": "RLhPXMXmbQHH",
        "outputId": "7dcb244f-c8e5-4766-9940-15b85b7b6e1c"
      },
      "execution_count": null,
      "outputs": [
        {
          "name": "stderr",
          "text": "/tmp/ipykernel_33/406188384.py:1: SettingWithCopyWarning: \nA value is trying to be set on a copy of a slice from a DataFrame.\nTry using .loc[row_indexer,col_indexer] = value instead\n\nSee the caveats in the documentation: https://pandas.pydata.org/pandas-docs/stable/user_guide/indexing.html#returning-a-view-versus-a-copy\n  books_df['Year-Of-Publication'] = books_df['Year-Of-Publication'].astype('int')\n",
          "output_type": "stream"
        }
      ]
    },
    {
      "cell_type": "code",
      "source": [
        "books_df['Year-Of-Publication'].unique()\n"
      ],
      "metadata": {
        "execution": {
          "iopub.status.busy": "2024-03-23T04:02:06.880076Z",
          "iopub.execute_input": "2024-03-23T04:02:06.880376Z",
          "iopub.status.idle": "2024-03-23T04:02:06.891216Z",
          "shell.execute_reply.started": "2024-03-23T04:02:06.880351Z",
          "shell.execute_reply": "2024-03-23T04:02:06.889996Z"
        },
        "trusted": true,
        "id": "uYoDSLeHbQHH",
        "outputId": "149b953d-4c9e-4cc7-f48f-565b7dc0d921"
      },
      "execution_count": null,
      "outputs": [
        {
          "execution_count": 40,
          "output_type": "execute_result",
          "data": {
            "text/plain": "array([2002, 2001, 1991, 1999, 2000, 1993, 1996, 1988, 2004, 1998, 1994,\n       2003, 1997, 1983, 1979, 1995, 1982, 1985, 1992, 1986, 1978, 1980,\n       1952, 1987, 1990, 1981, 1989, 1984, 1968, 1961, 1958, 1974, 1976,\n       1971, 1977, 1975, 1965, 1941, 1970, 1962, 1973, 1972, 1960, 1966,\n       1920, 1956, 1959, 1953, 1951, 1942, 1963, 1964, 1969, 1954, 1950,\n       1967, 2005, 1957, 1940, 1937, 1955, 1946, 1936, 1930, 2011, 1925,\n       1948, 1943, 1947, 1945, 1923, 2020, 1939, 1926, 1938, 2030, 1911,\n       1904, 1949, 1932, 1928, 1929, 1927, 1931, 1914, 2050, 1934, 1910,\n       1933, 1902, 1924, 1921, 1900, 2038, 2026, 1944, 1917, 1901, 2010,\n       1908, 1906, 1935, 1806, 2021, 2012, 2006, 1909, 2008, 1378, 1919,\n       1922, 1897, 2024, 1376, 2037])"
          },
          "metadata": {}
        }
      ]
    },
    {
      "cell_type": "markdown",
      "source": [
        "#### Lets Check Ratings Datafram"
      ],
      "metadata": {
        "id": "_4KuEwj2bQHH"
      }
    },
    {
      "cell_type": "code",
      "source": [
        "ratings_df.head()"
      ],
      "metadata": {
        "execution": {
          "iopub.status.busy": "2024-03-23T04:02:06.89258Z",
          "iopub.execute_input": "2024-03-23T04:02:06.893039Z",
          "iopub.status.idle": "2024-03-23T04:02:06.903718Z",
          "shell.execute_reply.started": "2024-03-23T04:02:06.893012Z",
          "shell.execute_reply": "2024-03-23T04:02:06.902466Z"
        },
        "trusted": true,
        "id": "_99Imn3ibQHH",
        "outputId": "69a77f23-5201-40a9-f247-0a3ca8fe461c"
      },
      "execution_count": null,
      "outputs": [
        {
          "execution_count": 41,
          "output_type": "execute_result",
          "data": {
            "text/plain": "   User-ID        ISBN  Book-Rating\n0   276725  034545104X            0\n1   276726  0155061224            5\n2   276727  0446520802            0\n3   276729  052165615X            3\n4   276729  0521795028            6",
            "text/html": "<div>\n<style scoped>\n    .dataframe tbody tr th:only-of-type {\n        vertical-align: middle;\n    }\n\n    .dataframe tbody tr th {\n        vertical-align: top;\n    }\n\n    .dataframe thead th {\n        text-align: right;\n    }\n</style>\n<table border=\"1\" class=\"dataframe\">\n  <thead>\n    <tr style=\"text-align: right;\">\n      <th></th>\n      <th>User-ID</th>\n      <th>ISBN</th>\n      <th>Book-Rating</th>\n    </tr>\n  </thead>\n  <tbody>\n    <tr>\n      <th>0</th>\n      <td>276725</td>\n      <td>034545104X</td>\n      <td>0</td>\n    </tr>\n    <tr>\n      <th>1</th>\n      <td>276726</td>\n      <td>0155061224</td>\n      <td>5</td>\n    </tr>\n    <tr>\n      <th>2</th>\n      <td>276727</td>\n      <td>0446520802</td>\n      <td>0</td>\n    </tr>\n    <tr>\n      <th>3</th>\n      <td>276729</td>\n      <td>052165615X</td>\n      <td>3</td>\n    </tr>\n    <tr>\n      <th>4</th>\n      <td>276729</td>\n      <td>0521795028</td>\n      <td>6</td>\n    </tr>\n  </tbody>\n</table>\n</div>"
          },
          "metadata": {}
        }
      ]
    },
    {
      "cell_type": "code",
      "source": [
        "sorted(ratings_df['Book-Rating'].unique())"
      ],
      "metadata": {
        "execution": {
          "iopub.status.busy": "2024-03-23T04:02:06.905565Z",
          "iopub.execute_input": "2024-03-23T04:02:06.906281Z",
          "iopub.status.idle": "2024-03-23T04:02:06.924638Z",
          "shell.execute_reply.started": "2024-03-23T04:02:06.906122Z",
          "shell.execute_reply": "2024-03-23T04:02:06.923617Z"
        },
        "trusted": true,
        "id": "V_cTfuLTbQHH",
        "outputId": "ac10125c-092f-4db9-9a5c-68f86b3156fc"
      },
      "execution_count": null,
      "outputs": [
        {
          "execution_count": 42,
          "output_type": "execute_result",
          "data": {
            "text/plain": "[0, 1, 2, 3, 4, 5, 6, 7, 8, 9, 10]"
          },
          "metadata": {}
        }
      ]
    },
    {
      "cell_type": "code",
      "source": [
        "ratings_group = ratings_df.groupby('Book-Rating').size()\n",
        "plt.bar(ratings_group.index,ratings_group.values)\n",
        "plt.title('Distribution of Ratings')\n",
        "plt.xlabel('Ratings')\n",
        "plt.ylabel('Frequency')"
      ],
      "metadata": {
        "execution": {
          "iopub.status.busy": "2024-03-23T04:02:06.926309Z",
          "iopub.execute_input": "2024-03-23T04:02:06.926794Z",
          "iopub.status.idle": "2024-03-23T04:02:07.200216Z",
          "shell.execute_reply.started": "2024-03-23T04:02:06.926756Z",
          "shell.execute_reply": "2024-03-23T04:02:07.199123Z"
        },
        "trusted": true,
        "id": "7aWOppRibQHH",
        "outputId": "5c2eb044-888c-4051-c51a-6c21621732cc"
      },
      "execution_count": null,
      "outputs": [
        {
          "execution_count": 43,
          "output_type": "execute_result",
          "data": {
            "text/plain": "Text(0, 0.5, 'Frequency')"
          },
          "metadata": {}
        },
        {
          "output_type": "display_data",
          "data": {
            "text/plain": "<Figure size 640x480 with 1 Axes>",
            "image/png": "[encoded data removed]"
          },
          "metadata": {}
        }
      ]
    },
    {
      "cell_type": "markdown",
      "source": [
        "#### Lets check the info of all 3 data files"
      ],
      "metadata": {
        "id": "TCCQN1AXbQHH"
      }
    },
    {
      "cell_type": "code",
      "source": [
        "ratings_df.info()"
      ],
      "metadata": {
        "execution": {
          "iopub.status.busy": "2024-03-23T04:02:07.201488Z",
          "iopub.execute_input": "2024-03-23T04:02:07.201784Z",
          "iopub.status.idle": "2024-03-23T04:02:07.284416Z",
          "shell.execute_reply.started": "2024-03-23T04:02:07.201759Z",
          "shell.execute_reply": "2024-03-23T04:02:07.283277Z"
        },
        "trusted": true,
        "id": "1zabRyg0bQHH",
        "outputId": "28e27e0e-68b9-4b69-fd4b-2c4a40f62acb"
      },
      "execution_count": null,
      "outputs": [
        {
          "name": "stdout",
          "text": "<class 'pandas.core.frame.DataFrame'>\nRangeIndex: 1149780 entries, 0 to 1149779\nData columns (total 3 columns):\n #   Column       Non-Null Count    Dtype \n---  ------       --------------    ----- \n 0   User-ID      1149780 non-null  int64 \n 1   ISBN         1149780 non-null  object\n 2   Book-Rating  1149780 non-null  int64 \ndtypes: int64(2), object(1)\nmemory usage: 26.3+ MB\n",
          "output_type": "stream"
        }
      ]
    },
    {
      "cell_type": "code",
      "source": [
        "books_df.info()"
      ],
      "metadata": {
        "execution": {
          "iopub.status.busy": "2024-03-23T04:02:07.285679Z",
          "iopub.execute_input": "2024-03-23T04:02:07.285962Z",
          "iopub.status.idle": "2024-03-23T04:02:07.362404Z",
          "shell.execute_reply.started": "2024-03-23T04:02:07.285938Z",
          "shell.execute_reply": "2024-03-23T04:02:07.361237Z"
        },
        "trusted": true,
        "id": "YdzjO6XkbQHH",
        "outputId": "39dc8834-5795-4a0d-b9f8-26274a3c5bf4"
      },
      "execution_count": null,
      "outputs": [
        {
          "name": "stdout",
          "text": "<class 'pandas.core.frame.DataFrame'>\nIndex: 266739 entries, 0 to 271359\nData columns (total 5 columns):\n #   Column               Non-Null Count   Dtype \n---  ------               --------------   ----- \n 0   ISBN                 266739 non-null  object\n 1   Book-Title           266739 non-null  object\n 2   Book-Author          266737 non-null  object\n 3   Year-Of-Publication  266739 non-null  int64 \n 4   Publisher            266737 non-null  object\ndtypes: int64(1), object(4)\nmemory usage: 12.2+ MB\n",
          "output_type": "stream"
        }
      ]
    },
    {
      "cell_type": "code",
      "source": [
        "users_df.info()"
      ],
      "metadata": {
        "execution": {
          "iopub.status.busy": "2024-03-23T04:02:07.366425Z",
          "iopub.execute_input": "2024-03-23T04:02:07.367142Z",
          "iopub.status.idle": "2024-03-23T04:02:07.404334Z",
          "shell.execute_reply.started": "2024-03-23T04:02:07.367081Z",
          "shell.execute_reply": "2024-03-23T04:02:07.403595Z"
        },
        "trusted": true,
        "id": "a2dIav9IbQHH",
        "outputId": "975b68ac-4dc3-4c35-e832-accf09c5ff1d"
      },
      "execution_count": null,
      "outputs": [
        {
          "name": "stdout",
          "text": "<class 'pandas.core.frame.DataFrame'>\nIndex: 69301 entries, 4 to 278855\nData columns (total 5 columns):\n #   Column   Non-Null Count  Dtype  \n---  ------   --------------  -----  \n 0   User-ID  69301 non-null  float64\n 1   Age      69301 non-null  int64  \n 2   City     69301 non-null  object \n 3   State    69301 non-null  object \n 4   Country  69301 non-null  object \ndtypes: float64(1), int64(1), object(3)\nmemory usage: 3.2+ MB\n",
          "output_type": "stream"
        }
      ]
    },
    {
      "cell_type": "markdown",
      "source": [
        "#### Now preparing the dataset for further implementation"
      ],
      "metadata": {
        "id": "EbVh_HScbQHH"
      }
    },
    {
      "cell_type": "markdown",
      "source": [
        "#### Merging Users,Books,Ratings dataframe for our dataset"
      ],
      "metadata": {
        "id": "qHJhF7erbQHH"
      }
    },
    {
      "cell_type": "code",
      "source": [
        "dataset = ratings_df.merge(books_df,on = 'ISBN').merge(users_df,how='inner',on='User-ID')\n",
        "dataset.info()\n"
      ],
      "metadata": {
        "execution": {
          "iopub.status.busy": "2024-03-23T04:02:07.405653Z",
          "iopub.execute_input": "2024-03-23T04:02:07.406313Z",
          "iopub.status.idle": "2024-03-23T04:02:08.733403Z",
          "shell.execute_reply.started": "2024-03-23T04:02:07.406286Z",
          "shell.execute_reply": "2024-03-23T04:02:08.732264Z"
        },
        "trusted": true,
        "id": "O36OZw_lbQHH",
        "outputId": "f8d1908f-338d-4f77-c262-f40098584ef9"
      },
      "execution_count": null,
      "outputs": [
        {
          "name": "stdout",
          "text": "<class 'pandas.core.frame.DataFrame'>\nRangeIndex: 132920 entries, 0 to 132919\nData columns (total 11 columns):\n #   Column               Non-Null Count   Dtype \n---  ------               --------------   ----- \n 0   User-ID              132920 non-null  int64 \n 1   ISBN                 132920 non-null  object\n 2   Book-Rating          132920 non-null  int64 \n 3   Book-Title           132920 non-null  object\n 4   Book-Author          132919 non-null  object\n 5   Year-Of-Publication  132920 non-null  int64 \n 6   Publisher            132920 non-null  object\n 7   Age                  132920 non-null  int64 \n 8   City                 132920 non-null  object\n 9   State                132920 non-null  object\n 10  Country              132920 non-null  object\ndtypes: int64(4), object(7)\nmemory usage: 11.2+ MB\n",
          "output_type": "stream"
        }
      ]
    },
    {
      "cell_type": "markdown",
      "source": [
        "#### Dropping the duplicate user-ID and ISBN rows as a user can have only one rating per book."
      ],
      "metadata": {
        "id": "8yIYcEAUbQHH"
      }
    },
    {
      "cell_type": "code",
      "source": [
        "dataset = dataset.drop_duplicates(['User-ID','ISBN'],keep='first')\n",
        "dataset.head()"
      ],
      "metadata": {
        "execution": {
          "iopub.status.busy": "2024-03-23T04:02:08.734834Z",
          "iopub.execute_input": "2024-03-23T04:02:08.735227Z",
          "iopub.status.idle": "2024-03-23T04:02:08.843101Z",
          "shell.execute_reply.started": "2024-03-23T04:02:08.735197Z",
          "shell.execute_reply": "2024-03-23T04:02:08.842298Z"
        },
        "trusted": true,
        "id": "JbAil0qzbQHH",
        "outputId": "b5db98fd-7ba4-4ac2-83b7-53288a919540"
      },
      "execution_count": null,
      "outputs": [
        {
          "execution_count": 48,
          "output_type": "execute_result",
          "data": {
            "text/plain": "   User-ID        ISBN  Book-Rating  \\\n0   276774  0099543818            0   \n1   276774  3404147723            0   \n2   276774  3423111321            0   \n3   276774  3442136644            9   \n4   276774  3492232000            0   \n\n                                                             Book-Title  \\\n0                                                            East, West   \n1  Im Schatten der Lilie. Die Erinnerungen der Eleonore von Aquitanien.   \n2                                                  Die Teufelin. Roman.   \n3                                                 Endlich Nichtraucher.   \n4                               Ein Liebhaber zuviel ist noch zu wenig.   \n\n       Book-Author  Year-Of-Publication      Publisher  Age  City State  \\\n0   Salman Rushdie                 1995  Vintage Books   28  bern  bern   \n1  Patrice Leavold                 2002       LÃ?Â¼bbe   28  bern  bern   \n2       Fay Weldon                 1989            Dtv   28  bern  bern   \n3       Allen Carr                 1992       Goldmann   28  bern  bern   \n4   Gaby Hauptmann                 2000          Piper   28  bern  bern   \n\n       Country  \n0  switzerland  \n1  switzerland  \n2  switzerland  \n3  switzerland  \n4  switzerland  ",
            "text/html": "<div>\n<style scoped>\n    .dataframe tbody tr th:only-of-type {\n        vertical-align: middle;\n    }\n\n    .dataframe tbody tr th {\n        vertical-align: top;\n    }\n\n    .dataframe thead th {\n        text-align: right;\n    }\n</style>\n<table border=\"1\" class=\"dataframe\">\n  <thead>\n    <tr style=\"text-align: right;\">\n      <th></th>\n      <th>User-ID</th>\n      <th>ISBN</th>\n      <th>Book-Rating</th>\n      <th>Book-Title</th>\n      <th>Book-Author</th>\n      <th>Year-Of-Publication</th>\n      <th>Publisher</th>\n      <th>Age</th>\n      <th>City</th>\n      <th>State</th>\n      <th>Country</th>\n    </tr>\n  </thead>\n  <tbody>\n    <tr>\n      <th>0</th>\n      <td>276774</td>\n      <td>0099543818</td>\n      <td>0</td>\n      <td>East, West</td>\n      <td>Salman Rushdie</td>\n      <td>1995</td>\n      <td>Vintage Books</td>\n      <td>28</td>\n      <td>bern</td>\n      <td>bern</td>\n      <td>switzerland</td>\n    </tr>\n    <tr>\n      <th>1</th>\n      <td>276774</td>\n      <td>3404147723</td>\n      <td>0</td>\n      <td>Im Schatten der Lilie. Die Erinnerungen der Eleonore von Aquitanien.</td>\n      <td>Patrice Leavold</td>\n      <td>2002</td>\n      <td>LÃ?Â¼bbe</td>\n      <td>28</td>\n      <td>bern</td>\n      <td>bern</td>\n      <td>switzerland</td>\n    </tr>\n    <tr>\n      <th>2</th>\n      <td>276774</td>\n      <td>3423111321</td>\n      <td>0</td>\n      <td>Die Teufelin. Roman.</td>\n      <td>Fay Weldon</td>\n      <td>1989</td>\n      <td>Dtv</td>\n      <td>28</td>\n      <td>bern</td>\n      <td>bern</td>\n      <td>switzerland</td>\n    </tr>\n    <tr>\n      <th>3</th>\n      <td>276774</td>\n      <td>3442136644</td>\n      <td>9</td>\n      <td>Endlich Nichtraucher.</td>\n      <td>Allen Carr</td>\n      <td>1992</td>\n      <td>Goldmann</td>\n      <td>28</td>\n      <td>bern</td>\n      <td>bern</td>\n      <td>switzerland</td>\n    </tr>\n    <tr>\n      <th>4</th>\n      <td>276774</td>\n      <td>3492232000</td>\n      <td>0</td>\n      <td>Ein Liebhaber zuviel ist noch zu wenig.</td>\n      <td>Gaby Hauptmann</td>\n      <td>2000</td>\n      <td>Piper</td>\n      <td>28</td>\n      <td>bern</td>\n      <td>bern</td>\n      <td>switzerland</td>\n    </tr>\n  </tbody>\n</table>\n</div>"
          },
          "metadata": {}
        }
      ]
    },
    {
      "cell_type": "code",
      "source": [
        "dataset[['Book-Rating','Book-Author','Year-Of-Publication','Publisher','Age','City','State','Country']].sample(10)"
      ],
      "metadata": {
        "execution": {
          "iopub.status.busy": "2024-03-23T04:02:08.844068Z",
          "iopub.execute_input": "2024-03-23T04:02:08.844635Z",
          "iopub.status.idle": "2024-03-23T04:02:08.876045Z",
          "shell.execute_reply.started": "2024-03-23T04:02:08.844607Z",
          "shell.execute_reply": "2024-03-23T04:02:08.874946Z"
        },
        "trusted": true,
        "id": "BEp6xQxYbQHH",
        "outputId": "f4bfae11-d819-4fe6-8d9b-79a6c148d973"
      },
      "execution_count": null,
      "outputs": [
        {
          "execution_count": 49,
          "output_type": "execute_result",
          "data": {
            "text/plain": "       Book-Rating          Book-Author  Year-Of-Publication  \\\n35338            0         Julia London                 2001   \n39496            0  Marlene Streeruwitz                 2002   \n66197            0          Nevada Barr                 1999   \n73680            9         Di Morrissey                 1998   \n46220            0      Douglas Preston                 2002   \n5329             0     Patricia Waddell                 2002   \n33963            4          Kathy Lette                 1995   \n38854            0        A. E. Maxwell                 1994   \n67122            0        Jerry Hopkins                 1972   \n32780            5         John Grisham                 1994   \n\n                                Publisher  Age      City       State  \\\n35338             Dell Publishing Company   34    melaka      melaka   \n39496            Fischer (Tb.), Frankfurt   40    berlin      berlin   \n66197                                Avon   34    london     england   \n73680            HarperCollins Publishers   48  deventer  overijssel   \n46220                        Warner Books   34   toronto     ontario   \n5329                           Love Spell   15      doha        doha   \n33963        McClelland &amp; Stewart Ltd   38    london     england   \n38854  Harper Mass Market Paperbacks (Mm)   34   firenze     toscana   \n67122                        Warner Books   34  edmonton     alberta   \n32780             Dell Publishing Company   34    latina      latina   \n\n              Country  \n35338        malaysia  \n39496         germany  \n66197  united kingdom  \n73680     netherlands  \n46220          canada  \n5329            qatar  \n33963  united kingdom  \n38854           italy  \n67122          canada  \n32780           italy  ",
            "text/html": "<div>\n<style scoped>\n    .dataframe tbody tr th:only-of-type {\n        vertical-align: middle;\n    }\n\n    .dataframe tbody tr th {\n        vertical-align: top;\n    }\n\n    .dataframe thead th {\n        text-align: right;\n    }\n</style>\n<table border=\"1\" class=\"dataframe\">\n  <thead>\n    <tr style=\"text-align: right;\">\n      <th></th>\n      <th>Book-Rating</th>\n      <th>Book-Author</th>\n      <th>Year-Of-Publication</th>\n      <th>Publisher</th>\n      <th>Age</th>\n      <th>City</th>\n      <th>State</th>\n      <th>Country</th>\n    </tr>\n  </thead>\n  <tbody>\n    <tr>\n      <th>35338</th>\n      <td>0</td>\n      <td>Julia London</td>\n      <td>2001</td>\n      <td>Dell Publishing Company</td>\n      <td>34</td>\n      <td>melaka</td>\n      <td>melaka</td>\n      <td>malaysia</td>\n    </tr>\n    <tr>\n      <th>39496</th>\n      <td>0</td>\n      <td>Marlene Streeruwitz</td>\n      <td>2002</td>\n      <td>Fischer (Tb.), Frankfurt</td>\n      <td>40</td>\n      <td>berlin</td>\n      <td>berlin</td>\n      <td>germany</td>\n    </tr>\n    <tr>\n      <th>66197</th>\n      <td>0</td>\n      <td>Nevada Barr</td>\n      <td>1999</td>\n      <td>Avon</td>\n      <td>34</td>\n      <td>london</td>\n      <td>england</td>\n      <td>united kingdom</td>\n    </tr>\n    <tr>\n      <th>73680</th>\n      <td>9</td>\n      <td>Di Morrissey</td>\n      <td>1998</td>\n      <td>HarperCollins Publishers</td>\n      <td>48</td>\n      <td>deventer</td>\n      <td>overijssel</td>\n      <td>netherlands</td>\n    </tr>\n    <tr>\n      <th>46220</th>\n      <td>0</td>\n      <td>Douglas Preston</td>\n      <td>2002</td>\n      <td>Warner Books</td>\n      <td>34</td>\n      <td>toronto</td>\n      <td>ontario</td>\n      <td>canada</td>\n    </tr>\n    <tr>\n      <th>5329</th>\n      <td>0</td>\n      <td>Patricia Waddell</td>\n      <td>2002</td>\n      <td>Love Spell</td>\n      <td>15</td>\n      <td>doha</td>\n      <td>doha</td>\n      <td>qatar</td>\n    </tr>\n    <tr>\n      <th>33963</th>\n      <td>4</td>\n      <td>Kathy Lette</td>\n      <td>1995</td>\n      <td>McClelland &amp;amp; Stewart Ltd</td>\n      <td>38</td>\n      <td>london</td>\n      <td>england</td>\n      <td>united kingdom</td>\n    </tr>\n    <tr>\n      <th>38854</th>\n      <td>0</td>\n      <td>A. E. Maxwell</td>\n      <td>1994</td>\n      <td>Harper Mass Market Paperbacks (Mm)</td>\n      <td>34</td>\n      <td>firenze</td>\n      <td>toscana</td>\n      <td>italy</td>\n    </tr>\n    <tr>\n      <th>67122</th>\n      <td>0</td>\n      <td>Jerry Hopkins</td>\n      <td>1972</td>\n      <td>Warner Books</td>\n      <td>34</td>\n      <td>edmonton</td>\n      <td>alberta</td>\n      <td>canada</td>\n    </tr>\n    <tr>\n      <th>32780</th>\n      <td>5</td>\n      <td>John Grisham</td>\n      <td>1994</td>\n      <td>Dell Publishing Company</td>\n      <td>34</td>\n      <td>latina</td>\n      <td>latina</td>\n      <td>italy</td>\n    </tr>\n  </tbody>\n</table>\n</div>"
          },
          "metadata": {}
        }
      ]
    },
    {
      "cell_type": "markdown",
      "source": [
        "#### Selecting the required columns for training"
      ],
      "metadata": {
        "id": "U6Q8WPJEbQHH"
      }
    },
    {
      "cell_type": "code",
      "source": [
        "recomendation_dataset = dataset[['Book-Rating','Book-Author','Year-Of-Publication','Publisher','Age','City','State','Country']].copy()\n",
        "recomendation_dataset.info()"
      ],
      "metadata": {
        "execution": {
          "iopub.status.busy": "2024-03-23T04:02:08.877384Z",
          "iopub.execute_input": "2024-03-23T04:02:08.87776Z",
          "iopub.status.idle": "2024-03-23T04:02:08.947443Z",
          "shell.execute_reply.started": "2024-03-23T04:02:08.877734Z",
          "shell.execute_reply": "2024-03-23T04:02:08.94635Z"
        },
        "trusted": true,
        "id": "zgYcC0BMbQHH",
        "outputId": "30309296-a1c9-4814-a1ee-b926da63f9ab"
      },
      "execution_count": null,
      "outputs": [
        {
          "name": "stdout",
          "text": "<class 'pandas.core.frame.DataFrame'>\nRangeIndex: 132920 entries, 0 to 132919\nData columns (total 8 columns):\n #   Column               Non-Null Count   Dtype \n---  ------               --------------   ----- \n 0   Book-Rating          132920 non-null  int64 \n 1   Book-Author          132919 non-null  object\n 2   Year-Of-Publication  132920 non-null  int64 \n 3   Publisher            132920 non-null  object\n 4   Age                  132920 non-null  int64 \n 5   City                 132920 non-null  object\n 6   State                132920 non-null  object\n 7   Country              132920 non-null  object\ndtypes: int64(3), object(5)\nmemory usage: 8.1+ MB\n",
          "output_type": "stream"
        }
      ]
    },
    {
      "cell_type": "markdown",
      "source": [
        "#### Label encoding all catecorical columns"
      ],
      "metadata": {
        "id": "ODKa-OlfbQHH"
      }
    },
    {
      "cell_type": "code",
      "source": [
        "encoder = LabelEncoder()\n",
        "for column in recomendation_dataset.columns:\n",
        "    if recomendation_dataset[column].dtype == object:\n",
        "        recomendation_dataset[column] = encoder.fit_transform(recomendation_dataset[column])\n"
      ],
      "metadata": {
        "execution": {
          "iopub.status.busy": "2024-03-23T04:02:08.948988Z",
          "iopub.execute_input": "2024-03-23T04:02:08.949647Z",
          "iopub.status.idle": "2024-03-23T04:02:09.208394Z",
          "shell.execute_reply.started": "2024-03-23T04:02:08.94961Z",
          "shell.execute_reply": "2024-03-23T04:02:09.207374Z"
        },
        "trusted": true,
        "id": "GwEsxVNObQHI"
      },
      "execution_count": null,
      "outputs": []
    },
    {
      "cell_type": "code",
      "source": [
        "recomendation_dataset"
      ],
      "metadata": {
        "execution": {
          "iopub.status.busy": "2024-03-23T04:02:09.20952Z",
          "iopub.execute_input": "2024-03-23T04:02:09.209898Z",
          "iopub.status.idle": "2024-03-23T04:02:09.221694Z",
          "shell.execute_reply.started": "2024-03-23T04:02:09.209873Z",
          "shell.execute_reply": "2024-03-23T04:02:09.220889Z"
        },
        "trusted": true,
        "id": "fcopiUAObQHI",
        "outputId": "d852af3e-0e3e-477e-8a8f-eb682349263e"
      },
      "execution_count": null,
      "outputs": [
        {
          "execution_count": 52,
          "output_type": "execute_result",
          "data": {
            "text/plain": "        Book-Rating  Book-Author  Year-Of-Publication  Publisher  Age  City  \\\n0                 0        27839                 1995       6288   28   261   \n1                 0        23900                 2002       3634   28   261   \n2                 0         9455                 1989       1697   28   261   \n3                 9         1009                 1992       2420   28   261   \n4                 0        10235                 2000       4671   28   261   \n...             ...          ...                  ...        ...  ...   ...   \n132915            0        21284                 1997       3025   30  2545   \n132916            0        15027                 2000       1328   30  2545   \n132917            5        15481                 1999       5995   34  1830   \n132918            5        21118                 2000       5995   34  1830   \n132919            0         1399                 1997        160   18  2093   \n\n        State  Country  \n0          81       79  \n1          81       79  \n2          81       79  \n3          81       79  \n4          81       79  \n...       ...      ...  \n132915    496       16  \n132916    496       16  \n132917    264       87  \n132918    264       87  \n132919    554       16  \n\n[132920 rows x 8 columns]",
            "text/html": "<div>\n<style scoped>\n    .dataframe tbody tr th:only-of-type {\n        vertical-align: middle;\n    }\n\n    .dataframe tbody tr th {\n        vertical-align: top;\n    }\n\n    .dataframe thead th {\n        text-align: right;\n    }\n</style>\n<table border=\"1\" class=\"dataframe\">\n  <thead>\n    <tr style=\"text-align: right;\">\n      <th></th>\n      <th>Book-Rating</th>\n      <th>Book-Author</th>\n      <th>Year-Of-Publication</th>\n      <th>Publisher</th>\n      <th>Age</th>\n      <th>City</th>\n      <th>State</th>\n      <th>Country</th>\n    </tr>\n  </thead>\n  <tbody>\n    <tr>\n      <th>0</th>\n      <td>0</td>\n      <td>27839</td>\n      <td>1995</td>\n      <td>6288</td>\n      <td>28</td>\n      <td>261</td>\n      <td>81</td>\n      <td>79</td>\n    </tr>\n    <tr>\n      <th>1</th>\n      <td>0</td>\n      <td>23900</td>\n      <td>2002</td>\n      <td>3634</td>\n      <td>28</td>\n      <td>261</td>\n      <td>81</td>\n      <td>79</td>\n    </tr>\n    <tr>\n      <th>2</th>\n      <td>0</td>\n      <td>9455</td>\n      <td>1989</td>\n      <td>1697</td>\n      <td>28</td>\n      <td>261</td>\n      <td>81</td>\n      <td>79</td>\n    </tr>\n    <tr>\n      <th>3</th>\n      <td>9</td>\n      <td>1009</td>\n      <td>1992</td>\n      <td>2420</td>\n      <td>28</td>\n      <td>261</td>\n      <td>81</td>\n      <td>79</td>\n    </tr>\n    <tr>\n      <th>4</th>\n      <td>0</td>\n      <td>10235</td>\n      <td>2000</td>\n      <td>4671</td>\n      <td>28</td>\n      <td>261</td>\n      <td>81</td>\n      <td>79</td>\n    </tr>\n    <tr>\n      <th>...</th>\n      <td>...</td>\n      <td>...</td>\n      <td>...</td>\n      <td>...</td>\n      <td>...</td>\n      <td>...</td>\n      <td>...</td>\n      <td>...</td>\n    </tr>\n    <tr>\n      <th>132915</th>\n      <td>0</td>\n      <td>21284</td>\n      <td>1997</td>\n      <td>3025</td>\n      <td>30</td>\n      <td>2545</td>\n      <td>496</td>\n      <td>16</td>\n    </tr>\n    <tr>\n      <th>132916</th>\n      <td>0</td>\n      <td>15027</td>\n      <td>2000</td>\n      <td>1328</td>\n      <td>30</td>\n      <td>2545</td>\n      <td>496</td>\n      <td>16</td>\n    </tr>\n    <tr>\n      <th>132917</th>\n      <td>5</td>\n      <td>15481</td>\n      <td>1999</td>\n      <td>5995</td>\n      <td>34</td>\n      <td>1830</td>\n      <td>264</td>\n      <td>87</td>\n    </tr>\n    <tr>\n      <th>132918</th>\n      <td>5</td>\n      <td>21118</td>\n      <td>2000</td>\n      <td>5995</td>\n      <td>34</td>\n      <td>1830</td>\n      <td>264</td>\n      <td>87</td>\n    </tr>\n    <tr>\n      <th>132919</th>\n      <td>0</td>\n      <td>1399</td>\n      <td>1997</td>\n      <td>160</td>\n      <td>18</td>\n      <td>2093</td>\n      <td>554</td>\n      <td>16</td>\n    </tr>\n  </tbody>\n</table>\n<p>132920 rows × 8 columns</p>\n</div>"
          },
          "metadata": {}
        }
      ]
    },
    {
      "cell_type": "markdown",
      "source": [
        "#### Normalizing every column to range between 0 and 1"
      ],
      "metadata": {
        "id": "SSV4pEwnbQHI"
      }
    },
    {
      "cell_type": "code",
      "source": [
        "def normalizer(data,min,max):\n",
        "    return (data - min) / (max - min)"
      ],
      "metadata": {
        "execution": {
          "iopub.status.busy": "2024-03-23T04:02:09.222941Z",
          "iopub.execute_input": "2024-03-23T04:02:09.223374Z",
          "iopub.status.idle": "2024-03-23T04:02:09.232469Z",
          "shell.execute_reply.started": "2024-03-23T04:02:09.223346Z",
          "shell.execute_reply": "2024-03-23T04:02:09.231435Z"
        },
        "trusted": true,
        "id": "nnlyOecEbQHI"
      },
      "execution_count": null,
      "outputs": []
    },
    {
      "cell_type": "code",
      "source": [
        "for column in recomendation_dataset.columns:\n",
        "    min = recomendation_dataset[column].min()\n",
        "    max = recomendation_dataset[column].max()\n",
        "    recomendation_dataset[column] = recomendation_dataset[column].apply(normalizer,args=(min,max))\n"
      ],
      "metadata": {
        "execution": {
          "iopub.status.busy": "2024-03-23T04:02:09.233494Z",
          "iopub.execute_input": "2024-03-23T04:02:09.233775Z",
          "iopub.status.idle": "2024-03-23T04:02:10.163593Z",
          "shell.execute_reply.started": "2024-03-23T04:02:09.233752Z",
          "shell.execute_reply": "2024-03-23T04:02:10.162305Z"
        },
        "trusted": true,
        "id": "dLZbCQN2bQHI"
      },
      "execution_count": null,
      "outputs": []
    },
    {
      "cell_type": "code",
      "source": [
        "recomendation_dataset"
      ],
      "metadata": {
        "execution": {
          "iopub.status.busy": "2024-03-23T04:02:10.165324Z",
          "iopub.execute_input": "2024-03-23T04:02:10.165769Z",
          "iopub.status.idle": "2024-03-23T04:02:10.185661Z",
          "shell.execute_reply.started": "2024-03-23T04:02:10.165729Z",
          "shell.execute_reply": "2024-03-23T04:02:10.184669Z"
        },
        "trusted": true,
        "id": "gsHdYP6UbQHI",
        "outputId": "8b2d35a0-9432-48ee-ee08-2c6a4c0782f8"
      },
      "execution_count": null,
      "outputs": [
        {
          "execution_count": 55,
          "output_type": "execute_result",
          "data": {
            "text/plain": "        Book-Rating  Book-Author  Year-Of-Publication  Publisher    Age  \\\n0               0.0     0.857086             0.628378   0.940332  0.225   \n1               0.0     0.735815             0.675676   0.543443  0.225   \n2               0.0     0.291093             0.587838   0.253776  0.225   \n3               0.9     0.031064             0.608108   0.361896  0.225   \n4               0.0     0.315107             0.662162   0.698520  0.225   \n...             ...          ...                  ...        ...    ...   \n132915          0.0     0.655275             0.641892   0.452370  0.250   \n132916          0.0     0.462640             0.662162   0.198594  0.250   \n132917          0.5     0.476617             0.655405   0.896516  0.300   \n132918          0.5     0.650165             0.662162   0.896516  0.300   \n132919          0.0     0.043071             0.641892   0.023927  0.100   \n\n            City     State   Country  \n0       0.089722  0.107001  0.868132  \n1       0.089722  0.107001  0.868132  \n2       0.089722  0.107001  0.868132  \n3       0.089722  0.107001  0.868132  \n4       0.089722  0.107001  0.868132  \n...          ...       ...       ...  \n132915  0.874871  0.655218  0.175824  \n132916  0.874871  0.655218  0.175824  \n132917  0.629082  0.348745  0.956044  \n132918  0.629082  0.348745  0.956044  \n132919  0.719491  0.731836  0.175824  \n\n[132920 rows x 8 columns]",
            "text/html": "<div>\n<style scoped>\n    .dataframe tbody tr th:only-of-type {\n        vertical-align: middle;\n    }\n\n    .dataframe tbody tr th {\n        vertical-align: top;\n    }\n\n    .dataframe thead th {\n        text-align: right;\n    }\n</style>\n<table border=\"1\" class=\"dataframe\">\n  <thead>\n    <tr style=\"text-align: right;\">\n      <th></th>\n      <th>Book-Rating</th>\n      <th>Book-Author</th>\n      <th>Year-Of-Publication</th>\n      <th>Publisher</th>\n      <th>Age</th>\n      <th>City</th>\n      <th>State</th>\n      <th>Country</th>\n    </tr>\n  </thead>\n  <tbody>\n    <tr>\n      <th>0</th>\n      <td>0.0</td>\n      <td>0.857086</td>\n      <td>0.628378</td>\n      <td>0.940332</td>\n      <td>0.225</td>\n      <td>0.089722</td>\n      <td>0.107001</td>\n      <td>0.868132</td>\n    </tr>\n    <tr>\n      <th>1</th>\n      <td>0.0</td>\n      <td>0.735815</td>\n      <td>0.675676</td>\n      <td>0.543443</td>\n      <td>0.225</td>\n      <td>0.089722</td>\n      <td>0.107001</td>\n      <td>0.868132</td>\n    </tr>\n    <tr>\n      <th>2</th>\n      <td>0.0</td>\n      <td>0.291093</td>\n      <td>0.587838</td>\n      <td>0.253776</td>\n      <td>0.225</td>\n      <td>0.089722</td>\n      <td>0.107001</td>\n      <td>0.868132</td>\n    </tr>\n    <tr>\n      <th>3</th>\n      <td>0.9</td>\n      <td>0.031064</td>\n      <td>0.608108</td>\n      <td>0.361896</td>\n      <td>0.225</td>\n      <td>0.089722</td>\n      <td>0.107001</td>\n      <td>0.868132</td>\n    </tr>\n    <tr>\n      <th>4</th>\n      <td>0.0</td>\n      <td>0.315107</td>\n      <td>0.662162</td>\n      <td>0.698520</td>\n      <td>0.225</td>\n      <td>0.089722</td>\n      <td>0.107001</td>\n      <td>0.868132</td>\n    </tr>\n    <tr>\n      <th>...</th>\n      <td>...</td>\n      <td>...</td>\n      <td>...</td>\n      <td>...</td>\n      <td>...</td>\n      <td>...</td>\n      <td>...</td>\n      <td>...</td>\n    </tr>\n    <tr>\n      <th>132915</th>\n      <td>0.0</td>\n      <td>0.655275</td>\n      <td>0.641892</td>\n      <td>0.452370</td>\n      <td>0.250</td>\n      <td>0.874871</td>\n      <td>0.655218</td>\n      <td>0.175824</td>\n    </tr>\n    <tr>\n      <th>132916</th>\n      <td>0.0</td>\n      <td>0.462640</td>\n      <td>0.662162</td>\n      <td>0.198594</td>\n      <td>0.250</td>\n      <td>0.874871</td>\n      <td>0.655218</td>\n      <td>0.175824</td>\n    </tr>\n    <tr>\n      <th>132917</th>\n      <td>0.5</td>\n      <td>0.476617</td>\n      <td>0.655405</td>\n      <td>0.896516</td>\n      <td>0.300</td>\n      <td>0.629082</td>\n      <td>0.348745</td>\n      <td>0.956044</td>\n    </tr>\n    <tr>\n      <th>132918</th>\n      <td>0.5</td>\n      <td>0.650165</td>\n      <td>0.662162</td>\n      <td>0.896516</td>\n      <td>0.300</td>\n      <td>0.629082</td>\n      <td>0.348745</td>\n      <td>0.956044</td>\n    </tr>\n    <tr>\n      <th>132919</th>\n      <td>0.0</td>\n      <td>0.043071</td>\n      <td>0.641892</td>\n      <td>0.023927</td>\n      <td>0.100</td>\n      <td>0.719491</td>\n      <td>0.731836</td>\n      <td>0.175824</td>\n    </tr>\n  </tbody>\n</table>\n<p>132920 rows × 8 columns</p>\n</div>"
          },
          "metadata": {}
        }
      ]
    },
    {
      "cell_type": "markdown",
      "source": [
        "#### KMeans"
      ],
      "metadata": {
        "id": "5eKpt7NnbQHI"
      }
    },
    {
      "cell_type": "markdown",
      "source": [
        "#### Running KMeans for finding better k value for clustering"
      ],
      "metadata": {
        "id": "O-sNPNhObQHI"
      }
    },
    {
      "cell_type": "code",
      "source": [
        "inertias = []\n",
        "for i in range(1,11):\n",
        "    km = KMeans(n_clusters = i,n_init = 'auto')\n",
        "    km.fit(recomendation_dataset)\n",
        "    inertias.append(km.inertia_)\n",
        "plt.plot(range(1,11),inertias)\n"
      ],
      "metadata": {
        "execution": {
          "iopub.status.busy": "2024-03-23T04:02:10.186925Z",
          "iopub.execute_input": "2024-03-23T04:02:10.187592Z",
          "iopub.status.idle": "2024-03-23T04:02:12.455897Z",
          "shell.execute_reply.started": "2024-03-23T04:02:10.18756Z",
          "shell.execute_reply": "2024-03-23T04:02:12.454906Z"
        },
        "trusted": true,
        "id": "lf5MMQ3dbQHI",
        "outputId": "be9e11c4-a14f-45f0-d368-20cbbb9bae46"
      },
      "execution_count": null,
      "outputs": [
        {
          "execution_count": 56,
          "output_type": "execute_result",
          "data": {
            "text/plain": "[<matplotlib.lines.Line2D at 0x7cd7b363ba00>]"
          },
          "metadata": {}
        },
        {
          "output_type": "display_data",
          "data": {
            "text/plain": "<Figure size 640x480 with 1 Axes>",
            "image/png": "[encoded data removed]"
          },
          "metadata": {}
        }
      ]
    },
    {
      "cell_type": "markdown",
      "source": [
        "#### Training on the k value from the above elbow method"
      ],
      "metadata": {
        "id": "gkFyJSsGbQHI"
      }
    },
    {
      "cell_type": "code",
      "source": [
        "kmeans = KMeans(n_clusters= 5,n_init = 'auto')\n",
        "clusters = kmeans.fit_predict(recomendation_dataset)\n"
      ],
      "metadata": {
        "execution": {
          "iopub.status.busy": "2024-03-23T04:02:12.457105Z",
          "iopub.execute_input": "2024-03-23T04:02:12.45804Z",
          "iopub.status.idle": "2024-03-23T04:02:12.722815Z",
          "shell.execute_reply.started": "2024-03-23T04:02:12.45801Z",
          "shell.execute_reply": "2024-03-23T04:02:12.721614Z"
        },
        "trusted": true,
        "id": "Fv_q5oWnbQHI"
      },
      "execution_count": null,
      "outputs": []
    },
    {
      "cell_type": "markdown",
      "source": [
        "#### Appending cluster values back to our training dataset"
      ],
      "metadata": {
        "id": "ub3bd9fSbQHI"
      }
    },
    {
      "cell_type": "code",
      "source": [
        "recomendation_dataset['Clusters'] = clusters"
      ],
      "metadata": {
        "execution": {
          "iopub.status.busy": "2024-03-23T04:02:12.724495Z",
          "iopub.execute_input": "2024-03-23T04:02:12.724833Z",
          "iopub.status.idle": "2024-03-23T04:02:12.730491Z",
          "shell.execute_reply.started": "2024-03-23T04:02:12.724804Z",
          "shell.execute_reply": "2024-03-23T04:02:12.729201Z"
        },
        "trusted": true,
        "id": "hAv7tjc9bQHI"
      },
      "execution_count": null,
      "outputs": []
    },
    {
      "cell_type": "code",
      "source": [
        "recomendation_dataset['Clusters'].value_counts()"
      ],
      "metadata": {
        "execution": {
          "iopub.status.busy": "2024-03-23T04:02:12.731684Z",
          "iopub.execute_input": "2024-03-23T04:02:12.732023Z",
          "iopub.status.idle": "2024-03-23T04:02:12.74866Z",
          "shell.execute_reply.started": "2024-03-23T04:02:12.731994Z",
          "shell.execute_reply": "2024-03-23T04:02:12.747867Z"
        },
        "trusted": true,
        "id": "g_0F2mv7bQHI",
        "outputId": "d095359f-4a09-481c-9740-6e64653b2e95"
      },
      "execution_count": null,
      "outputs": [
        {
          "execution_count": 59,
          "output_type": "execute_result",
          "data": {
            "text/plain": "Clusters\n2    40247\n1    38561\n3    25075\n0    14588\n4    14449\nName: count, dtype: int64"
          },
          "metadata": {}
        }
      ]
    },
    {
      "cell_type": "code",
      "source": [
        "recomendation_dataset"
      ],
      "metadata": {
        "execution": {
          "iopub.status.busy": "2024-03-23T04:02:12.749739Z",
          "iopub.execute_input": "2024-03-23T04:02:12.750466Z",
          "iopub.status.idle": "2024-03-23T04:02:12.771564Z",
          "shell.execute_reply.started": "2024-03-23T04:02:12.750438Z",
          "shell.execute_reply": "2024-03-23T04:02:12.770587Z"
        },
        "trusted": true,
        "id": "IuTZc8pObQHI",
        "outputId": "c6eb28e1-6f1b-4efa-b5e1-66aad2503c07"
      },
      "execution_count": null,
      "outputs": [
        {
          "execution_count": 60,
          "output_type": "execute_result",
          "data": {
            "text/plain": "        Book-Rating  Book-Author  Year-Of-Publication  Publisher    Age  \\\n0               0.0     0.857086             0.628378   0.940332  0.225   \n1               0.0     0.735815             0.675676   0.543443  0.225   \n2               0.0     0.291093             0.587838   0.253776  0.225   \n3               0.9     0.031064             0.608108   0.361896  0.225   \n4               0.0     0.315107             0.662162   0.698520  0.225   \n...             ...          ...                  ...        ...    ...   \n132915          0.0     0.655275             0.641892   0.452370  0.250   \n132916          0.0     0.462640             0.662162   0.198594  0.250   \n132917          0.5     0.476617             0.655405   0.896516  0.300   \n132918          0.5     0.650165             0.662162   0.896516  0.300   \n132919          0.0     0.043071             0.641892   0.023927  0.100   \n\n            City     State   Country  Clusters  \n0       0.089722  0.107001  0.868132         1  \n1       0.089722  0.107001  0.868132         1  \n2       0.089722  0.107001  0.868132         1  \n3       0.089722  0.107001  0.868132         3  \n4       0.089722  0.107001  0.868132         1  \n...          ...       ...       ...       ...  \n132915  0.874871  0.655218  0.175824         2  \n132916  0.874871  0.655218  0.175824         2  \n132917  0.629082  0.348745  0.956044         3  \n132918  0.629082  0.348745  0.956044         3  \n132919  0.719491  0.731836  0.175824         2  \n\n[132920 rows x 9 columns]",
            "text/html": "<div>\n<style scoped>\n    .dataframe tbody tr th:only-of-type {\n        vertical-align: middle;\n    }\n\n    .dataframe tbody tr th {\n        vertical-align: top;\n    }\n\n    .dataframe thead th {\n        text-align: right;\n    }\n</style>\n<table border=\"1\" class=\"dataframe\">\n  <thead>\n    <tr style=\"text-align: right;\">\n      <th></th>\n      <th>Book-Rating</th>\n      <th>Book-Author</th>\n      <th>Year-Of-Publication</th>\n      <th>Publisher</th>\n      <th>Age</th>\n      <th>City</th>\n      <th>State</th>\n      <th>Country</th>\n      <th>Clusters</th>\n    </tr>\n  </thead>\n  <tbody>\n    <tr>\n      <th>0</th>\n      <td>0.0</td>\n      <td>0.857086</td>\n      <td>0.628378</td>\n      <td>0.940332</td>\n      <td>0.225</td>\n      <td>0.089722</td>\n      <td>0.107001</td>\n      <td>0.868132</td>\n      <td>1</td>\n    </tr>\n    <tr>\n      <th>1</th>\n      <td>0.0</td>\n      <td>0.735815</td>\n      <td>0.675676</td>\n      <td>0.543443</td>\n      <td>0.225</td>\n      <td>0.089722</td>\n      <td>0.107001</td>\n      <td>0.868132</td>\n      <td>1</td>\n    </tr>\n    <tr>\n      <th>2</th>\n      <td>0.0</td>\n      <td>0.291093</td>\n      <td>0.587838</td>\n      <td>0.253776</td>\n      <td>0.225</td>\n      <td>0.089722</td>\n      <td>0.107001</td>\n      <td>0.868132</td>\n      <td>1</td>\n    </tr>\n    <tr>\n      <th>3</th>\n      <td>0.9</td>\n      <td>0.031064</td>\n      <td>0.608108</td>\n      <td>0.361896</td>\n      <td>0.225</td>\n      <td>0.089722</td>\n      <td>0.107001</td>\n      <td>0.868132</td>\n      <td>3</td>\n    </tr>\n    <tr>\n      <th>4</th>\n      <td>0.0</td>\n      <td>0.315107</td>\n      <td>0.662162</td>\n      <td>0.698520</td>\n      <td>0.225</td>\n      <td>0.089722</td>\n      <td>0.107001</td>\n      <td>0.868132</td>\n      <td>1</td>\n    </tr>\n    <tr>\n      <th>...</th>\n      <td>...</td>\n      <td>...</td>\n      <td>...</td>\n      <td>...</td>\n      <td>...</td>\n      <td>...</td>\n      <td>...</td>\n      <td>...</td>\n      <td>...</td>\n    </tr>\n    <tr>\n      <th>132915</th>\n      <td>0.0</td>\n      <td>0.655275</td>\n      <td>0.641892</td>\n      <td>0.452370</td>\n      <td>0.250</td>\n      <td>0.874871</td>\n      <td>0.655218</td>\n      <td>0.175824</td>\n      <td>2</td>\n    </tr>\n    <tr>\n      <th>132916</th>\n      <td>0.0</td>\n      <td>0.462640</td>\n      <td>0.662162</td>\n      <td>0.198594</td>\n      <td>0.250</td>\n      <td>0.874871</td>\n      <td>0.655218</td>\n      <td>0.175824</td>\n      <td>2</td>\n    </tr>\n    <tr>\n      <th>132917</th>\n      <td>0.5</td>\n      <td>0.476617</td>\n      <td>0.655405</td>\n      <td>0.896516</td>\n      <td>0.300</td>\n      <td>0.629082</td>\n      <td>0.348745</td>\n      <td>0.956044</td>\n      <td>3</td>\n    </tr>\n    <tr>\n      <th>132918</th>\n      <td>0.5</td>\n      <td>0.650165</td>\n      <td>0.662162</td>\n      <td>0.896516</td>\n      <td>0.300</td>\n      <td>0.629082</td>\n      <td>0.348745</td>\n      <td>0.956044</td>\n      <td>3</td>\n    </tr>\n    <tr>\n      <th>132919</th>\n      <td>0.0</td>\n      <td>0.043071</td>\n      <td>0.641892</td>\n      <td>0.023927</td>\n      <td>0.100</td>\n      <td>0.719491</td>\n      <td>0.731836</td>\n      <td>0.175824</td>\n      <td>2</td>\n    </tr>\n  </tbody>\n</table>\n<p>132920 rows × 9 columns</p>\n</div>"
          },
          "metadata": {}
        }
      ]
    },
    {
      "cell_type": "markdown",
      "source": [
        "#### Selecting training and test data"
      ],
      "metadata": {
        "id": "fvhjKmGxbQHI"
      }
    },
    {
      "cell_type": "code",
      "source": [
        "train_df,test_df = recomendation_dataset.iloc[:,:-1],recomendation_dataset.iloc[:,-1]"
      ],
      "metadata": {
        "execution": {
          "iopub.status.busy": "2024-03-23T04:02:12.772719Z",
          "iopub.execute_input": "2024-03-23T04:02:12.773012Z",
          "iopub.status.idle": "2024-03-23T04:02:12.781696Z",
          "shell.execute_reply.started": "2024-03-23T04:02:12.772987Z",
          "shell.execute_reply": "2024-03-23T04:02:12.780825Z"
        },
        "trusted": true,
        "id": "d7W5-JTtbQHI"
      },
      "execution_count": null,
      "outputs": []
    },
    {
      "cell_type": "markdown",
      "source": [
        "#### Splitting training and testing dataset"
      ],
      "metadata": {
        "id": "LU-fknG9bQHI"
      }
    },
    {
      "cell_type": "code",
      "source": [
        "train_X,test_x,train_y,test_y = train_test_split(train_df,test_df,test_size=0.2)"
      ],
      "metadata": {
        "execution": {
          "iopub.status.busy": "2024-03-23T04:02:12.782795Z",
          "iopub.execute_input": "2024-03-23T04:02:12.783094Z",
          "iopub.status.idle": "2024-03-23T04:02:12.81041Z",
          "shell.execute_reply.started": "2024-03-23T04:02:12.783069Z",
          "shell.execute_reply": "2024-03-23T04:02:12.809322Z"
        },
        "trusted": true,
        "id": "_-GMWjRcbQHI"
      },
      "execution_count": null,
      "outputs": []
    },
    {
      "cell_type": "markdown",
      "source": [
        "#### ROCCHIO CLASSIFIER"
      ],
      "metadata": {
        "id": "j7Pxc5oobQHI"
      }
    },
    {
      "cell_type": "markdown",
      "source": [
        "#### Creating an instance of Rocchio classifier"
      ],
      "metadata": {
        "id": "QFO3k4_vbQHI"
      }
    },
    {
      "cell_type": "code",
      "source": [
        "rocchio_clf = NearestCentroid()\n",
        "rocchio_clf.fit(train_X,train_y)"
      ],
      "metadata": {
        "execution": {
          "iopub.status.busy": "2024-03-23T04:02:12.811623Z",
          "iopub.execute_input": "2024-03-23T04:02:12.811933Z",
          "iopub.status.idle": "2024-03-23T04:02:12.843761Z",
          "shell.execute_reply.started": "2024-03-23T04:02:12.811908Z",
          "shell.execute_reply": "2024-03-23T04:02:12.842637Z"
        },
        "trusted": true,
        "id": "aD3M6eQDbQHI",
        "outputId": "2ac42803-00d3-4b52-c5f4-c67bec7e7d0a"
      },
      "execution_count": null,
      "outputs": [
        {
          "execution_count": 63,
          "output_type": "execute_result",
          "data": {
            "text/plain": "NearestCentroid()",
            "text/html": "<style>#sk-container-id-1 {color: black;background-color: white;}#sk-container-id-1 pre{padding: 0;}#sk-container-id-1 div.sk-toggleable {background-color: white;}#sk-container-id-1 label.sk-toggleable__label {cursor: pointer;display: block;width: 100%;margin-bottom: 0;padding: 0.3em;box-sizing: border-box;text-align: center;}#sk-container-id-1 label.sk-toggleable__label-arrow:before {content: \"▸\";float: left;margin-right: 0.25em;color: #696969;}#sk-container-id-1 label.sk-toggleable__label-arrow:hover:before {color: black;}#sk-container-id-1 div.sk-estimator:hover label.sk-toggleable__label-arrow:before {color: black;}#sk-container-id-1 div.sk-toggleable__content {max-height: 0;max-width: 0;overflow: hidden;text-align: left;background-color: #f0f8ff;}#sk-container-id-1 div.sk-toggleable__content pre {margin: 0.2em;color: black;border-radius: 0.25em;background-color: #f0f8ff;}#sk-container-id-1 input.sk-toggleable__control:checked~div.sk-toggleable__content {max-height: 200px;max-width: 100%;overflow: auto;}#sk-container-id-1 input.sk-toggleable__control:checked~label.sk-toggleable__label-arrow:before {content: \"▾\";}#sk-container-id-1 div.sk-estimator input.sk-toggleable__control:checked~label.sk-toggleable__label {background-color: #d4ebff;}#sk-container-id-1 div.sk-label input.sk-toggleable__control:checked~label.sk-toggleable__label {background-color: #d4ebff;}#sk-container-id-1 input.sk-hidden--visually {border: 0;clip: rect(1px 1px 1px 1px);clip: rect(1px, 1px, 1px, 1px);height: 1px;margin: -1px;overflow: hidden;padding: 0;position: absolute;width: 1px;}#sk-container-id-1 div.sk-estimator {font-family: monospace;background-color: #f0f8ff;border: 1px dotted black;border-radius: 0.25em;box-sizing: border-box;margin-bottom: 0.5em;}#sk-container-id-1 div.sk-estimator:hover {background-color: #d4ebff;}#sk-container-id-1 div.sk-parallel-item::after {content: \"\";width: 100%;border-bottom: 1px solid gray;flex-grow: 1;}#sk-container-id-1 div.sk-label:hover label.sk-toggleable__label {background-color: #d4ebff;}#sk-container-id-1 div.sk-serial::before {content: \"\";position: absolute;border-left: 1px solid gray;box-sizing: border-box;top: 0;bottom: 0;left: 50%;z-index: 0;}#sk-container-id-1 div.sk-serial {display: flex;flex-direction: column;align-items: center;background-color: white;padding-right: 0.2em;padding-left: 0.2em;position: relative;}#sk-container-id-1 div.sk-item {position: relative;z-index: 1;}#sk-container-id-1 div.sk-parallel {display: flex;align-items: stretch;justify-content: center;background-color: white;position: relative;}#sk-container-id-1 div.sk-item::before, #sk-container-id-1 div.sk-parallel-item::before {content: \"\";position: absolute;border-left: 1px solid gray;box-sizing: border-box;top: 0;bottom: 0;left: 50%;z-index: -1;}#sk-container-id-1 div.sk-parallel-item {display: flex;flex-direction: column;z-index: 1;position: relative;background-color: white;}#sk-container-id-1 div.sk-parallel-item:first-child::after {align-self: flex-end;width: 50%;}#sk-container-id-1 div.sk-parallel-item:last-child::after {align-self: flex-start;width: 50%;}#sk-container-id-1 div.sk-parallel-item:only-child::after {width: 0;}#sk-container-id-1 div.sk-dashed-wrapped {border: 1px dashed gray;margin: 0 0.4em 0.5em 0.4em;box-sizing: border-box;padding-bottom: 0.4em;background-color: white;}#sk-container-id-1 div.sk-label label {font-family: monospace;font-weight: bold;display: inline-block;line-height: 1.2em;}#sk-container-id-1 div.sk-label-container {text-align: center;}#sk-container-id-1 div.sk-container {/* jupyter's `normalize.less` sets `[hidden] { display: none; }` but bootstrap.min.css set `[hidden] { display: none !important; }` so we also need the `!important` here to be able to override the default hidden behavior on the sphinx rendered scikit-learn.org. See: https://github.com/scikit-learn/scikit-learn/issues/21755 */display: inline-block !important;position: relative;}#sk-container-id-1 div.sk-text-repr-fallback {display: none;}</style><div id=\"sk-container-id-1\" class=\"sk-top-container\"><div class=\"sk-text-repr-fallback\"><pre>NearestCentroid()</pre><b>In a Jupyter environment, please rerun this cell to show the HTML representation or trust the notebook. <br />On GitHub, the HTML representation is unable to render, please try loading this page with nbviewer.org.</b></div><div class=\"sk-container\" hidden><div class=\"sk-item\"><div class=\"sk-estimator sk-toggleable\"><input class=\"sk-toggleable__control sk-hidden--visually\" id=\"sk-estimator-id-1\" type=\"checkbox\" checked><label for=\"sk-estimator-id-1\" class=\"sk-toggleable__label sk-toggleable__label-arrow\">NearestCentroid</label><div class=\"sk-toggleable__content\"><pre>NearestCentroid()</pre></div></div></div></div></div>"
          },
          "metadata": {}
        }
      ]
    },
    {
      "cell_type": "markdown",
      "source": [
        "#### Checking the correctness and accuracy of rocchio method using cross validation"
      ],
      "metadata": {
        "id": "WN5ZQvYVbQHI"
      }
    },
    {
      "cell_type": "code",
      "source": [
        "print(cross_val_score(rocchio_clf,train_df,test_df,cv = 5))"
      ],
      "metadata": {
        "execution": {
          "iopub.status.busy": "2024-03-23T04:02:12.845332Z",
          "iopub.execute_input": "2024-03-23T04:02:12.845635Z",
          "iopub.status.idle": "2024-03-23T04:02:13.131653Z",
          "shell.execute_reply.started": "2024-03-23T04:02:12.845611Z",
          "shell.execute_reply": "2024-03-23T04:02:13.130576Z"
        },
        "trusted": true,
        "id": "Tu5F9dBKbQHI",
        "outputId": "4d16edbd-abff-4477-e840-c692bd872059"
      },
      "execution_count": null,
      "outputs": [
        {
          "name": "stdout",
          "text": "[0.99653927 0.99823202 0.99747969 0.99680259 0.99687782]\n",
          "output_type": "stream"
        }
      ]
    },
    {
      "cell_type": "markdown",
      "source": [
        "#### Predicting results"
      ],
      "metadata": {
        "id": "EzvHIp3vbQHJ"
      }
    },
    {
      "cell_type": "code",
      "source": [
        "pred_y = rocchio_clf.predict(test_x)"
      ],
      "metadata": {
        "execution": {
          "iopub.status.busy": "2024-03-23T04:02:13.133068Z",
          "iopub.execute_input": "2024-03-23T04:02:13.133691Z",
          "iopub.status.idle": "2024-03-23T04:02:13.150025Z",
          "shell.execute_reply.started": "2024-03-23T04:02:13.13365Z",
          "shell.execute_reply": "2024-03-23T04:02:13.148892Z"
        },
        "trusted": true,
        "id": "VSIGmmgcbQHJ"
      },
      "execution_count": null,
      "outputs": []
    },
    {
      "cell_type": "code",
      "source": [
        "accuracy_score(test_y,pred_y) * 100"
      ],
      "metadata": {
        "execution": {
          "iopub.status.busy": "2024-03-23T04:02:13.15201Z",
          "iopub.execute_input": "2024-03-23T04:02:13.152868Z",
          "iopub.status.idle": "2024-03-23T04:02:13.166311Z",
          "shell.execute_reply.started": "2024-03-23T04:02:13.152826Z",
          "shell.execute_reply": "2024-03-23T04:02:13.165218Z"
        },
        "trusted": true,
        "id": "sjzibYJRbQHJ",
        "outputId": "1cbdb7d9-8326-4c17-8cf7-5406c74e6397"
      },
      "execution_count": null,
      "outputs": [
        {
          "execution_count": 66,
          "output_type": "execute_result",
          "data": {
            "text/plain": "99.90219681011135"
          },
          "metadata": {}
        }
      ]
    },
    {
      "cell_type": "code",
      "source": [
        "cm = confusion_matrix(test_y,pred_y)\n",
        "disp = ConfusionMatrixDisplay(cm)\n",
        "disp.plot()"
      ],
      "metadata": {
        "execution": {
          "iopub.status.busy": "2024-03-23T04:02:13.168266Z",
          "iopub.execute_input": "2024-03-23T04:02:13.169057Z",
          "iopub.status.idle": "2024-03-23T04:02:13.521556Z",
          "shell.execute_reply.started": "2024-03-23T04:02:13.169018Z",
          "shell.execute_reply": "2024-03-23T04:02:13.520468Z"
        },
        "trusted": true,
        "id": "NJLTAm6ZbQHJ",
        "outputId": "75cb2fd0-7022-43a3-f46a-633c7b7a9a43"
      },
      "execution_count": null,
      "outputs": [
        {
          "execution_count": 67,
          "output_type": "execute_result",
          "data": {
            "text/plain": "<sklearn.metrics._plot.confusion_matrix.ConfusionMatrixDisplay at 0x7cd7b35e4280>"
          },
          "metadata": {}
        },
        {
          "output_type": "display_data",
          "data": {
            "text/plain": "<Figure size 640x480 with 2 Axes>",
            "image/png": "[encoded data removed]"
          },
          "metadata": {}
        }
      ]
    },
    {
      "cell_type": "markdown",
      "source": [
        "#### Taking some samples for recomendation"
      ],
      "metadata": {
        "id": "v8nuhFDQbQHJ"
      }
    },
    {
      "cell_type": "code",
      "source": [
        "samples = test_x.sample(10)\n",
        "samples"
      ],
      "metadata": {
        "execution": {
          "iopub.status.busy": "2024-03-23T04:02:13.522995Z",
          "iopub.execute_input": "2024-03-23T04:02:13.523572Z",
          "iopub.status.idle": "2024-03-23T04:02:13.541302Z",
          "shell.execute_reply.started": "2024-03-23T04:02:13.523539Z",
          "shell.execute_reply": "2024-03-23T04:02:13.540196Z"
        },
        "trusted": true,
        "id": "pjVt8liAbQHJ",
        "outputId": "8038ad24-05ae-4194-8689-364fc147a317"
      },
      "execution_count": null,
      "outputs": [
        {
          "execution_count": 68,
          "output_type": "execute_result",
          "data": {
            "text/plain": "        Book-Rating  Book-Author  Year-Of-Publication  Publisher     Age  \\\n110209          0.6     0.485484             0.567568   0.227157  0.5500   \n88556           0.0     0.139435             0.635135   0.394497  0.3000   \n53408           0.0     0.491826             0.689189   0.026469  0.1875   \n53762           0.8     0.092823             0.668919   0.766412  0.4125   \n14772           0.0     0.485422             0.689189   0.096755  0.3000   \n499             0.0     0.370832             0.655405   0.253776  0.3375   \n15269           0.0     0.800622             0.689189   0.892627  0.1000   \n62711           0.0     0.508543             0.614865   0.247944  0.2375   \n66194           0.0     0.708106             0.675676   0.397189  0.3000   \n73751           0.0     0.346603             0.641892   0.816958  0.4750   \n\n            City     State   Country  \n110209  0.874871  0.655218  0.175824  \n88556   0.340323  0.376486  0.351648  \n53408   0.566518  0.931308  0.054945  \n53762   0.970093  0.655218  0.175824  \n14772   0.155036  0.019815  0.175824  \n499     0.963218  0.968296  0.065934  \n15269   0.063596  0.175694  0.835165  \n62711   0.449639  0.655218  0.175824  \n66194   0.525610  0.261559  0.956044  \n73751   0.240976  0.669749  0.615385  ",
            "text/html": "<div>\n<style scoped>\n    .dataframe tbody tr th:only-of-type {\n        vertical-align: middle;\n    }\n\n    .dataframe tbody tr th {\n        vertical-align: top;\n    }\n\n    .dataframe thead th {\n        text-align: right;\n    }\n</style>\n<table border=\"1\" class=\"dataframe\">\n  <thead>\n    <tr style=\"text-align: right;\">\n      <th></th>\n      <th>Book-Rating</th>\n      <th>Book-Author</th>\n      <th>Year-Of-Publication</th>\n      <th>Publisher</th>\n      <th>Age</th>\n      <th>City</th>\n      <th>State</th>\n      <th>Country</th>\n    </tr>\n  </thead>\n  <tbody>\n    <tr>\n      <th>110209</th>\n      <td>0.6</td>\n      <td>0.485484</td>\n      <td>0.567568</td>\n      <td>0.227157</td>\n      <td>0.5500</td>\n      <td>0.874871</td>\n      <td>0.655218</td>\n      <td>0.175824</td>\n    </tr>\n    <tr>\n      <th>88556</th>\n      <td>0.0</td>\n      <td>0.139435</td>\n      <td>0.635135</td>\n      <td>0.394497</td>\n      <td>0.3000</td>\n      <td>0.340323</td>\n      <td>0.376486</td>\n      <td>0.351648</td>\n    </tr>\n    <tr>\n      <th>53408</th>\n      <td>0.0</td>\n      <td>0.491826</td>\n      <td>0.689189</td>\n      <td>0.026469</td>\n      <td>0.1875</td>\n      <td>0.566518</td>\n      <td>0.931308</td>\n      <td>0.054945</td>\n    </tr>\n    <tr>\n      <th>53762</th>\n      <td>0.8</td>\n      <td>0.092823</td>\n      <td>0.668919</td>\n      <td>0.766412</td>\n      <td>0.4125</td>\n      <td>0.970093</td>\n      <td>0.655218</td>\n      <td>0.175824</td>\n    </tr>\n    <tr>\n      <th>14772</th>\n      <td>0.0</td>\n      <td>0.485422</td>\n      <td>0.689189</td>\n      <td>0.096755</td>\n      <td>0.3000</td>\n      <td>0.155036</td>\n      <td>0.019815</td>\n      <td>0.175824</td>\n    </tr>\n    <tr>\n      <th>499</th>\n      <td>0.0</td>\n      <td>0.370832</td>\n      <td>0.655405</td>\n      <td>0.253776</td>\n      <td>0.3375</td>\n      <td>0.963218</td>\n      <td>0.968296</td>\n      <td>0.065934</td>\n    </tr>\n    <tr>\n      <th>15269</th>\n      <td>0.0</td>\n      <td>0.800622</td>\n      <td>0.689189</td>\n      <td>0.892627</td>\n      <td>0.1000</td>\n      <td>0.063596</td>\n      <td>0.175694</td>\n      <td>0.835165</td>\n    </tr>\n    <tr>\n      <th>62711</th>\n      <td>0.0</td>\n      <td>0.508543</td>\n      <td>0.614865</td>\n      <td>0.247944</td>\n      <td>0.2375</td>\n      <td>0.449639</td>\n      <td>0.655218</td>\n      <td>0.175824</td>\n    </tr>\n    <tr>\n      <th>66194</th>\n      <td>0.0</td>\n      <td>0.708106</td>\n      <td>0.675676</td>\n      <td>0.397189</td>\n      <td>0.3000</td>\n      <td>0.525610</td>\n      <td>0.261559</td>\n      <td>0.956044</td>\n    </tr>\n    <tr>\n      <th>73751</th>\n      <td>0.0</td>\n      <td>0.346603</td>\n      <td>0.641892</td>\n      <td>0.816958</td>\n      <td>0.4750</td>\n      <td>0.240976</td>\n      <td>0.669749</td>\n      <td>0.615385</td>\n    </tr>\n  </tbody>\n</table>\n</div>"
          },
          "metadata": {}
        }
      ]
    },
    {
      "cell_type": "code",
      "source": [
        "indeces = samples.index.tolist()\n",
        "indeces"
      ],
      "metadata": {
        "execution": {
          "iopub.status.busy": "2024-03-23T04:02:13.542606Z",
          "iopub.execute_input": "2024-03-23T04:02:13.542924Z",
          "iopub.status.idle": "2024-03-23T04:02:13.553975Z",
          "shell.execute_reply.started": "2024-03-23T04:02:13.542898Z",
          "shell.execute_reply": "2024-03-23T04:02:13.55263Z"
        },
        "trusted": true,
        "id": "ZW30GHHubQHJ",
        "outputId": "b89b8b0b-194b-4ac8-97c7-4d613d27cd6a"
      },
      "execution_count": null,
      "outputs": [
        {
          "execution_count": 69,
          "output_type": "execute_result",
          "data": {
            "text/plain": "[110209, 88556, 53408, 53762, 14772, 499, 15269, 62711, 66194, 73751]"
          },
          "metadata": {}
        }
      ]
    },
    {
      "cell_type": "markdown",
      "source": [
        "#### Predicting cluster values for our sample values"
      ],
      "metadata": {
        "id": "gsBTZY4ubQHJ"
      }
    },
    {
      "cell_type": "code",
      "source": [
        "samples_pred = rocchio_clf.predict(samples).reshape(1,-1).flatten().tolist()\n",
        "samples_pred"
      ],
      "metadata": {
        "execution": {
          "iopub.status.busy": "2024-03-23T04:02:13.555764Z",
          "iopub.execute_input": "2024-03-23T04:02:13.55638Z",
          "iopub.status.idle": "2024-03-23T04:02:13.571065Z",
          "shell.execute_reply.started": "2024-03-23T04:02:13.556312Z",
          "shell.execute_reply": "2024-03-23T04:02:13.569903Z"
        },
        "trusted": true,
        "id": "ZF5h0ftubQHJ",
        "outputId": "482e92c1-4267-452b-c9a8-748c4a418704"
      },
      "execution_count": null,
      "outputs": [
        {
          "execution_count": 70,
          "output_type": "execute_result",
          "data": {
            "text/plain": "[0, 1, 2, 0, 1, 2, 1, 2, 1, 1]"
          },
          "metadata": {}
        }
      ]
    },
    {
      "cell_type": "code",
      "source": [
        "data = train_X.copy()"
      ],
      "metadata": {
        "execution": {
          "iopub.status.busy": "2024-03-23T04:02:13.572346Z",
          "iopub.execute_input": "2024-03-23T04:02:13.575625Z",
          "iopub.status.idle": "2024-03-23T04:02:13.586346Z",
          "shell.execute_reply.started": "2024-03-23T04:02:13.575585Z",
          "shell.execute_reply": "2024-03-23T04:02:13.585335Z"
        },
        "trusted": true,
        "id": "bCxiN7ZCbQHJ"
      },
      "execution_count": null,
      "outputs": []
    },
    {
      "cell_type": "code",
      "source": [
        "data['Clusters'] = train_y"
      ],
      "metadata": {
        "execution": {
          "iopub.status.busy": "2024-03-23T04:02:13.587837Z",
          "iopub.execute_input": "2024-03-23T04:02:13.588736Z",
          "iopub.status.idle": "2024-03-23T04:02:13.596456Z",
          "shell.execute_reply.started": "2024-03-23T04:02:13.588698Z",
          "shell.execute_reply": "2024-03-23T04:02:13.594788Z"
        },
        "trusted": true,
        "id": "eli9FDsxbQHJ"
      },
      "execution_count": null,
      "outputs": []
    },
    {
      "cell_type": "code",
      "source": [
        "data"
      ],
      "metadata": {
        "execution": {
          "iopub.status.busy": "2024-03-23T04:02:13.598238Z",
          "iopub.execute_input": "2024-03-23T04:02:13.59916Z",
          "iopub.status.idle": "2024-03-23T04:02:13.619502Z",
          "shell.execute_reply.started": "2024-03-23T04:02:13.599084Z",
          "shell.execute_reply": "2024-03-23T04:02:13.618248Z"
        },
        "trusted": true,
        "id": "0iQNegNFbQHJ",
        "outputId": "7a29c790-dde7-4c03-e41a-35014847d2f7"
      },
      "execution_count": null,
      "outputs": [
        {
          "execution_count": 73,
          "output_type": "execute_result",
          "data": {
            "text/plain": "        Book-Rating  Book-Author  Year-Of-Publication  Publisher     Age  \\\n35840           0.9     0.529971             0.621622   0.818902  0.3375   \n44784           0.8     0.672424             0.675676   0.438911  0.3000   \n37271           0.0     0.020443             0.648649   0.686406  0.2750   \n108995          0.1     0.419907             0.641892   0.954240  0.3000   \n107828          0.0     0.825190             0.662162   0.898759  0.2875   \n...             ...          ...                  ...        ...     ...   \n98158           0.7     0.006588             0.675676   0.743682  0.3625   \n115639          0.8     0.435639             0.675676   0.240167  0.2750   \n114455          0.8     0.793879             0.608108   0.940631  0.3125   \n100595          0.6     0.050614             0.641892   0.940182  0.3625   \n14400           0.8     0.422278             0.675676   0.065052  0.2375   \n\n            City     State   Country  Clusters  \n35840   0.566518  0.931308  0.054945         4  \n44784   0.971124  0.517834  0.175824         4  \n37271   0.517360  0.475561  0.747253         1  \n108995  0.499484  0.018494  0.725275         1  \n107828  0.643176  0.261559  0.956044         1  \n...          ...       ...       ...       ...  \n98158   0.143004  0.655218  0.175824         0  \n115639  0.624613  0.767503  0.351648         0  \n114455  0.874871  0.655218  0.175824         4  \n100595  0.629426  0.931308  0.054945         0  \n14400   0.525610  0.261559  0.956044         3  \n\n[106336 rows x 9 columns]",
            "text/html": "<div>\n<style scoped>\n    .dataframe tbody tr th:only-of-type {\n        vertical-align: middle;\n    }\n\n    .dataframe tbody tr th {\n        vertical-align: top;\n    }\n\n    .dataframe thead th {\n        text-align: right;\n    }\n</style>\n<table border=\"1\" class=\"dataframe\">\n  <thead>\n    <tr style=\"text-align: right;\">\n      <th></th>\n      <th>Book-Rating</th>\n      <th>Book-Author</th>\n      <th>Year-Of-Publication</th>\n      <th>Publisher</th>\n      <th>Age</th>\n      <th>City</th>\n      <th>State</th>\n      <th>Country</th>\n      <th>Clusters</th>\n    </tr>\n  </thead>\n  <tbody>\n    <tr>\n      <th>35840</th>\n      <td>0.9</td>\n      <td>0.529971</td>\n      <td>0.621622</td>\n      <td>0.818902</td>\n      <td>0.3375</td>\n      <td>0.566518</td>\n      <td>0.931308</td>\n      <td>0.054945</td>\n      <td>4</td>\n    </tr>\n    <tr>\n      <th>44784</th>\n      <td>0.8</td>\n      <td>0.672424</td>\n      <td>0.675676</td>\n      <td>0.438911</td>\n      <td>0.3000</td>\n      <td>0.971124</td>\n      <td>0.517834</td>\n      <td>0.175824</td>\n      <td>4</td>\n    </tr>\n    <tr>\n      <th>37271</th>\n      <td>0.0</td>\n      <td>0.020443</td>\n      <td>0.648649</td>\n      <td>0.686406</td>\n      <td>0.2750</td>\n      <td>0.517360</td>\n      <td>0.475561</td>\n      <td>0.747253</td>\n      <td>1</td>\n    </tr>\n    <tr>\n      <th>108995</th>\n      <td>0.1</td>\n      <td>0.419907</td>\n      <td>0.641892</td>\n      <td>0.954240</td>\n      <td>0.3000</td>\n      <td>0.499484</td>\n      <td>0.018494</td>\n      <td>0.725275</td>\n      <td>1</td>\n    </tr>\n    <tr>\n      <th>107828</th>\n      <td>0.0</td>\n      <td>0.825190</td>\n      <td>0.662162</td>\n      <td>0.898759</td>\n      <td>0.2875</td>\n      <td>0.643176</td>\n      <td>0.261559</td>\n      <td>0.956044</td>\n      <td>1</td>\n    </tr>\n    <tr>\n      <th>...</th>\n      <td>...</td>\n      <td>...</td>\n      <td>...</td>\n      <td>...</td>\n      <td>...</td>\n      <td>...</td>\n      <td>...</td>\n      <td>...</td>\n      <td>...</td>\n    </tr>\n    <tr>\n      <th>98158</th>\n      <td>0.7</td>\n      <td>0.006588</td>\n      <td>0.675676</td>\n      <td>0.743682</td>\n      <td>0.3625</td>\n      <td>0.143004</td>\n      <td>0.655218</td>\n      <td>0.175824</td>\n      <td>0</td>\n    </tr>\n    <tr>\n      <th>115639</th>\n      <td>0.8</td>\n      <td>0.435639</td>\n      <td>0.675676</td>\n      <td>0.240167</td>\n      <td>0.2750</td>\n      <td>0.624613</td>\n      <td>0.767503</td>\n      <td>0.351648</td>\n      <td>0</td>\n    </tr>\n    <tr>\n      <th>114455</th>\n      <td>0.8</td>\n      <td>0.793879</td>\n      <td>0.608108</td>\n      <td>0.940631</td>\n      <td>0.3125</td>\n      <td>0.874871</td>\n      <td>0.655218</td>\n      <td>0.175824</td>\n      <td>4</td>\n    </tr>\n    <tr>\n      <th>100595</th>\n      <td>0.6</td>\n      <td>0.050614</td>\n      <td>0.641892</td>\n      <td>0.940182</td>\n      <td>0.3625</td>\n      <td>0.629426</td>\n      <td>0.931308</td>\n      <td>0.054945</td>\n      <td>0</td>\n    </tr>\n    <tr>\n      <th>14400</th>\n      <td>0.8</td>\n      <td>0.422278</td>\n      <td>0.675676</td>\n      <td>0.065052</td>\n      <td>0.2375</td>\n      <td>0.525610</td>\n      <td>0.261559</td>\n      <td>0.956044</td>\n      <td>3</td>\n    </tr>\n  </tbody>\n</table>\n<p>106336 rows × 9 columns</p>\n</div>"
          },
          "metadata": {}
        }
      ]
    },
    {
      "cell_type": "code",
      "source": [
        "samples"
      ],
      "metadata": {
        "execution": {
          "iopub.status.busy": "2024-03-23T04:02:13.621067Z",
          "iopub.execute_input": "2024-03-23T04:02:13.622301Z",
          "iopub.status.idle": "2024-03-23T04:02:13.642588Z",
          "shell.execute_reply.started": "2024-03-23T04:02:13.622262Z",
          "shell.execute_reply": "2024-03-23T04:02:13.641411Z"
        },
        "trusted": true,
        "id": "xx4evYblbQHJ",
        "outputId": "9ce98c41-dae6-463b-be96-0cca06e2fd0e"
      },
      "execution_count": null,
      "outputs": [
        {
          "execution_count": 74,
          "output_type": "execute_result",
          "data": {
            "text/plain": "        Book-Rating  Book-Author  Year-Of-Publication  Publisher     Age  \\\n110209          0.6     0.485484             0.567568   0.227157  0.5500   \n88556           0.0     0.139435             0.635135   0.394497  0.3000   \n53408           0.0     0.491826             0.689189   0.026469  0.1875   \n53762           0.8     0.092823             0.668919   0.766412  0.4125   \n14772           0.0     0.485422             0.689189   0.096755  0.3000   \n499             0.0     0.370832             0.655405   0.253776  0.3375   \n15269           0.0     0.800622             0.689189   0.892627  0.1000   \n62711           0.0     0.508543             0.614865   0.247944  0.2375   \n66194           0.0     0.708106             0.675676   0.397189  0.3000   \n73751           0.0     0.346603             0.641892   0.816958  0.4750   \n\n            City     State   Country  \n110209  0.874871  0.655218  0.175824  \n88556   0.340323  0.376486  0.351648  \n53408   0.566518  0.931308  0.054945  \n53762   0.970093  0.655218  0.175824  \n14772   0.155036  0.019815  0.175824  \n499     0.963218  0.968296  0.065934  \n15269   0.063596  0.175694  0.835165  \n62711   0.449639  0.655218  0.175824  \n66194   0.525610  0.261559  0.956044  \n73751   0.240976  0.669749  0.615385  ",
            "text/html": "<div>\n<style scoped>\n    .dataframe tbody tr th:only-of-type {\n        vertical-align: middle;\n    }\n\n    .dataframe tbody tr th {\n        vertical-align: top;\n    }\n\n    .dataframe thead th {\n        text-align: right;\n    }\n</style>\n<table border=\"1\" class=\"dataframe\">\n  <thead>\n    <tr style=\"text-align: right;\">\n      <th></th>\n      <th>Book-Rating</th>\n      <th>Book-Author</th>\n      <th>Year-Of-Publication</th>\n      <th>Publisher</th>\n      <th>Age</th>\n      <th>City</th>\n      <th>State</th>\n      <th>Country</th>\n    </tr>\n  </thead>\n  <tbody>\n    <tr>\n      <th>110209</th>\n      <td>0.6</td>\n      <td>0.485484</td>\n      <td>0.567568</td>\n      <td>0.227157</td>\n      <td>0.5500</td>\n      <td>0.874871</td>\n      <td>0.655218</td>\n      <td>0.175824</td>\n    </tr>\n    <tr>\n      <th>88556</th>\n      <td>0.0</td>\n      <td>0.139435</td>\n      <td>0.635135</td>\n      <td>0.394497</td>\n      <td>0.3000</td>\n      <td>0.340323</td>\n      <td>0.376486</td>\n      <td>0.351648</td>\n    </tr>\n    <tr>\n      <th>53408</th>\n      <td>0.0</td>\n      <td>0.491826</td>\n      <td>0.689189</td>\n      <td>0.026469</td>\n      <td>0.1875</td>\n      <td>0.566518</td>\n      <td>0.931308</td>\n      <td>0.054945</td>\n    </tr>\n    <tr>\n      <th>53762</th>\n      <td>0.8</td>\n      <td>0.092823</td>\n      <td>0.668919</td>\n      <td>0.766412</td>\n      <td>0.4125</td>\n      <td>0.970093</td>\n      <td>0.655218</td>\n      <td>0.175824</td>\n    </tr>\n    <tr>\n      <th>14772</th>\n      <td>0.0</td>\n      <td>0.485422</td>\n      <td>0.689189</td>\n      <td>0.096755</td>\n      <td>0.3000</td>\n      <td>0.155036</td>\n      <td>0.019815</td>\n      <td>0.175824</td>\n    </tr>\n    <tr>\n      <th>499</th>\n      <td>0.0</td>\n      <td>0.370832</td>\n      <td>0.655405</td>\n      <td>0.253776</td>\n      <td>0.3375</td>\n      <td>0.963218</td>\n      <td>0.968296</td>\n      <td>0.065934</td>\n    </tr>\n    <tr>\n      <th>15269</th>\n      <td>0.0</td>\n      <td>0.800622</td>\n      <td>0.689189</td>\n      <td>0.892627</td>\n      <td>0.1000</td>\n      <td>0.063596</td>\n      <td>0.175694</td>\n      <td>0.835165</td>\n    </tr>\n    <tr>\n      <th>62711</th>\n      <td>0.0</td>\n      <td>0.508543</td>\n      <td>0.614865</td>\n      <td>0.247944</td>\n      <td>0.2375</td>\n      <td>0.449639</td>\n      <td>0.655218</td>\n      <td>0.175824</td>\n    </tr>\n    <tr>\n      <th>66194</th>\n      <td>0.0</td>\n      <td>0.708106</td>\n      <td>0.675676</td>\n      <td>0.397189</td>\n      <td>0.3000</td>\n      <td>0.525610</td>\n      <td>0.261559</td>\n      <td>0.956044</td>\n    </tr>\n    <tr>\n      <th>73751</th>\n      <td>0.0</td>\n      <td>0.346603</td>\n      <td>0.641892</td>\n      <td>0.816958</td>\n      <td>0.4750</td>\n      <td>0.240976</td>\n      <td>0.669749</td>\n      <td>0.615385</td>\n    </tr>\n  </tbody>\n</table>\n</div>"
          },
          "metadata": {}
        }
      ]
    },
    {
      "cell_type": "markdown",
      "source": [
        "#### Grouping books for recommending books on popular and highest average rating basis"
      ],
      "metadata": {
        "id": "ho3EwDD9bQHJ"
      }
    },
    {
      "cell_type": "code",
      "source": [
        "books_rate_df = dataset.groupby('Book-Title')"
      ],
      "metadata": {
        "execution": {
          "iopub.status.busy": "2024-03-23T04:02:13.644015Z",
          "iopub.execute_input": "2024-03-23T04:02:13.644832Z",
          "iopub.status.idle": "2024-03-23T04:02:13.653174Z",
          "shell.execute_reply.started": "2024-03-23T04:02:13.644795Z",
          "shell.execute_reply": "2024-03-23T04:02:13.65217Z"
        },
        "trusted": true,
        "id": "23pv2pYybQHJ"
      },
      "execution_count": null,
      "outputs": []
    },
    {
      "cell_type": "markdown",
      "source": [
        "#### Filtering popular books"
      ],
      "metadata": {
        "id": "NonVC_20bQHJ"
      }
    },
    {
      "cell_type": "code",
      "source": [
        "def popular_books():\n",
        "    return books_rate_df.size().sort_values(ascending=False).head(10).index"
      ],
      "metadata": {
        "execution": {
          "iopub.status.busy": "2024-03-23T04:02:13.65429Z",
          "iopub.execute_input": "2024-03-23T04:02:13.655001Z",
          "iopub.status.idle": "2024-03-23T04:02:13.663674Z",
          "shell.execute_reply.started": "2024-03-23T04:02:13.654972Z",
          "shell.execute_reply": "2024-03-23T04:02:13.66267Z"
        },
        "trusted": true,
        "id": "j1zAYvSXbQHJ"
      },
      "execution_count": null,
      "outputs": []
    },
    {
      "cell_type": "code",
      "source": [
        "print('------- Here are some of the popular books you may like -------')\n",
        "print('-----Happy Reading!!!-------')\n",
        "pd.Series(popular_books())\n"
      ],
      "metadata": {
        "execution": {
          "iopub.status.busy": "2024-03-23T04:02:13.664861Z",
          "iopub.execute_input": "2024-03-23T04:02:13.665454Z",
          "iopub.status.idle": "2024-03-23T04:02:13.813388Z",
          "shell.execute_reply.started": "2024-03-23T04:02:13.665424Z",
          "shell.execute_reply": "2024-03-23T04:02:13.812348Z"
        },
        "trusted": true,
        "id": "F9zHiwKNbQHJ",
        "outputId": "643b4d46-a2e5-4c61-b2ab-8667f3dc4d95"
      },
      "execution_count": null,
      "outputs": [
        {
          "name": "stdout",
          "text": "------- Here are some of the popular books you may like -------\n-----Happy Reading!!!-------\n",
          "output_type": "stream"
        },
        {
          "execution_count": 77,
          "output_type": "execute_result",
          "data": {
            "text/plain": "0                                Wild Animus\n1                  The Lovely Bones: A Novel\n2                      Bridget Jones's Diary\n3                                 Life of Pi\n4                                   Chocolat\n5    The Girls' Guide to Hunting and Fishing\n6                          The Da Vinci Code\n7                                About a Boy\n8                          The Joy Luck Club\n9                     Snow Falling on Cedars\nName: Book-Title, dtype: object"
          },
          "metadata": {}
        }
      ]
    },
    {
      "cell_type": "markdown",
      "source": [
        "#### Filtering books on highest average ratings"
      ],
      "metadata": {
        "id": "30o1BMf2bQHJ"
      }
    },
    {
      "cell_type": "code",
      "source": [
        "def highest_rated_books():\n",
        "    return books_rate_df['Book-Rating'].mean().sort_values(ascending=False).head(10).index"
      ],
      "metadata": {
        "execution": {
          "iopub.status.busy": "2024-03-23T04:02:13.814951Z",
          "iopub.execute_input": "2024-03-23T04:02:13.815372Z",
          "iopub.status.idle": "2024-03-23T04:02:13.821068Z",
          "shell.execute_reply.started": "2024-03-23T04:02:13.815335Z",
          "shell.execute_reply": "2024-03-23T04:02:13.819896Z"
        },
        "trusted": true,
        "id": "qEo-k-6MbQHJ"
      },
      "execution_count": null,
      "outputs": []
    },
    {
      "cell_type": "code",
      "source": [
        "print('------- Here are some of the highest rated books you may like -------')\n",
        "print('-----Happy Reading!!!-------')\n",
        "pd.Series(highest_rated_books())\n"
      ],
      "metadata": {
        "execution": {
          "iopub.status.busy": "2024-03-23T04:02:13.82241Z",
          "iopub.execute_input": "2024-03-23T04:02:13.82279Z",
          "iopub.status.idle": "2024-03-23T04:02:13.849304Z",
          "shell.execute_reply.started": "2024-03-23T04:02:13.822763Z",
          "shell.execute_reply": "2024-03-23T04:02:13.848317Z"
        },
        "trusted": true,
        "id": "Y_lo9UnQbQHJ",
        "outputId": "e6e06266-a6df-40af-e4d8-1326f2a6776c"
      },
      "execution_count": null,
      "outputs": [
        {
          "name": "stdout",
          "text": "------- Here are some of the highest rated books you may like -------\n-----Happy Reading!!!-------\n",
          "output_type": "stream"
        },
        {
          "execution_count": 79,
          "output_type": "execute_result",
          "data": {
            "text/plain": "0                                                                                             Pastoral Americana\n1               Mercer Mayer's LC + The Critter Kids:  Showdown at the Arcade (A Golden Book School Time Reader)\n2                                                                                 McEnroe: A Rage for Perfection\n3                                                                                      McKnight in Shining Armor\n4                                                              Doktorspiele. GestÃ?Â¤ndnisse eines Hochstaplers.\n5                                                                                                           Goya\n6                                                                     Bob Saves the Porcupines (Bob The Builder)\n7                                                                                       Alistair Cooke's America\n8    Seasons for Celebration: A Contemporary Guide to the Joys, Practices, and Traditions of the Jewish Holidays\n9                                                                                                    Doll's Eyes\nName: Book-Title, dtype: object"
          },
          "metadata": {}
        }
      ]
    },
    {
      "cell_type": "markdown",
      "source": [
        "# ------------ User based Recommendation ------------"
      ],
      "metadata": {
        "id": "RPPRcVuBbQHJ"
      }
    },
    {
      "cell_type": "markdown",
      "source": [
        "#### Using KNN classifier on the predicted values of rocchio on our sample data for recommendation.¶"
      ],
      "metadata": {
        "id": "nXNgZA2LbQHK"
      }
    },
    {
      "cell_type": "code",
      "source": [
        "for i in range(len(indeces)):\n",
        "    knn_dataset = data[data['Clusters']==samples_pred[i]]\n",
        "    knn_dataset = knn_dataset.reset_index()\n",
        "    knn = NearestNeighbors()\n",
        "    knn.fit(knn_dataset.iloc[:,1:-1])\n",
        "    neighbors = knn.kneighbors(pd.DataFrame(samples.loc[indeces[i]]).T,5,return_distance = False)\n",
        "    print(\"\\n------------Your Review-------------\\n\")\n",
        "    display(pd.DataFrame(dataset.loc[indeces[i],'ISBN':]).T)\n",
        "    print(f\"\\n------------Here are few recomendations based on your review that you may like-------------\\n\")\n",
        "    recomendations = pd.DataFrame(columns = dataset.columns)\n",
        "\n",
        "    for j in neighbors:\n",
        "        display(pd.DataFrame(dataset.loc[knn_dataset.loc[j]['index'],['Book-Title','Book-Author','Year-Of-Publication','Publisher','City','State','Country']]))\n",
        "    print(\"\\n------------End-------------\\n\")\n",
        ""
      ],
      "metadata": {
        "execution": {
          "iopub.status.busy": "2024-03-23T04:02:13.850817Z",
          "iopub.execute_input": "2024-03-23T04:02:13.851809Z",
          "iopub.status.idle": "2024-03-23T04:02:14.678326Z",
          "shell.execute_reply.started": "2024-03-23T04:02:13.851773Z",
          "shell.execute_reply": "2024-03-23T04:02:14.677578Z"
        },
        "trusted": true,
        "id": "FUVNnuAdbQHK",
        "outputId": "f76e0ecb-25eb-4ff0-ec29-9c0909598e9d"
      },
      "execution_count": null,
      "outputs": [
        {
          "name": "stdout",
          "text": "\n------------Your Review-------------\n\n",
          "output_type": "stream"
        },
        {
          "output_type": "display_data",
          "data": {
            "text/plain": "              ISBN Book-Rating             Book-Title Book-Author  \\\n110209  0440118700           6  Cry for the Strangers   John Saul   \n\n       Year-Of-Publication Publisher Age     City    State Country  \n110209                1986      Dell  54  toronto  ontario  canada  ",
            "text/html": "<div>\n<style scoped>\n    .dataframe tbody tr th:only-of-type {\n        vertical-align: middle;\n    }\n\n    .dataframe tbody tr th {\n        vertical-align: top;\n    }\n\n    .dataframe thead th {\n        text-align: right;\n    }\n</style>\n<table border=\"1\" class=\"dataframe\">\n  <thead>\n    <tr style=\"text-align: right;\">\n      <th></th>\n      <th>ISBN</th>\n      <th>Book-Rating</th>\n      <th>Book-Title</th>\n      <th>Book-Author</th>\n      <th>Year-Of-Publication</th>\n      <th>Publisher</th>\n      <th>Age</th>\n      <th>City</th>\n      <th>State</th>\n      <th>Country</th>\n    </tr>\n  </thead>\n  <tbody>\n    <tr>\n      <th>110209</th>\n      <td>0440118700</td>\n      <td>6</td>\n      <td>Cry for the Strangers</td>\n      <td>John Saul</td>\n      <td>1986</td>\n      <td>Dell</td>\n      <td>54</td>\n      <td>toronto</td>\n      <td>ontario</td>\n      <td>canada</td>\n    </tr>\n  </tbody>\n</table>\n</div>"
          },
          "metadata": {}
        },
        {
          "name": "stdout",
          "text": "\n------------Here are few recomendations based on your review that you may like-------------\n\n",
          "output_type": "stream"
        },
        {
          "output_type": "display_data",
          "data": {
            "text/plain": "                  Book-Title    Book-Author  Year-Of-Publication  \\\n110213   When the Wind Blows      John Saul                 1990   \n110208  Comes the Blind Fury      John Saul                 1990   \n95843         Crocodile Soup  Julia Darling                 2000   \n51846      The Pelican Brief   John Grisham                 1993   \n109460            The Client   John Grisham                 1994   \n\n                      Publisher     City    State Country  \n110213                     Dell  toronto  ontario  canada  \n110208                     Dell  toronto  ontario  canada  \n95843                Ecco Press  toronto  ontario  canada  \n51846                      Dell  toronto  ontario  canada  \n109460  Dell Publishing Company  toronto  ontario  canada  ",
            "text/html": "<div>\n<style scoped>\n    .dataframe tbody tr th:only-of-type {\n        vertical-align: middle;\n    }\n\n    .dataframe tbody tr th {\n        vertical-align: top;\n    }\n\n    .dataframe thead th {\n        text-align: right;\n    }\n</style>\n<table border=\"1\" class=\"dataframe\">\n  <thead>\n    <tr style=\"text-align: right;\">\n      <th></th>\n      <th>Book-Title</th>\n      <th>Book-Author</th>\n      <th>Year-Of-Publication</th>\n      <th>Publisher</th>\n      <th>City</th>\n      <th>State</th>\n      <th>Country</th>\n    </tr>\n  </thead>\n  <tbody>\n    <tr>\n      <th>110213</th>\n      <td>When the Wind Blows</td>\n      <td>John Saul</td>\n      <td>1990</td>\n      <td>Dell</td>\n      <td>toronto</td>\n      <td>ontario</td>\n      <td>canada</td>\n    </tr>\n    <tr>\n      <th>110208</th>\n      <td>Comes the Blind Fury</td>\n      <td>John Saul</td>\n      <td>1990</td>\n      <td>Dell</td>\n      <td>toronto</td>\n      <td>ontario</td>\n      <td>canada</td>\n    </tr>\n    <tr>\n      <th>95843</th>\n      <td>Crocodile Soup</td>\n      <td>Julia Darling</td>\n      <td>2000</td>\n      <td>Ecco Press</td>\n      <td>toronto</td>\n      <td>ontario</td>\n      <td>canada</td>\n    </tr>\n    <tr>\n      <th>51846</th>\n      <td>The Pelican Brief</td>\n      <td>John Grisham</td>\n      <td>1993</td>\n      <td>Dell</td>\n      <td>toronto</td>\n      <td>ontario</td>\n      <td>canada</td>\n    </tr>\n    <tr>\n      <th>109460</th>\n      <td>The Client</td>\n      <td>John Grisham</td>\n      <td>1994</td>\n      <td>Dell Publishing Company</td>\n      <td>toronto</td>\n      <td>ontario</td>\n      <td>canada</td>\n    </tr>\n  </tbody>\n</table>\n</div>"
          },
          "metadata": {}
        },
        {
          "name": "stdout",
          "text": "\n------------End-------------\n\n\n------------Your Review-------------\n\n",
          "output_type": "stream"
        },
        {
          "output_type": "display_data",
          "data": {
            "text/plain": "             ISBN Book-Rating  \\\n88556  0373034261           0   \n\n                                                                 Book-Title  \\\n88556  Something Old, Something New  (Hitched) (Harlequin Romance, No 3426)   \n\n           Book-Author Year-Of-Publication  Publisher Age      City   State  \\\n88556  Catherine Leigh                1996  Harlequin  34  ginsheim  hessen   \n\n       Country  \n88556  germany  ",
            "text/html": "<div>\n<style scoped>\n    .dataframe tbody tr th:only-of-type {\n        vertical-align: middle;\n    }\n\n    .dataframe tbody tr th {\n        vertical-align: top;\n    }\n\n    .dataframe thead th {\n        text-align: right;\n    }\n</style>\n<table border=\"1\" class=\"dataframe\">\n  <thead>\n    <tr style=\"text-align: right;\">\n      <th></th>\n      <th>ISBN</th>\n      <th>Book-Rating</th>\n      <th>Book-Title</th>\n      <th>Book-Author</th>\n      <th>Year-Of-Publication</th>\n      <th>Publisher</th>\n      <th>Age</th>\n      <th>City</th>\n      <th>State</th>\n      <th>Country</th>\n    </tr>\n  </thead>\n  <tbody>\n    <tr>\n      <th>88556</th>\n      <td>0373034261</td>\n      <td>0</td>\n      <td>Something Old, Something New  (Hitched) (Harlequin Romance, No 3426)</td>\n      <td>Catherine Leigh</td>\n      <td>1996</td>\n      <td>Harlequin</td>\n      <td>34</td>\n      <td>ginsheim</td>\n      <td>hessen</td>\n      <td>germany</td>\n    </tr>\n  </tbody>\n</table>\n</div>"
          },
          "metadata": {}
        },
        {
          "name": "stdout",
          "text": "\n------------Here are few recomendations based on your review that you may like-------------\n\n",
          "output_type": "stream"
        },
        {
          "output_type": "display_data",
          "data": {
            "text/plain": "                                                                           Book-Title  \\\n88770                        Christmas Kiss (Eyewitness) (Harlequin Intrigue, No 399)   \n88947                                         Lord Sin (Harlequin Historical, No 979)   \n88430                                                            Baby on the Doorstep   \n90043                   Accidental Roommates (Harlequin Love &amp; Laughter, No 4029)   \n90045  Too Sexy For Marriage (Marriage Makers) (Harlequin Love &amp; Laughter, No 39)   \n\n            Book-Author  Year-Of-Publication    Publisher      City   State  \\\n88770   Caroline Burnes                 1996    Harlequin  ginsheim  hessen   \n88947  Catherine Archer                 1997    Harlequin  ginsheim  hessen   \n88430    Cassie Edwards                 1997  HarperTorch  ginsheim  hessen   \n90043  Charlotte Maclay                 1997    Harlequin  ginsheim  hessen   \n90045       Cathie Linz                 1998    Harlequin  ginsheim  hessen   \n\n       Country  \n88770  germany  \n88947  germany  \n88430  germany  \n90043  germany  \n90045  germany  ",
            "text/html": "<div>\n<style scoped>\n    .dataframe tbody tr th:only-of-type {\n        vertical-align: middle;\n    }\n\n    .dataframe tbody tr th {\n        vertical-align: top;\n    }\n\n    .dataframe thead th {\n        text-align: right;\n    }\n</style>\n<table border=\"1\" class=\"dataframe\">\n  <thead>\n    <tr style=\"text-align: right;\">\n      <th></th>\n      <th>Book-Title</th>\n      <th>Book-Author</th>\n      <th>Year-Of-Publication</th>\n      <th>Publisher</th>\n      <th>City</th>\n      <th>State</th>\n      <th>Country</th>\n    </tr>\n  </thead>\n  <tbody>\n    <tr>\n      <th>88770</th>\n      <td>Christmas Kiss (Eyewitness) (Harlequin Intrigue, No 399)</td>\n      <td>Caroline Burnes</td>\n      <td>1996</td>\n      <td>Harlequin</td>\n      <td>ginsheim</td>\n      <td>hessen</td>\n      <td>germany</td>\n    </tr>\n    <tr>\n      <th>88947</th>\n      <td>Lord Sin (Harlequin Historical, No 979)</td>\n      <td>Catherine Archer</td>\n      <td>1997</td>\n      <td>Harlequin</td>\n      <td>ginsheim</td>\n      <td>hessen</td>\n      <td>germany</td>\n    </tr>\n    <tr>\n      <th>88430</th>\n      <td>Baby on the Doorstep</td>\n      <td>Cassie Edwards</td>\n      <td>1997</td>\n      <td>HarperTorch</td>\n      <td>ginsheim</td>\n      <td>hessen</td>\n      <td>germany</td>\n    </tr>\n    <tr>\n      <th>90043</th>\n      <td>Accidental Roommates (Harlequin Love &amp;amp; Laughter, No 4029)</td>\n      <td>Charlotte Maclay</td>\n      <td>1997</td>\n      <td>Harlequin</td>\n      <td>ginsheim</td>\n      <td>hessen</td>\n      <td>germany</td>\n    </tr>\n    <tr>\n      <th>90045</th>\n      <td>Too Sexy For Marriage (Marriage Makers) (Harlequin Love &amp;amp; Laughter, No 39)</td>\n      <td>Cathie Linz</td>\n      <td>1998</td>\n      <td>Harlequin</td>\n      <td>ginsheim</td>\n      <td>hessen</td>\n      <td>germany</td>\n    </tr>\n  </tbody>\n</table>\n</div>"
          },
          "metadata": {}
        },
        {
          "name": "stdout",
          "text": "\n------------End-------------\n\n\n------------Your Review-------------\n\n",
          "output_type": "stream"
        },
        {
          "output_type": "display_data",
          "data": {
            "text/plain": "             ISBN Book-Rating         Book-Title      Book-Author  \\\n53408  1741141680           0  The Cockroach War  Jonathan Harlen   \n\n      Year-Of-Publication                                    Publisher Age  \\\n53408                2004  Allen &amp; Unwin Pty., Limited (Australia)  25   \n\n            City     State    Country  \n53408  melbourne  victoria  australia  ",
            "text/html": "<div>\n<style scoped>\n    .dataframe tbody tr th:only-of-type {\n        vertical-align: middle;\n    }\n\n    .dataframe tbody tr th {\n        vertical-align: top;\n    }\n\n    .dataframe thead th {\n        text-align: right;\n    }\n</style>\n<table border=\"1\" class=\"dataframe\">\n  <thead>\n    <tr style=\"text-align: right;\">\n      <th></th>\n      <th>ISBN</th>\n      <th>Book-Rating</th>\n      <th>Book-Title</th>\n      <th>Book-Author</th>\n      <th>Year-Of-Publication</th>\n      <th>Publisher</th>\n      <th>Age</th>\n      <th>City</th>\n      <th>State</th>\n      <th>Country</th>\n    </tr>\n  </thead>\n  <tbody>\n    <tr>\n      <th>53408</th>\n      <td>1741141680</td>\n      <td>0</td>\n      <td>The Cockroach War</td>\n      <td>Jonathan Harlen</td>\n      <td>2004</td>\n      <td>Allen &amp;amp; Unwin Pty., Limited (Australia)</td>\n      <td>25</td>\n      <td>melbourne</td>\n      <td>victoria</td>\n      <td>australia</td>\n    </tr>\n  </tbody>\n</table>\n</div>"
          },
          "metadata": {}
        },
        {
          "name": "stdout",
          "text": "\n------------Here are few recomendations based on your review that you may like-------------\n\n",
          "output_type": "stream"
        },
        {
          "output_type": "display_data",
          "data": {
            "text/plain": "                                                         Book-Title  \\\n46872   Please Stop Laughing at Me: One Woman's Inspirational Story   \n118463                                       Affair Most Wicked, An   \n118462                                            To Marry the Duke   \n118548                                             The Indiscretion   \n78126                                               A Certain Smile   \n\n             Book-Author  Year-Of-Publication                Publisher  \\\n46872       Jodee Blanco                 2003  Adams Media Corporation   \n118463  Julianne MacLean                 2004                     Avon   \n118462  Julianne MacLean                 2003                     Avon   \n118548      Judith Ivory                 2001                     Avon   \n78126     Judith Michael                 2000         Ballantine Books   \n\n             City     State    Country  \n46872   melbourne  victoria  australia  \n118463  melbourne  victoria  australia  \n118462  melbourne  victoria  australia  \n118548  melbourne  victoria  australia  \n78126   melbourne  victoria  australia  ",
            "text/html": "<div>\n<style scoped>\n    .dataframe tbody tr th:only-of-type {\n        vertical-align: middle;\n    }\n\n    .dataframe tbody tr th {\n        vertical-align: top;\n    }\n\n    .dataframe thead th {\n        text-align: right;\n    }\n</style>\n<table border=\"1\" class=\"dataframe\">\n  <thead>\n    <tr style=\"text-align: right;\">\n      <th></th>\n      <th>Book-Title</th>\n      <th>Book-Author</th>\n      <th>Year-Of-Publication</th>\n      <th>Publisher</th>\n      <th>City</th>\n      <th>State</th>\n      <th>Country</th>\n    </tr>\n  </thead>\n  <tbody>\n    <tr>\n      <th>46872</th>\n      <td>Please Stop Laughing at Me: One Woman's Inspirational Story</td>\n      <td>Jodee Blanco</td>\n      <td>2003</td>\n      <td>Adams Media Corporation</td>\n      <td>melbourne</td>\n      <td>victoria</td>\n      <td>australia</td>\n    </tr>\n    <tr>\n      <th>118463</th>\n      <td>Affair Most Wicked, An</td>\n      <td>Julianne MacLean</td>\n      <td>2004</td>\n      <td>Avon</td>\n      <td>melbourne</td>\n      <td>victoria</td>\n      <td>australia</td>\n    </tr>\n    <tr>\n      <th>118462</th>\n      <td>To Marry the Duke</td>\n      <td>Julianne MacLean</td>\n      <td>2003</td>\n      <td>Avon</td>\n      <td>melbourne</td>\n      <td>victoria</td>\n      <td>australia</td>\n    </tr>\n    <tr>\n      <th>118548</th>\n      <td>The Indiscretion</td>\n      <td>Judith Ivory</td>\n      <td>2001</td>\n      <td>Avon</td>\n      <td>melbourne</td>\n      <td>victoria</td>\n      <td>australia</td>\n    </tr>\n    <tr>\n      <th>78126</th>\n      <td>A Certain Smile</td>\n      <td>Judith Michael</td>\n      <td>2000</td>\n      <td>Ballantine Books</td>\n      <td>melbourne</td>\n      <td>victoria</td>\n      <td>australia</td>\n    </tr>\n  </tbody>\n</table>\n</div>"
          },
          "metadata": {}
        },
        {
          "name": "stdout",
          "text": "\n------------End-------------\n\n\n------------Your Review-------------\n\n",
          "output_type": "stream"
        },
        {
          "output_type": "display_data",
          "data": {
            "text/plain": "             ISBN Book-Rating  \\\n53762  1573228575           8   \n\n                                                    Book-Title   Book-Author  \\\n53762  The Forest for the Trees: An Editor's Advice to Writers  Betsy Lerner   \n\n      Year-Of-Publication        Publisher Age     City    State Country  \n53762                2001  Riverhead Books  43  windsor  ontario  canada  ",
            "text/html": "<div>\n<style scoped>\n    .dataframe tbody tr th:only-of-type {\n        vertical-align: middle;\n    }\n\n    .dataframe tbody tr th {\n        vertical-align: top;\n    }\n\n    .dataframe thead th {\n        text-align: right;\n    }\n</style>\n<table border=\"1\" class=\"dataframe\">\n  <thead>\n    <tr style=\"text-align: right;\">\n      <th></th>\n      <th>ISBN</th>\n      <th>Book-Rating</th>\n      <th>Book-Title</th>\n      <th>Book-Author</th>\n      <th>Year-Of-Publication</th>\n      <th>Publisher</th>\n      <th>Age</th>\n      <th>City</th>\n      <th>State</th>\n      <th>Country</th>\n    </tr>\n  </thead>\n  <tbody>\n    <tr>\n      <th>53762</th>\n      <td>1573228575</td>\n      <td>8</td>\n      <td>The Forest for the Trees: An Editor's Advice to Writers</td>\n      <td>Betsy Lerner</td>\n      <td>2001</td>\n      <td>Riverhead Books</td>\n      <td>43</td>\n      <td>windsor</td>\n      <td>ontario</td>\n      <td>canada</td>\n    </tr>\n  </tbody>\n</table>\n</div>"
          },
          "metadata": {}
        },
        {
          "name": "stdout",
          "text": "\n------------Here are few recomendations based on your review that you may like-------------\n\n",
          "output_type": "stream"
        },
        {
          "output_type": "display_data",
          "data": {
            "text/plain": "                                                  Book-Title  \\\n76990                                              The Mammy   \n319                                                    Trash   \n80286                       The Illusion of Orderly Progress   \n7188                                    Death from the Woods   \n7176   Killing Critics (Kathleen Mallory Novels (Hardcover))   \n\n               Book-Author  Year-Of-Publication                Publisher  \\\n76990    Brendan O'Carroll                 1999              Plume Books   \n319             Amy Yamada                 1996              Penguin USA   \n80286  Barbara P. Norfleet                 1999         Random House Inc   \n7188       Brigitte Aubert                 2001              Prime Crime   \n7176       Carol O'Connell                 1996  Putnam Publishing Group   \n\n            City    State Country  \n76990  waterdown  ontario  canada  \n319     waterloo  ontario  canada  \n80286    toronto  ontario  canada  \n7188    waterloo  ontario  canada  \n7176    waterloo  ontario  canada  ",
            "text/html": "<div>\n<style scoped>\n    .dataframe tbody tr th:only-of-type {\n        vertical-align: middle;\n    }\n\n    .dataframe tbody tr th {\n        vertical-align: top;\n    }\n\n    .dataframe thead th {\n        text-align: right;\n    }\n</style>\n<table border=\"1\" class=\"dataframe\">\n  <thead>\n    <tr style=\"text-align: right;\">\n      <th></th>\n      <th>Book-Title</th>\n      <th>Book-Author</th>\n      <th>Year-Of-Publication</th>\n      <th>Publisher</th>\n      <th>City</th>\n      <th>State</th>\n      <th>Country</th>\n    </tr>\n  </thead>\n  <tbody>\n    <tr>\n      <th>76990</th>\n      <td>The Mammy</td>\n      <td>Brendan O'Carroll</td>\n      <td>1999</td>\n      <td>Plume Books</td>\n      <td>waterdown</td>\n      <td>ontario</td>\n      <td>canada</td>\n    </tr>\n    <tr>\n      <th>319</th>\n      <td>Trash</td>\n      <td>Amy Yamada</td>\n      <td>1996</td>\n      <td>Penguin USA</td>\n      <td>waterloo</td>\n      <td>ontario</td>\n      <td>canada</td>\n    </tr>\n    <tr>\n      <th>80286</th>\n      <td>The Illusion of Orderly Progress</td>\n      <td>Barbara P. Norfleet</td>\n      <td>1999</td>\n      <td>Random House Inc</td>\n      <td>toronto</td>\n      <td>ontario</td>\n      <td>canada</td>\n    </tr>\n    <tr>\n      <th>7188</th>\n      <td>Death from the Woods</td>\n      <td>Brigitte Aubert</td>\n      <td>2001</td>\n      <td>Prime Crime</td>\n      <td>waterloo</td>\n      <td>ontario</td>\n      <td>canada</td>\n    </tr>\n    <tr>\n      <th>7176</th>\n      <td>Killing Critics (Kathleen Mallory Novels (Hardcover))</td>\n      <td>Carol O'Connell</td>\n      <td>1996</td>\n      <td>Putnam Publishing Group</td>\n      <td>waterloo</td>\n      <td>ontario</td>\n      <td>canada</td>\n    </tr>\n  </tbody>\n</table>\n</div>"
          },
          "metadata": {}
        },
        {
          "name": "stdout",
          "text": "\n------------End-------------\n\n\n------------Your Review-------------\n\n",
          "output_type": "stream"
        },
        {
          "output_type": "display_data",
          "data": {
            "text/plain": "             ISBN Book-Rating        Book-Title    Book-Author  \\\n14772  0425179885           0  The Devil's Code  John Sandford   \n\n      Year-Of-Publication                 Publisher Age     City    State  \\\n14772                2004  Berkley Publishing Group  34  calgary  alberta   \n\n      Country  \n14772  canada  ",
            "text/html": "<div>\n<style scoped>\n    .dataframe tbody tr th:only-of-type {\n        vertical-align: middle;\n    }\n\n    .dataframe tbody tr th {\n        vertical-align: top;\n    }\n\n    .dataframe thead th {\n        text-align: right;\n    }\n</style>\n<table border=\"1\" class=\"dataframe\">\n  <thead>\n    <tr style=\"text-align: right;\">\n      <th></th>\n      <th>ISBN</th>\n      <th>Book-Rating</th>\n      <th>Book-Title</th>\n      <th>Book-Author</th>\n      <th>Year-Of-Publication</th>\n      <th>Publisher</th>\n      <th>Age</th>\n      <th>City</th>\n      <th>State</th>\n      <th>Country</th>\n    </tr>\n  </thead>\n  <tbody>\n    <tr>\n      <th>14772</th>\n      <td>0425179885</td>\n      <td>0</td>\n      <td>The Devil's Code</td>\n      <td>John Sandford</td>\n      <td>2004</td>\n      <td>Berkley Publishing Group</td>\n      <td>34</td>\n      <td>calgary</td>\n      <td>alberta</td>\n      <td>canada</td>\n    </tr>\n  </tbody>\n</table>\n</div>"
          },
          "metadata": {}
        },
        {
          "name": "stdout",
          "text": "\n------------Here are few recomendations based on your review that you may like-------------\n\n",
          "output_type": "stream"
        },
        {
          "output_type": "display_data",
          "data": {
            "text/plain": "                 Book-Title    Book-Author  Year-Of-Publication  \\\n124062            Easy Prey  John Sandford                 2001   \n79542   Bannerman's Promise  John R. Maxim                 2001   \n26353        The Night Crew  John Sandford                 2004   \n26410            Nightshade      John Saul                 2001   \n43910      The Genesis Code      John Case                 1998   \n\n                       Publisher     City    State Country  \n124062  Berkley Publishing Group  calgary  alberta  canada  \n79542                       Avon  calgary  alberta  canada  \n26353   Berkley Publishing Group  calgary  alberta  canada  \n26410           Ballantine Books  calgary  alberta  canada  \n43910           Ballantine Books  calgary  alberta  canada  ",
            "text/html": "<div>\n<style scoped>\n    .dataframe tbody tr th:only-of-type {\n        vertical-align: middle;\n    }\n\n    .dataframe tbody tr th {\n        vertical-align: top;\n    }\n\n    .dataframe thead th {\n        text-align: right;\n    }\n</style>\n<table border=\"1\" class=\"dataframe\">\n  <thead>\n    <tr style=\"text-align: right;\">\n      <th></th>\n      <th>Book-Title</th>\n      <th>Book-Author</th>\n      <th>Year-Of-Publication</th>\n      <th>Publisher</th>\n      <th>City</th>\n      <th>State</th>\n      <th>Country</th>\n    </tr>\n  </thead>\n  <tbody>\n    <tr>\n      <th>124062</th>\n      <td>Easy Prey</td>\n      <td>John Sandford</td>\n      <td>2001</td>\n      <td>Berkley Publishing Group</td>\n      <td>calgary</td>\n      <td>alberta</td>\n      <td>canada</td>\n    </tr>\n    <tr>\n      <th>79542</th>\n      <td>Bannerman's Promise</td>\n      <td>John R. Maxim</td>\n      <td>2001</td>\n      <td>Avon</td>\n      <td>calgary</td>\n      <td>alberta</td>\n      <td>canada</td>\n    </tr>\n    <tr>\n      <th>26353</th>\n      <td>The Night Crew</td>\n      <td>John Sandford</td>\n      <td>2004</td>\n      <td>Berkley Publishing Group</td>\n      <td>calgary</td>\n      <td>alberta</td>\n      <td>canada</td>\n    </tr>\n    <tr>\n      <th>26410</th>\n      <td>Nightshade</td>\n      <td>John Saul</td>\n      <td>2001</td>\n      <td>Ballantine Books</td>\n      <td>calgary</td>\n      <td>alberta</td>\n      <td>canada</td>\n    </tr>\n    <tr>\n      <th>43910</th>\n      <td>The Genesis Code</td>\n      <td>John Case</td>\n      <td>1998</td>\n      <td>Ballantine Books</td>\n      <td>calgary</td>\n      <td>alberta</td>\n      <td>canada</td>\n    </tr>\n  </tbody>\n</table>\n</div>"
          },
          "metadata": {}
        },
        {
          "name": "stdout",
          "text": "\n------------End-------------\n\n\n------------Your Review-------------\n\n",
          "output_type": "stream"
        },
        {
          "output_type": "display_data",
          "data": {
            "text/plain": "           ISBN Book-Rating               Book-Title      Book-Author  \\\n499  3423202327           0  MÃ?Â¶rder ohne Gesicht.  Henning Mankell   \n\n    Year-Of-Publication Publisher Age  City State  Country  \n499                1999       Dtv  37  wien  wien  austria  ",
            "text/html": "<div>\n<style scoped>\n    .dataframe tbody tr th:only-of-type {\n        vertical-align: middle;\n    }\n\n    .dataframe tbody tr th {\n        vertical-align: top;\n    }\n\n    .dataframe thead th {\n        text-align: right;\n    }\n</style>\n<table border=\"1\" class=\"dataframe\">\n  <thead>\n    <tr style=\"text-align: right;\">\n      <th></th>\n      <th>ISBN</th>\n      <th>Book-Rating</th>\n      <th>Book-Title</th>\n      <th>Book-Author</th>\n      <th>Year-Of-Publication</th>\n      <th>Publisher</th>\n      <th>Age</th>\n      <th>City</th>\n      <th>State</th>\n      <th>Country</th>\n    </tr>\n  </thead>\n  <tbody>\n    <tr>\n      <th>499</th>\n      <td>3423202327</td>\n      <td>0</td>\n      <td>MÃ?Â¶rder ohne Gesicht.</td>\n      <td>Henning Mankell</td>\n      <td>1999</td>\n      <td>Dtv</td>\n      <td>37</td>\n      <td>wien</td>\n      <td>wien</td>\n      <td>austria</td>\n    </tr>\n  </tbody>\n</table>\n</div>"
          },
          "metadata": {}
        },
        {
          "name": "stdout",
          "text": "\n------------Here are few recomendations based on your review that you may like-------------\n\n",
          "output_type": "stream"
        },
        {
          "output_type": "display_data",
          "data": {
            "text/plain": "                                                                Book-Title  \\\n58681                                                      Der Steppenwolf   \n63247                                                        Das Superwieb   \n117844                                                     Mondgeschichten   \n117845        Leicht muss man sein. Roman vom Lieben und Verlassen werden.   \n35924   Die Verbrechen der Charlotte Bronte und das Geheimnis von Haworth.   \n\n          Book-Author  Year-Of-Publication  \\\n58681   Hermann Hesse                 2004   \n63247       Hera Lind                 2002   \n117844  Helmut Zenker                 2003   \n117845     Heide Pils                 2003   \n35924     James Tully                 2003   \n\n                                  Publisher  City State  Country  \n58681                 Distribooks Int'l+inc  wien  wien  austria  \n63247                       Distribooks Inc  wien  wien  austria  \n117844                             Deuticke  wien  wien  austria  \n117845  Deuticke, Verlagsgesellschaft Franz  wien  wien  austria  \n35924                                   Dtv  wien  wien  austria  ",
            "text/html": "<div>\n<style scoped>\n    .dataframe tbody tr th:only-of-type {\n        vertical-align: middle;\n    }\n\n    .dataframe tbody tr th {\n        vertical-align: top;\n    }\n\n    .dataframe thead th {\n        text-align: right;\n    }\n</style>\n<table border=\"1\" class=\"dataframe\">\n  <thead>\n    <tr style=\"text-align: right;\">\n      <th></th>\n      <th>Book-Title</th>\n      <th>Book-Author</th>\n      <th>Year-Of-Publication</th>\n      <th>Publisher</th>\n      <th>City</th>\n      <th>State</th>\n      <th>Country</th>\n    </tr>\n  </thead>\n  <tbody>\n    <tr>\n      <th>58681</th>\n      <td>Der Steppenwolf</td>\n      <td>Hermann Hesse</td>\n      <td>2004</td>\n      <td>Distribooks Int'l+inc</td>\n      <td>wien</td>\n      <td>wien</td>\n      <td>austria</td>\n    </tr>\n    <tr>\n      <th>63247</th>\n      <td>Das Superwieb</td>\n      <td>Hera Lind</td>\n      <td>2002</td>\n      <td>Distribooks Inc</td>\n      <td>wien</td>\n      <td>wien</td>\n      <td>austria</td>\n    </tr>\n    <tr>\n      <th>117844</th>\n      <td>Mondgeschichten</td>\n      <td>Helmut Zenker</td>\n      <td>2003</td>\n      <td>Deuticke</td>\n      <td>wien</td>\n      <td>wien</td>\n      <td>austria</td>\n    </tr>\n    <tr>\n      <th>117845</th>\n      <td>Leicht muss man sein. Roman vom Lieben und Verlassen werden.</td>\n      <td>Heide Pils</td>\n      <td>2003</td>\n      <td>Deuticke, Verlagsgesellschaft Franz</td>\n      <td>wien</td>\n      <td>wien</td>\n      <td>austria</td>\n    </tr>\n    <tr>\n      <th>35924</th>\n      <td>Die Verbrechen der Charlotte Bronte und das Geheimnis von Haworth.</td>\n      <td>James Tully</td>\n      <td>2003</td>\n      <td>Dtv</td>\n      <td>wien</td>\n      <td>wien</td>\n      <td>austria</td>\n    </tr>\n  </tbody>\n</table>\n</div>"
          },
          "metadata": {}
        },
        {
          "name": "stdout",
          "text": "\n------------End-------------\n\n\n------------Your Review-------------\n\n",
          "output_type": "stream"
        },
        {
          "output_type": "display_data",
          "data": {
            "text/plain": "             ISBN Book-Rating   Book-Title   Book-Author Year-Of-Publication  \\\n15269  0971880107           0  Wild Animus  Rich Shapero                2004   \n\n      Publisher Age       City      State Country  \n15269   Too Far  18  barcelona  catalonia   spain  ",
            "text/html": "<div>\n<style scoped>\n    .dataframe tbody tr th:only-of-type {\n        vertical-align: middle;\n    }\n\n    .dataframe tbody tr th {\n        vertical-align: top;\n    }\n\n    .dataframe thead th {\n        text-align: right;\n    }\n</style>\n<table border=\"1\" class=\"dataframe\">\n  <thead>\n    <tr style=\"text-align: right;\">\n      <th></th>\n      <th>ISBN</th>\n      <th>Book-Rating</th>\n      <th>Book-Title</th>\n      <th>Book-Author</th>\n      <th>Year-Of-Publication</th>\n      <th>Publisher</th>\n      <th>Age</th>\n      <th>City</th>\n      <th>State</th>\n      <th>Country</th>\n    </tr>\n  </thead>\n  <tbody>\n    <tr>\n      <th>15269</th>\n      <td>0971880107</td>\n      <td>0</td>\n      <td>Wild Animus</td>\n      <td>Rich Shapero</td>\n      <td>2004</td>\n      <td>Too Far</td>\n      <td>18</td>\n      <td>barcelona</td>\n      <td>catalonia</td>\n      <td>spain</td>\n    </tr>\n  </tbody>\n</table>\n</div>"
          },
          "metadata": {}
        },
        {
          "name": "stdout",
          "text": "\n------------Here are few recomendations based on your review that you may like-------------\n\n",
          "output_type": "stream"
        },
        {
          "output_type": "display_data",
          "data": {
            "text/plain": "                                                              Book-Title  \\\n1254                       Feng Shui: A Complete Guide (Complete Guides)   \n151                                                          Wild Animus   \n57764                                                        Wild Animus   \n56762                                                        Wild Animus   \n56761  Scouting for Boys: A Handbook for Instruction in Good Citizenship   \n\n               Book-Author  Year-Of-Publication                    Publisher  \\\n1254         Richard Craze                 1997  Trafalgar Square Publishing   \n151           Rich Shapero                 2004                      Too Far   \n57764         Rich Shapero                 2004                      Too Far   \n56762         Rich Shapero                 2004                      Too Far   \n56761  Robert Baden-Powell                 1992           Stevens Publishing   \n\n            City      State   Country  \n1254   barcelona  catalunya     spain  \n151    barcelona  barcelona     spain  \n57764  barcelona  catalunya     spain  \n56762      braga      braga  portugal  \n56761      braga      braga  portugal  ",
            "text/html": "<div>\n<style scoped>\n    .dataframe tbody tr th:only-of-type {\n        vertical-align: middle;\n    }\n\n    .dataframe tbody tr th {\n        vertical-align: top;\n    }\n\n    .dataframe thead th {\n        text-align: right;\n    }\n</style>\n<table border=\"1\" class=\"dataframe\">\n  <thead>\n    <tr style=\"text-align: right;\">\n      <th></th>\n      <th>Book-Title</th>\n      <th>Book-Author</th>\n      <th>Year-Of-Publication</th>\n      <th>Publisher</th>\n      <th>City</th>\n      <th>State</th>\n      <th>Country</th>\n    </tr>\n  </thead>\n  <tbody>\n    <tr>\n      <th>1254</th>\n      <td>Feng Shui: A Complete Guide (Complete Guides)</td>\n      <td>Richard Craze</td>\n      <td>1997</td>\n      <td>Trafalgar Square Publishing</td>\n      <td>barcelona</td>\n      <td>catalunya</td>\n      <td>spain</td>\n    </tr>\n    <tr>\n      <th>151</th>\n      <td>Wild Animus</td>\n      <td>Rich Shapero</td>\n      <td>2004</td>\n      <td>Too Far</td>\n      <td>barcelona</td>\n      <td>barcelona</td>\n      <td>spain</td>\n    </tr>\n    <tr>\n      <th>57764</th>\n      <td>Wild Animus</td>\n      <td>Rich Shapero</td>\n      <td>2004</td>\n      <td>Too Far</td>\n      <td>barcelona</td>\n      <td>catalunya</td>\n      <td>spain</td>\n    </tr>\n    <tr>\n      <th>56762</th>\n      <td>Wild Animus</td>\n      <td>Rich Shapero</td>\n      <td>2004</td>\n      <td>Too Far</td>\n      <td>braga</td>\n      <td>braga</td>\n      <td>portugal</td>\n    </tr>\n    <tr>\n      <th>56761</th>\n      <td>Scouting for Boys: A Handbook for Instruction in Good Citizenship</td>\n      <td>Robert Baden-Powell</td>\n      <td>1992</td>\n      <td>Stevens Publishing</td>\n      <td>braga</td>\n      <td>braga</td>\n      <td>portugal</td>\n    </tr>\n  </tbody>\n</table>\n</div>"
          },
          "metadata": {}
        },
        {
          "name": "stdout",
          "text": "\n------------End-------------\n\n\n------------Your Review-------------\n\n",
          "output_type": "stream"
        },
        {
          "output_type": "display_data",
          "data": {
            "text/plain": "             ISBN Book-Rating      Book-Title  Book-Author  \\\n62711  1568650698           0  Avaryan Rising  Judith Tarr   \n\n      Year-Of-Publication        Publisher Age    City    State Country  \n62711                1993  Doubleday Books  29  kanata  ontario  canada  ",
            "text/html": "<div>\n<style scoped>\n    .dataframe tbody tr th:only-of-type {\n        vertical-align: middle;\n    }\n\n    .dataframe tbody tr th {\n        vertical-align: top;\n    }\n\n    .dataframe thead th {\n        text-align: right;\n    }\n</style>\n<table border=\"1\" class=\"dataframe\">\n  <thead>\n    <tr style=\"text-align: right;\">\n      <th></th>\n      <th>ISBN</th>\n      <th>Book-Rating</th>\n      <th>Book-Title</th>\n      <th>Book-Author</th>\n      <th>Year-Of-Publication</th>\n      <th>Publisher</th>\n      <th>Age</th>\n      <th>City</th>\n      <th>State</th>\n      <th>Country</th>\n    </tr>\n  </thead>\n  <tbody>\n    <tr>\n      <th>62711</th>\n      <td>1568650698</td>\n      <td>0</td>\n      <td>Avaryan Rising</td>\n      <td>Judith Tarr</td>\n      <td>1993</td>\n      <td>Doubleday Books</td>\n      <td>29</td>\n      <td>kanata</td>\n      <td>ontario</td>\n      <td>canada</td>\n    </tr>\n  </tbody>\n</table>\n</div>"
          },
          "metadata": {}
        },
        {
          "name": "stdout",
          "text": "\n------------Here are few recomendations based on your review that you may like-------------\n\n",
          "output_type": "stream"
        },
        {
          "output_type": "display_data",
          "data": {
            "text/plain": "          Book-Title   Book-Author  Year-Of-Publication        Publisher  \\\n14543     The Client  John Grisham                 1993  Doubleday Books   \n17198     The Client  John Grisham                 1993  Doubleday Books   \n17199  The Rainmaker  John Grisham                 1995  Doubleday Books   \n14542       The Firm  John Grisham                 1991  Doubleday Books   \n17197       The Firm  John Grisham                 1991  Doubleday Books   \n\n             City    State Country  \n14543  kingsville  ontario  canada  \n17198  kingsville  ontario  canada  \n17199  kingsville  ontario  canada  \n14542  kingsville  ontario  canada  \n17197  kingsville  ontario  canada  ",
            "text/html": "<div>\n<style scoped>\n    .dataframe tbody tr th:only-of-type {\n        vertical-align: middle;\n    }\n\n    .dataframe tbody tr th {\n        vertical-align: top;\n    }\n\n    .dataframe thead th {\n        text-align: right;\n    }\n</style>\n<table border=\"1\" class=\"dataframe\">\n  <thead>\n    <tr style=\"text-align: right;\">\n      <th></th>\n      <th>Book-Title</th>\n      <th>Book-Author</th>\n      <th>Year-Of-Publication</th>\n      <th>Publisher</th>\n      <th>City</th>\n      <th>State</th>\n      <th>Country</th>\n    </tr>\n  </thead>\n  <tbody>\n    <tr>\n      <th>14543</th>\n      <td>The Client</td>\n      <td>John Grisham</td>\n      <td>1993</td>\n      <td>Doubleday Books</td>\n      <td>kingsville</td>\n      <td>ontario</td>\n      <td>canada</td>\n    </tr>\n    <tr>\n      <th>17198</th>\n      <td>The Client</td>\n      <td>John Grisham</td>\n      <td>1993</td>\n      <td>Doubleday Books</td>\n      <td>kingsville</td>\n      <td>ontario</td>\n      <td>canada</td>\n    </tr>\n    <tr>\n      <th>17199</th>\n      <td>The Rainmaker</td>\n      <td>John Grisham</td>\n      <td>1995</td>\n      <td>Doubleday Books</td>\n      <td>kingsville</td>\n      <td>ontario</td>\n      <td>canada</td>\n    </tr>\n    <tr>\n      <th>14542</th>\n      <td>The Firm</td>\n      <td>John Grisham</td>\n      <td>1991</td>\n      <td>Doubleday Books</td>\n      <td>kingsville</td>\n      <td>ontario</td>\n      <td>canada</td>\n    </tr>\n    <tr>\n      <th>17197</th>\n      <td>The Firm</td>\n      <td>John Grisham</td>\n      <td>1991</td>\n      <td>Doubleday Books</td>\n      <td>kingsville</td>\n      <td>ontario</td>\n      <td>canada</td>\n    </tr>\n  </tbody>\n</table>\n</div>"
          },
          "metadata": {}
        },
        {
          "name": "stdout",
          "text": "\n------------End-------------\n\n\n------------Your Review-------------\n\n",
          "output_type": "stream"
        },
        {
          "output_type": "display_data",
          "data": {
            "text/plain": "             ISBN Book-Rating        Book-Title  Book-Author  \\\n66194  038072362X           0  A Superior Death  Nevada Barr   \n\n      Year-Of-Publication                      Publisher Age    City    State  \\\n66194                2002  Harper Mass Market Paperbacks  34  london  england   \n\n              Country  \n66194  united kingdom  ",
            "text/html": "<div>\n<style scoped>\n    .dataframe tbody tr th:only-of-type {\n        vertical-align: middle;\n    }\n\n    .dataframe tbody tr th {\n        vertical-align: top;\n    }\n\n    .dataframe thead th {\n        text-align: right;\n    }\n</style>\n<table border=\"1\" class=\"dataframe\">\n  <thead>\n    <tr style=\"text-align: right;\">\n      <th></th>\n      <th>ISBN</th>\n      <th>Book-Rating</th>\n      <th>Book-Title</th>\n      <th>Book-Author</th>\n      <th>Year-Of-Publication</th>\n      <th>Publisher</th>\n      <th>Age</th>\n      <th>City</th>\n      <th>State</th>\n      <th>Country</th>\n    </tr>\n  </thead>\n  <tbody>\n    <tr>\n      <th>66194</th>\n      <td>038072362X</td>\n      <td>0</td>\n      <td>A Superior Death</td>\n      <td>Nevada Barr</td>\n      <td>2002</td>\n      <td>Harper Mass Market Paperbacks</td>\n      <td>34</td>\n      <td>london</td>\n      <td>england</td>\n      <td>united kingdom</td>\n    </tr>\n  </tbody>\n</table>\n</div>"
          },
          "metadata": {}
        },
        {
          "name": "stdout",
          "text": "\n------------Here are few recomendations based on your review that you may like-------------\n\n",
          "output_type": "stream"
        },
        {
          "output_type": "display_data",
          "data": {
            "text/plain": "                             Book-Title   Book-Author  Year-Of-Publication  \\\n108792                         Coraline   Neil Gaiman                 2002   \n66084               Eucalyptus: A Novel   Murray Bail                 1999   \n66085   The Crimson Petal and the White  Michel Faber                 2003   \n8663          The Treason of the Ghosts  Paul Doherty                 2001   \n11087              The New York Trilogy   Paul Auster                 2003   \n\n                  Publisher    City    State         Country  \n108792        HarperCollins  london  england  united kingdom  \n66084         Harvest Books  london  england  united kingdom  \n66085         Harvest Books  london  england  united kingdom  \n8663               Headline  london  england  united kingdom  \n11087   Green Integer Books  london  england  united kingdom  ",
            "text/html": "<div>\n<style scoped>\n    .dataframe tbody tr th:only-of-type {\n        vertical-align: middle;\n    }\n\n    .dataframe tbody tr th {\n        vertical-align: top;\n    }\n\n    .dataframe thead th {\n        text-align: right;\n    }\n</style>\n<table border=\"1\" class=\"dataframe\">\n  <thead>\n    <tr style=\"text-align: right;\">\n      <th></th>\n      <th>Book-Title</th>\n      <th>Book-Author</th>\n      <th>Year-Of-Publication</th>\n      <th>Publisher</th>\n      <th>City</th>\n      <th>State</th>\n      <th>Country</th>\n    </tr>\n  </thead>\n  <tbody>\n    <tr>\n      <th>108792</th>\n      <td>Coraline</td>\n      <td>Neil Gaiman</td>\n      <td>2002</td>\n      <td>HarperCollins</td>\n      <td>london</td>\n      <td>england</td>\n      <td>united kingdom</td>\n    </tr>\n    <tr>\n      <th>66084</th>\n      <td>Eucalyptus: A Novel</td>\n      <td>Murray Bail</td>\n      <td>1999</td>\n      <td>Harvest Books</td>\n      <td>london</td>\n      <td>england</td>\n      <td>united kingdom</td>\n    </tr>\n    <tr>\n      <th>66085</th>\n      <td>The Crimson Petal and the White</td>\n      <td>Michel Faber</td>\n      <td>2003</td>\n      <td>Harvest Books</td>\n      <td>london</td>\n      <td>england</td>\n      <td>united kingdom</td>\n    </tr>\n    <tr>\n      <th>8663</th>\n      <td>The Treason of the Ghosts</td>\n      <td>Paul Doherty</td>\n      <td>2001</td>\n      <td>Headline</td>\n      <td>london</td>\n      <td>england</td>\n      <td>united kingdom</td>\n    </tr>\n    <tr>\n      <th>11087</th>\n      <td>The New York Trilogy</td>\n      <td>Paul Auster</td>\n      <td>2003</td>\n      <td>Green Integer Books</td>\n      <td>london</td>\n      <td>england</td>\n      <td>united kingdom</td>\n    </tr>\n  </tbody>\n</table>\n</div>"
          },
          "metadata": {}
        },
        {
          "name": "stdout",
          "text": "\n------------End-------------\n\n\n------------Your Review-------------\n\n",
          "output_type": "stream"
        },
        {
          "output_type": "display_data",
          "data": {
            "text/plain": "             ISBN Book-Rating         Book-Title   Book-Author  \\\n73751  0451188500           0  The Dark Backward  Gregory Hall   \n\n      Year-Of-Publication    Publisher Age      City       State      Country  \n73751                1997  Signet Book  48  deventer  overijssel  netherlands  ",
            "text/html": "<div>\n<style scoped>\n    .dataframe tbody tr th:only-of-type {\n        vertical-align: middle;\n    }\n\n    .dataframe tbody tr th {\n        vertical-align: top;\n    }\n\n    .dataframe thead th {\n        text-align: right;\n    }\n</style>\n<table border=\"1\" class=\"dataframe\">\n  <thead>\n    <tr style=\"text-align: right;\">\n      <th></th>\n      <th>ISBN</th>\n      <th>Book-Rating</th>\n      <th>Book-Title</th>\n      <th>Book-Author</th>\n      <th>Year-Of-Publication</th>\n      <th>Publisher</th>\n      <th>Age</th>\n      <th>City</th>\n      <th>State</th>\n      <th>Country</th>\n    </tr>\n  </thead>\n  <tbody>\n    <tr>\n      <th>73751</th>\n      <td>0451188500</td>\n      <td>0</td>\n      <td>The Dark Backward</td>\n      <td>Gregory Hall</td>\n      <td>1997</td>\n      <td>Signet Book</td>\n      <td>48</td>\n      <td>deventer</td>\n      <td>overijssel</td>\n      <td>netherlands</td>\n    </tr>\n  </tbody>\n</table>\n</div>"
          },
          "metadata": {}
        },
        {
          "name": "stdout",
          "text": "\n------------Here are few recomendations based on your review that you may like-------------\n\n",
          "output_type": "stream"
        },
        {
          "output_type": "display_data",
          "data": {
            "text/plain": "                              Book-Title         Book-Author  \\\n73758                   No Second Chance        Harlan Coben   \n73753                    The Most Wanted  Jacquelyn Mitchard   \n129746                   Rosemary's Baby           Ira Levin   \n129800  Enid Blyton (Pocket Biographies)   George Greenfield   \n73697               Always in Our Hearts           Doug Most   \n\n        Year-Of-Publication                         Publisher      City  \\\n73758                  2004                       Signet Book  deventer   \n73753                  1999                       Signet Book  deventer   \n129746                 1997                       Signet Book  deventer   \n129800                 1998                 Sutton Publishing  deventer   \n73697                  2000  St. Martin's True Crime Classics  deventer   \n\n             State      Country  \n73758   overijssel  netherlands  \n73753   overijssel  netherlands  \n129746  overijssel  netherlands  \n129800  overijssel  netherlands  \n73697   overijssel  netherlands  ",
            "text/html": "<div>\n<style scoped>\n    .dataframe tbody tr th:only-of-type {\n        vertical-align: middle;\n    }\n\n    .dataframe tbody tr th {\n        vertical-align: top;\n    }\n\n    .dataframe thead th {\n        text-align: right;\n    }\n</style>\n<table border=\"1\" class=\"dataframe\">\n  <thead>\n    <tr style=\"text-align: right;\">\n      <th></th>\n      <th>Book-Title</th>\n      <th>Book-Author</th>\n      <th>Year-Of-Publication</th>\n      <th>Publisher</th>\n      <th>City</th>\n      <th>State</th>\n      <th>Country</th>\n    </tr>\n  </thead>\n  <tbody>\n    <tr>\n      <th>73758</th>\n      <td>No Second Chance</td>\n      <td>Harlan Coben</td>\n      <td>2004</td>\n      <td>Signet Book</td>\n      <td>deventer</td>\n      <td>overijssel</td>\n      <td>netherlands</td>\n    </tr>\n    <tr>\n      <th>73753</th>\n      <td>The Most Wanted</td>\n      <td>Jacquelyn Mitchard</td>\n      <td>1999</td>\n      <td>Signet Book</td>\n      <td>deventer</td>\n      <td>overijssel</td>\n      <td>netherlands</td>\n    </tr>\n    <tr>\n      <th>129746</th>\n      <td>Rosemary's Baby</td>\n      <td>Ira Levin</td>\n      <td>1997</td>\n      <td>Signet Book</td>\n      <td>deventer</td>\n      <td>overijssel</td>\n      <td>netherlands</td>\n    </tr>\n    <tr>\n      <th>129800</th>\n      <td>Enid Blyton (Pocket Biographies)</td>\n      <td>George Greenfield</td>\n      <td>1998</td>\n      <td>Sutton Publishing</td>\n      <td>deventer</td>\n      <td>overijssel</td>\n      <td>netherlands</td>\n    </tr>\n    <tr>\n      <th>73697</th>\n      <td>Always in Our Hearts</td>\n      <td>Doug Most</td>\n      <td>2000</td>\n      <td>St. Martin's True Crime Classics</td>\n      <td>deventer</td>\n      <td>overijssel</td>\n      <td>netherlands</td>\n    </tr>\n  </tbody>\n</table>\n</div>"
          },
          "metadata": {}
        },
        {
          "name": "stdout",
          "text": "\n------------End-------------\n\n",
          "output_type": "stream"
        }
      ]
    },
    {
      "cell_type": "markdown",
      "source": [
        "# ------------ Colab Filtering------------"
      ],
      "metadata": {
        "id": "ViqNNim-bQHK"
      }
    },
    {
      "cell_type": "markdown",
      "source": [
        "#### Recommender System on Age based"
      ],
      "metadata": {
        "id": "0MIhHK7cbQHK"
      }
    },
    {
      "cell_type": "markdown",
      "source": [
        "### Filtering the 'Age' Attribute"
      ],
      "metadata": {
        "id": "SmRyrX0AbQHK"
      }
    },
    {
      "cell_type": "code",
      "source": [
        "age_recommend_dataset = dataset[['Book-Title','Age']].copy()"
      ],
      "metadata": {
        "execution": {
          "iopub.status.busy": "2024-03-23T04:02:14.691728Z",
          "iopub.execute_input": "2024-03-23T04:02:14.69231Z",
          "iopub.status.idle": "2024-03-23T04:02:14.705739Z",
          "shell.execute_reply.started": "2024-03-23T04:02:14.692277Z",
          "shell.execute_reply": "2024-03-23T04:02:14.704782Z"
        },
        "trusted": true,
        "id": "IrDpJ6BGbQHK"
      },
      "execution_count": null,
      "outputs": []
    },
    {
      "cell_type": "markdown",
      "source": [
        "#### Categorizing it in 3 groups(young, mid-age and old)"
      ],
      "metadata": {
        "id": "Do_zbJ1ZbQHK"
      }
    },
    {
      "cell_type": "code",
      "source": [
        "def categorize_age(age):\n",
        "    if(age>=10 and age <=30):\n",
        "        return 'young'\n",
        "    elif age>30 and age<=60:\n",
        "        return \"mid-age\"\n",
        "    else: return \"old\""
      ],
      "metadata": {
        "execution": {
          "iopub.status.busy": "2024-03-23T04:02:14.70761Z",
          "iopub.execute_input": "2024-03-23T04:02:14.708019Z",
          "iopub.status.idle": "2024-03-23T04:02:14.713512Z",
          "shell.execute_reply.started": "2024-03-23T04:02:14.707984Z",
          "shell.execute_reply": "2024-03-23T04:02:14.712407Z"
        },
        "trusted": true,
        "id": "xEeDeBDrbQHK"
      },
      "execution_count": null,
      "outputs": []
    },
    {
      "cell_type": "code",
      "source": [
        "age_recommend_dataset['Age-Group'] = age_recommend_dataset['Age'].apply(categorize_age)\n",
        "age_recommend_dataset"
      ],
      "metadata": {
        "execution": {
          "iopub.status.busy": "2024-03-23T04:02:14.715037Z",
          "iopub.execute_input": "2024-03-23T04:02:14.715714Z",
          "iopub.status.idle": "2024-03-23T04:02:14.766852Z",
          "shell.execute_reply.started": "2024-03-23T04:02:14.715677Z",
          "shell.execute_reply": "2024-03-23T04:02:14.766123Z"
        },
        "trusted": true,
        "id": "YUYbGWJzbQHK",
        "outputId": "7bf78356-4571-4d28-b9e2-4ec41979ecf5"
      },
      "execution_count": null,
      "outputs": [
        {
          "execution_count": 83,
          "output_type": "execute_result",
          "data": {
            "text/plain": "                                                                                                                                                                                            Book-Title  \\\n0                                                                                                                                                                                           East, West   \n1                                                                                                                                 Im Schatten der Lilie. Die Erinnerungen der Eleonore von Aquitanien.   \n2                                                                                                                                                                                 Die Teufelin. Roman.   \n3                                                                                                                                                                                Endlich Nichtraucher.   \n4                                                                                                                                                              Ein Liebhaber zuviel ist noch zu wenig.   \n...                                                                                                                                                                                                ...   \n132915                                                                                                                              Dying for Veronica: A Sub-Catholic Dream With Mind-Music : A Novel   \n132916                                                                                                                                                                The Textbook of the Rose: A Tale   \n132917                                                                                                                                                                                   The Testament   \n132918                                                                                                                                                                        Dry Rot And Daffodils/Ne   \n132919  Eight Weeks to Optimum Health: A Proven Program for Taking Full Advantage of Your Body's Natural Healing Power (Proven Program for Taking Full Advantage of Your Body's Natural Healing Power)   \n\n        Age Age-Group  \n0        28     young  \n1        28     young  \n2        28     young  \n3        28     young  \n4        28     young  \n...     ...       ...  \n132915   30     young  \n132916   30     young  \n132917   34   mid-age  \n132918   34   mid-age  \n132919   18     young  \n\n[132920 rows x 3 columns]",
            "text/html": "<div>\n<style scoped>\n    .dataframe tbody tr th:only-of-type {\n        vertical-align: middle;\n    }\n\n    .dataframe tbody tr th {\n        vertical-align: top;\n    }\n\n    .dataframe thead th {\n        text-align: right;\n    }\n</style>\n<table border=\"1\" class=\"dataframe\">\n  <thead>\n    <tr style=\"text-align: right;\">\n      <th></th>\n      <th>Book-Title</th>\n      <th>Age</th>\n      <th>Age-Group</th>\n    </tr>\n  </thead>\n  <tbody>\n    <tr>\n      <th>0</th>\n      <td>East, West</td>\n      <td>28</td>\n      <td>young</td>\n    </tr>\n    <tr>\n      <th>1</th>\n      <td>Im Schatten der Lilie. Die Erinnerungen der Eleonore von Aquitanien.</td>\n      <td>28</td>\n      <td>young</td>\n    </tr>\n    <tr>\n      <th>2</th>\n      <td>Die Teufelin. Roman.</td>\n      <td>28</td>\n      <td>young</td>\n    </tr>\n    <tr>\n      <th>3</th>\n      <td>Endlich Nichtraucher.</td>\n      <td>28</td>\n      <td>young</td>\n    </tr>\n    <tr>\n      <th>4</th>\n      <td>Ein Liebhaber zuviel ist noch zu wenig.</td>\n      <td>28</td>\n      <td>young</td>\n    </tr>\n    <tr>\n      <th>...</th>\n      <td>...</td>\n      <td>...</td>\n      <td>...</td>\n    </tr>\n    <tr>\n      <th>132915</th>\n      <td>Dying for Veronica: A Sub-Catholic Dream With Mind-Music : A Novel</td>\n      <td>30</td>\n      <td>young</td>\n    </tr>\n    <tr>\n      <th>132916</th>\n      <td>The Textbook of the Rose: A Tale</td>\n      <td>30</td>\n      <td>young</td>\n    </tr>\n    <tr>\n      <th>132917</th>\n      <td>The Testament</td>\n      <td>34</td>\n      <td>mid-age</td>\n    </tr>\n    <tr>\n      <th>132918</th>\n      <td>Dry Rot And Daffodils/Ne</td>\n      <td>34</td>\n      <td>mid-age</td>\n    </tr>\n    <tr>\n      <th>132919</th>\n      <td>Eight Weeks to Optimum Health: A Proven Program for Taking Full Advantage of Your Body's Natural Healing Power (Proven Program for Taking Full Advantage of Your Body's Natural Healing Power)</td>\n      <td>18</td>\n      <td>young</td>\n    </tr>\n  </tbody>\n</table>\n<p>132920 rows × 3 columns</p>\n</div>"
          },
          "metadata": {}
        }
      ]
    },
    {
      "cell_type": "markdown",
      "source": [
        "#### From the above o/p we can see age and its category is displayed"
      ],
      "metadata": {
        "id": "gEFIBbmObQHK"
      }
    },
    {
      "cell_type": "code",
      "source": [
        "## Created a function which takes the age and recommends books from the data set as per the age-group\n",
        "\n",
        "def age_based_recomendation(age,group):\n",
        "    age_data = age_recommend_dataset[age_recommend_dataset['Age-Group'] == group]\n",
        "    age_data = age_data.reset_index()\n",
        "    result = []\n",
        "    for i in range(age_data.shape[0]):\n",
        "        #column 2 = Age column\n",
        "        diff = abs(age_data.iloc[i,2] - age)\n",
        "        result.append([age_data.iloc[i,0],diff])\n",
        "    result.sort(key = lambda x: x[1])\n",
        "    age_data = []\n",
        "    for i in range(10):\n",
        "        age_data.append(result[i][0])\n",
        "    return age_data\n"
      ],
      "metadata": {
        "execution": {
          "iopub.status.busy": "2024-03-23T04:02:14.767986Z",
          "iopub.execute_input": "2024-03-23T04:02:14.768315Z",
          "iopub.status.idle": "2024-03-23T04:02:14.774663Z",
          "shell.execute_reply.started": "2024-03-23T04:02:14.768287Z",
          "shell.execute_reply": "2024-03-23T04:02:14.773626Z"
        },
        "trusted": true,
        "id": "axQIglTPbQHK"
      },
      "execution_count": null,
      "outputs": []
    },
    {
      "cell_type": "markdown",
      "source": [
        "#### Lets apply the above function"
      ],
      "metadata": {
        "id": "BoQHq3gQbQHK"
      }
    },
    {
      "cell_type": "code",
      "source": [
        "age = 26\n",
        "# Uncomment below line to enter age of you convinient\n",
        "# age = int(input('Enter you age'))\n",
        "if(age<=30):\n",
        "    age_data = age_based_recomendation(age,'young')\n",
        "elif(age>=30 and age<=60):\n",
        "    age_data = age_based_recomendation(age,'mid-age')\n",
        "else:\n",
        "    age_data = age_based_recomendation(age,'old')\n",
        "print(\"-------Here are some books people of your age are reading along------\")\n",
        "display(dataset.iloc[age_data]['Book-Title'])"
      ],
      "metadata": {
        "execution": {
          "iopub.status.busy": "2024-03-23T04:02:14.776073Z",
          "iopub.execute_input": "2024-03-23T04:02:14.776793Z",
          "iopub.status.idle": "2024-03-23T04:02:17.397385Z",
          "shell.execute_reply.started": "2024-03-23T04:02:14.776756Z",
          "shell.execute_reply": "2024-03-23T04:02:17.39643Z"
        },
        "trusted": true,
        "id": "HqoDbRd-bQHK",
        "outputId": "a441b2a3-f7c6-47e8-edea-661b4c9ec01c"
      },
      "execution_count": null,
      "outputs": [
        {
          "name": "stdout",
          "text": "-------Here are some books people of your age are reading along------\n",
          "output_type": "stream"
        },
        {
          "output_type": "display_data",
          "data": {
            "text/plain": "193     The Hissing of the Silent Lonely Room: The Fifth Detective Inspector Christy Kennedy Mystery (Christy Kennedy Mystery)\n301                                                                                                El Principito/Little Prince\n307                                                                                                            How to be good.\n308                                                                                                            Die PrÃ?Â¼fung.\n309                                                                                                           MilitÃ?Â¤rmusik.\n565                                                              New Vegetarian: Bold and Beautiful Recipes for Every Occasion\n742                                                                                                    PRIME TIME : PRIME TIME\n1605                                                                                                              Dinero Etico\n1878                                                                                              The Essential Spike Milligan\n1879                                                                                                             The Testament\nName: Book-Title, dtype: object"
          },
          "metadata": {}
        }
      ]
    },
    {
      "cell_type": "markdown",
      "source": [
        "### Collaborative Filtering"
      ],
      "metadata": {
        "id": "H4yxHq-PbQHK"
      }
    },
    {
      "cell_type": "markdown",
      "source": [
        "#### Item-Based Filtering using KNN"
      ],
      "metadata": {
        "id": "1iuZCMp1bQHK"
      }
    },
    {
      "cell_type": "code",
      "source": [
        "# lets check ratings dataframe\n",
        "ratings_df.head()"
      ],
      "metadata": {
        "execution": {
          "iopub.status.busy": "2024-03-23T04:02:17.398732Z",
          "iopub.execute_input": "2024-03-23T04:02:17.399147Z",
          "iopub.status.idle": "2024-03-23T04:02:17.410521Z",
          "shell.execute_reply.started": "2024-03-23T04:02:17.39909Z",
          "shell.execute_reply": "2024-03-23T04:02:17.409393Z"
        },
        "trusted": true,
        "id": "QkakuWoFbQHK",
        "outputId": "5f766309-0a89-4f01-a65d-991c845e17b1"
      },
      "execution_count": null,
      "outputs": [
        {
          "execution_count": 86,
          "output_type": "execute_result",
          "data": {
            "text/plain": "   User-ID        ISBN  Book-Rating\n0   276725  034545104X            0\n1   276726  0155061224            5\n2   276727  0446520802            0\n3   276729  052165615X            3\n4   276729  0521795028            6",
            "text/html": "<div>\n<style scoped>\n    .dataframe tbody tr th:only-of-type {\n        vertical-align: middle;\n    }\n\n    .dataframe tbody tr th {\n        vertical-align: top;\n    }\n\n    .dataframe thead th {\n        text-align: right;\n    }\n</style>\n<table border=\"1\" class=\"dataframe\">\n  <thead>\n    <tr style=\"text-align: right;\">\n      <th></th>\n      <th>User-ID</th>\n      <th>ISBN</th>\n      <th>Book-Rating</th>\n    </tr>\n  </thead>\n  <tbody>\n    <tr>\n      <th>0</th>\n      <td>276725</td>\n      <td>034545104X</td>\n      <td>0</td>\n    </tr>\n    <tr>\n      <th>1</th>\n      <td>276726</td>\n      <td>0155061224</td>\n      <td>5</td>\n    </tr>\n    <tr>\n      <th>2</th>\n      <td>276727</td>\n      <td>0446520802</td>\n      <td>0</td>\n    </tr>\n    <tr>\n      <th>3</th>\n      <td>276729</td>\n      <td>052165615X</td>\n      <td>3</td>\n    </tr>\n    <tr>\n      <th>4</th>\n      <td>276729</td>\n      <td>0521795028</td>\n      <td>6</td>\n    </tr>\n  </tbody>\n</table>\n</div>"
          },
          "metadata": {}
        }
      ]
    },
    {
      "cell_type": "code",
      "source": [
        "# lets check the number of books each user rated:\n",
        "ratings_df['User-ID'].value_counts()"
      ],
      "metadata": {
        "execution": {
          "iopub.status.busy": "2024-03-23T04:02:17.411658Z",
          "iopub.execute_input": "2024-03-23T04:02:17.411954Z",
          "iopub.status.idle": "2024-03-23T04:02:17.457866Z",
          "shell.execute_reply.started": "2024-03-23T04:02:17.411929Z",
          "shell.execute_reply": "2024-03-23T04:02:17.456794Z"
        },
        "trusted": true,
        "id": "UVJpUz_BbQHK",
        "outputId": "08bdbeb3-a15b-48b6-9225-668934c5f481"
      },
      "execution_count": null,
      "outputs": [
        {
          "execution_count": 87,
          "output_type": "execute_result",
          "data": {
            "text/plain": "User-ID\n11676     13602\n198711     7550\n153662     6109\n98391      5891\n35859      5850\n          ...  \n116180        1\n116166        1\n116154        1\n116137        1\n276723        1\nName: count, Length: 105283, dtype: int64"
          },
          "metadata": {}
        }
      ]
    },
    {
      "cell_type": "markdown",
      "source": [
        "#### from the above output, we could see that there are users who have rated just 1 book\n",
        "#### We can remove these users or filter out the users who have rated more than 200 books to get substantial amount of rating data, thereby enhancing the reliability of the recommendations."
      ],
      "metadata": {
        "id": "zwX4e2DGbQHK"
      }
    },
    {
      "cell_type": "code",
      "source": [
        "x=ratings_df['User-ID'].value_counts() > 200\n",
        "x[x].shape"
      ],
      "metadata": {
        "execution": {
          "iopub.status.busy": "2024-03-23T04:02:17.459281Z",
          "iopub.execute_input": "2024-03-23T04:02:17.460268Z",
          "iopub.status.idle": "2024-03-23T04:02:17.496395Z",
          "shell.execute_reply.started": "2024-03-23T04:02:17.46023Z",
          "shell.execute_reply": "2024-03-23T04:02:17.495419Z"
        },
        "trusted": true,
        "id": "wC29M8dCbQHK",
        "outputId": "99b4eb6a-3138-47de-8a0f-f7bbe5bffed9"
      },
      "execution_count": null,
      "outputs": [
        {
          "execution_count": 88,
          "output_type": "execute_result",
          "data": {
            "text/plain": "(899,)"
          },
          "metadata": {}
        }
      ]
    },
    {
      "cell_type": "code",
      "source": [
        "y=x[x].index\n",
        "y"
      ],
      "metadata": {
        "execution": {
          "iopub.status.busy": "2024-03-23T04:02:17.497422Z",
          "iopub.execute_input": "2024-03-23T04:02:17.497708Z",
          "iopub.status.idle": "2024-03-23T04:02:17.505284Z",
          "shell.execute_reply.started": "2024-03-23T04:02:17.497684Z",
          "shell.execute_reply": "2024-03-23T04:02:17.504251Z"
        },
        "trusted": true,
        "id": "SbHKxUwlbQHK",
        "outputId": "40c9f632-15fd-49e1-e8f2-8699da1eb2f0"
      },
      "execution_count": null,
      "outputs": [
        {
          "execution_count": 89,
          "output_type": "execute_result",
          "data": {
            "text/plain": "Index([ 11676, 198711, 153662,  98391,  35859, 212898, 278418,  76352, 110973,\n       235105,\n       ...\n       260183,  73681,  44296, 155916,   9856, 274808,  28634,  59727, 268622,\n       188951],\n      dtype='int64', name='User-ID', length=899)"
          },
          "metadata": {}
        }
      ]
    },
    {
      "cell_type": "markdown",
      "source": [
        "#### By using index, we can filter out the users"
      ],
      "metadata": {
        "id": "MN5KF0H9bQHK"
      }
    },
    {
      "cell_type": "code",
      "source": [
        "ratings_knn=ratings_df[ratings_df['User-ID'].isin(y)]\n",
        "ratings_knn.head(5)"
      ],
      "metadata": {
        "execution": {
          "iopub.status.busy": "2024-03-23T04:02:17.506404Z",
          "iopub.execute_input": "2024-03-23T04:02:17.506751Z",
          "iopub.status.idle": "2024-03-23T04:02:17.557718Z",
          "shell.execute_reply.started": "2024-03-23T04:02:17.506717Z",
          "shell.execute_reply": "2024-03-23T04:02:17.556911Z"
        },
        "trusted": true,
        "id": "9eDDv0hUbQHK",
        "outputId": "36b86275-c663-474a-c4e2-bf6ebabcffec"
      },
      "execution_count": null,
      "outputs": [
        {
          "execution_count": 90,
          "output_type": "execute_result",
          "data": {
            "text/plain": "      User-ID        ISBN  Book-Rating\n1456   277427  002542730X           10\n1457   277427  0026217457            0\n1458   277427  003008685X            8\n1459   277427  0030615321            0\n1460   277427  0060002050            0",
            "text/html": "<div>\n<style scoped>\n    .dataframe tbody tr th:only-of-type {\n        vertical-align: middle;\n    }\n\n    .dataframe tbody tr th {\n        vertical-align: top;\n    }\n\n    .dataframe thead th {\n        text-align: right;\n    }\n</style>\n<table border=\"1\" class=\"dataframe\">\n  <thead>\n    <tr style=\"text-align: right;\">\n      <th></th>\n      <th>User-ID</th>\n      <th>ISBN</th>\n      <th>Book-Rating</th>\n    </tr>\n  </thead>\n  <tbody>\n    <tr>\n      <th>1456</th>\n      <td>277427</td>\n      <td>002542730X</td>\n      <td>10</td>\n    </tr>\n    <tr>\n      <th>1457</th>\n      <td>277427</td>\n      <td>0026217457</td>\n      <td>0</td>\n    </tr>\n    <tr>\n      <th>1458</th>\n      <td>277427</td>\n      <td>003008685X</td>\n      <td>8</td>\n    </tr>\n    <tr>\n      <th>1459</th>\n      <td>277427</td>\n      <td>0030615321</td>\n      <td>0</td>\n    </tr>\n    <tr>\n      <th>1460</th>\n      <td>277427</td>\n      <td>0060002050</td>\n      <td>0</td>\n    </tr>\n  </tbody>\n</table>\n</div>"
          },
          "metadata": {}
        }
      ]
    },
    {
      "cell_type": "markdown",
      "source": [
        "#### lets get the rating of each books in a single df"
      ],
      "metadata": {
        "id": "hVeHvFhUbQHK"
      }
    },
    {
      "cell_type": "markdown",
      "source": [
        "#### we can mrge books and ratings on ISBN to get ratings of each books against it"
      ],
      "metadata": {
        "id": "UMtyAs9BbQHK"
      }
    },
    {
      "cell_type": "code",
      "source": [
        "ratings_with_name = ratings_knn.merge(books_df,on='ISBN')\n",
        "ratings_with_name.head()"
      ],
      "metadata": {
        "execution": {
          "iopub.status.busy": "2024-03-23T04:02:17.559266Z",
          "iopub.execute_input": "2024-03-23T04:02:17.559659Z",
          "iopub.status.idle": "2024-03-23T04:02:18.077176Z",
          "shell.execute_reply.started": "2024-03-23T04:02:17.559624Z",
          "shell.execute_reply": "2024-03-23T04:02:18.076191Z"
        },
        "trusted": true,
        "id": "qB0jjeQXbQHK",
        "outputId": "f8cfafb9-34ce-4c3d-d031-029c6ffaf48f"
      },
      "execution_count": null,
      "outputs": [
        {
          "execution_count": 91,
          "output_type": "execute_result",
          "data": {
            "text/plain": "   User-ID        ISBN  Book-Rating  \\\n0   277427  002542730X           10   \n1   277427  0026217457            0   \n2   277427  003008685X            8   \n3   277427  0030615321            0   \n4   277427  0060002050            0   \n\n                                                                 Book-Title  \\\n0  Politically Correct Bedtime Stories: Modern Tales for Our Life and Times   \n1                                        Vegetarian Times Complete Cookbook   \n2                                                                  Pioneers   \n3                          Ask for May, Settle for June (A Doonesbury book)   \n4                                         On a Wicked Dawn (Cynster Novels)   \n\n             Book-Author  Year-Of-Publication                  Publisher  \n0      James Finn Garner                 1994  John Wiley &amp; Sons Inc  \n1             Lucy  Moll                 1995      John Wiley &amp; Sons  \n2  James Fenimore Cooper                 1974           Thomson Learning  \n3          G. B. Trudeau                 1982        Henry Holt &amp; Co  \n4      Stephanie Laurens                 2002                 Avon Books  ",
            "text/html": "<div>\n<style scoped>\n    .dataframe tbody tr th:only-of-type {\n        vertical-align: middle;\n    }\n\n    .dataframe tbody tr th {\n        vertical-align: top;\n    }\n\n    .dataframe thead th {\n        text-align: right;\n    }\n</style>\n<table border=\"1\" class=\"dataframe\">\n  <thead>\n    <tr style=\"text-align: right;\">\n      <th></th>\n      <th>User-ID</th>\n      <th>ISBN</th>\n      <th>Book-Rating</th>\n      <th>Book-Title</th>\n      <th>Book-Author</th>\n      <th>Year-Of-Publication</th>\n      <th>Publisher</th>\n    </tr>\n  </thead>\n  <tbody>\n    <tr>\n      <th>0</th>\n      <td>277427</td>\n      <td>002542730X</td>\n      <td>10</td>\n      <td>Politically Correct Bedtime Stories: Modern Tales for Our Life and Times</td>\n      <td>James Finn Garner</td>\n      <td>1994</td>\n      <td>John Wiley &amp;amp; Sons Inc</td>\n    </tr>\n    <tr>\n      <th>1</th>\n      <td>277427</td>\n      <td>0026217457</td>\n      <td>0</td>\n      <td>Vegetarian Times Complete Cookbook</td>\n      <td>Lucy  Moll</td>\n      <td>1995</td>\n      <td>John Wiley &amp;amp; Sons</td>\n    </tr>\n    <tr>\n      <th>2</th>\n      <td>277427</td>\n      <td>003008685X</td>\n      <td>8</td>\n      <td>Pioneers</td>\n      <td>James Fenimore Cooper</td>\n      <td>1974</td>\n      <td>Thomson Learning</td>\n    </tr>\n    <tr>\n      <th>3</th>\n      <td>277427</td>\n      <td>0030615321</td>\n      <td>0</td>\n      <td>Ask for May, Settle for June (A Doonesbury book)</td>\n      <td>G. B. Trudeau</td>\n      <td>1982</td>\n      <td>Henry Holt &amp;amp; Co</td>\n    </tr>\n    <tr>\n      <th>4</th>\n      <td>277427</td>\n      <td>0060002050</td>\n      <td>0</td>\n      <td>On a Wicked Dawn (Cynster Novels)</td>\n      <td>Stephanie Laurens</td>\n      <td>2002</td>\n      <td>Avon Books</td>\n    </tr>\n  </tbody>\n</table>\n</div>"
          },
          "metadata": {}
        }
      ]
    },
    {
      "cell_type": "code",
      "source": [
        "ratings_with_name['Book-Title'].unique().shape"
      ],
      "metadata": {
        "execution": {
          "iopub.status.busy": "2024-03-23T04:02:18.078493Z",
          "iopub.execute_input": "2024-03-23T04:02:18.079554Z",
          "iopub.status.idle": "2024-03-23T04:02:18.204202Z",
          "shell.execute_reply.started": "2024-03-23T04:02:18.079514Z",
          "shell.execute_reply": "2024-03-23T04:02:18.203169Z"
        },
        "trusted": true,
        "id": "PWe8aDP7bQHL",
        "outputId": "ef55bb2a-9951-4ed6-83a2-21733bd0b180"
      },
      "execution_count": null,
      "outputs": [
        {
          "execution_count": 92,
          "output_type": "execute_result",
          "data": {
            "text/plain": "(158319,)"
          },
          "metadata": {}
        }
      ]
    },
    {
      "cell_type": "markdown",
      "source": [
        "#### Lets compute the total ratings of each book"
      ],
      "metadata": {
        "id": "BM3mk8GubQHL"
      }
    },
    {
      "cell_type": "code",
      "source": [
        "# lets compute the ratings of each book\n",
        "\n",
        "num_rating_df = ratings_with_name.groupby('Book-Title')['Book-Rating'].count().reset_index()\n",
        "print(num_rating_df.shape)\n",
        "num_rating_df.head()"
      ],
      "metadata": {
        "execution": {
          "iopub.status.busy": "2024-03-23T04:02:18.205534Z",
          "iopub.execute_input": "2024-03-23T04:02:18.20582Z",
          "iopub.status.idle": "2024-03-23T04:02:18.610679Z",
          "shell.execute_reply.started": "2024-03-23T04:02:18.205796Z",
          "shell.execute_reply": "2024-03-23T04:02:18.609692Z"
        },
        "trusted": true,
        "id": "7YWZNCHubQHL",
        "outputId": "814b22b8-1666-4968-e9fd-44fdf57e97f8"
      },
      "execution_count": null,
      "outputs": [
        {
          "name": "stdout",
          "text": "(158319, 2)\n",
          "output_type": "stream"
        },
        {
          "execution_count": 93,
          "output_type": "execute_result",
          "data": {
            "text/plain": "                                                                                                   Book-Title  \\\n0   A Light in the Storm: The Civil War Diary of Amelia Martin, Fenwick Island, Delaware, 1861 (Dear America)   \n1                                                                                       Always Have Popsicles   \n2                                                                        Apple Magic (The Collector's series)   \n3                                                  Beyond IBM: Leadership Marketing and Finance for the 1990s   \n4                                               Clifford Visita El Hospital (Clifford El Gran Perro Colorado)   \n\n   Book-Rating  \n0            2  \n1            1  \n2            1  \n3            1  \n4            1  ",
            "text/html": "<div>\n<style scoped>\n    .dataframe tbody tr th:only-of-type {\n        vertical-align: middle;\n    }\n\n    .dataframe tbody tr th {\n        vertical-align: top;\n    }\n\n    .dataframe thead th {\n        text-align: right;\n    }\n</style>\n<table border=\"1\" class=\"dataframe\">\n  <thead>\n    <tr style=\"text-align: right;\">\n      <th></th>\n      <th>Book-Title</th>\n      <th>Book-Rating</th>\n    </tr>\n  </thead>\n  <tbody>\n    <tr>\n      <th>0</th>\n      <td>A Light in the Storm: The Civil War Diary of Amelia Martin, Fenwick Island, Delaware, 1861 (Dear America)</td>\n      <td>2</td>\n    </tr>\n    <tr>\n      <th>1</th>\n      <td>Always Have Popsicles</td>\n      <td>1</td>\n    </tr>\n    <tr>\n      <th>2</th>\n      <td>Apple Magic (The Collector's series)</td>\n      <td>1</td>\n    </tr>\n    <tr>\n      <th>3</th>\n      <td>Beyond IBM: Leadership Marketing and Finance for the 1990s</td>\n      <td>1</td>\n    </tr>\n    <tr>\n      <th>4</th>\n      <td>Clifford Visita El Hospital (Clifford El Gran Perro Colorado)</td>\n      <td>1</td>\n    </tr>\n  </tbody>\n</table>\n</div>"
          },
          "metadata": {}
        }
      ]
    },
    {
      "cell_type": "code",
      "source": [
        "# Renaming the column as num_of_ratings\n",
        "\n",
        "num_rating_df.rename(columns={'Book-Rating': 'num_of_ratings'},inplace=True)\n",
        "num_rating_df.head()"
      ],
      "metadata": {
        "execution": {
          "iopub.status.busy": "2024-03-23T04:02:18.611976Z",
          "iopub.execute_input": "2024-03-23T04:02:18.612405Z",
          "iopub.status.idle": "2024-03-23T04:02:18.624042Z",
          "shell.execute_reply.started": "2024-03-23T04:02:18.612368Z",
          "shell.execute_reply": "2024-03-23T04:02:18.623047Z"
        },
        "trusted": true,
        "id": "1V-ucMG_bQHL",
        "outputId": "45711c04-3fd9-498a-cfa9-0c9df50a01c3"
      },
      "execution_count": null,
      "outputs": [
        {
          "execution_count": 94,
          "output_type": "execute_result",
          "data": {
            "text/plain": "                                                                                                   Book-Title  \\\n0   A Light in the Storm: The Civil War Diary of Amelia Martin, Fenwick Island, Delaware, 1861 (Dear America)   \n1                                                                                       Always Have Popsicles   \n2                                                                        Apple Magic (The Collector's series)   \n3                                                  Beyond IBM: Leadership Marketing and Finance for the 1990s   \n4                                               Clifford Visita El Hospital (Clifford El Gran Perro Colorado)   \n\n   num_of_ratings  \n0               2  \n1               1  \n2               1  \n3               1  \n4               1  ",
            "text/html": "<div>\n<style scoped>\n    .dataframe tbody tr th:only-of-type {\n        vertical-align: middle;\n    }\n\n    .dataframe tbody tr th {\n        vertical-align: top;\n    }\n\n    .dataframe thead th {\n        text-align: right;\n    }\n</style>\n<table border=\"1\" class=\"dataframe\">\n  <thead>\n    <tr style=\"text-align: right;\">\n      <th></th>\n      <th>Book-Title</th>\n      <th>num_of_ratings</th>\n    </tr>\n  </thead>\n  <tbody>\n    <tr>\n      <th>0</th>\n      <td>A Light in the Storm: The Civil War Diary of Amelia Martin, Fenwick Island, Delaware, 1861 (Dear America)</td>\n      <td>2</td>\n    </tr>\n    <tr>\n      <th>1</th>\n      <td>Always Have Popsicles</td>\n      <td>1</td>\n    </tr>\n    <tr>\n      <th>2</th>\n      <td>Apple Magic (The Collector's series)</td>\n      <td>1</td>\n    </tr>\n    <tr>\n      <th>3</th>\n      <td>Beyond IBM: Leadership Marketing and Finance for the 1990s</td>\n      <td>1</td>\n    </tr>\n    <tr>\n      <th>4</th>\n      <td>Clifford Visita El Hospital (Clifford El Gran Perro Colorado)</td>\n      <td>1</td>\n    </tr>\n  </tbody>\n</table>\n</div>"
          },
          "metadata": {}
        }
      ]
    },
    {
      "cell_type": "markdown",
      "source": [
        "#### Lets filter out books with ratings greater than 50, coz the one with number of ratings as '1' wont give us sufficient info"
      ],
      "metadata": {
        "id": "gmDD6RVbbQHL"
      }
    },
    {
      "cell_type": "code",
      "source": [
        "final_rating = ratings_with_name.merge(num_rating_df,on='Book-Title')\n",
        "#final_rating.rename(columns={'Book-Rating_y':'num_of_rating'},inplace=True)\n",
        "final_rating.head()"
      ],
      "metadata": {
        "execution": {
          "iopub.status.busy": "2024-03-23T04:02:18.625348Z",
          "iopub.execute_input": "2024-03-23T04:02:18.625784Z",
          "iopub.status.idle": "2024-03-23T04:02:18.93339Z",
          "shell.execute_reply.started": "2024-03-23T04:02:18.625757Z",
          "shell.execute_reply": "2024-03-23T04:02:18.932343Z"
        },
        "trusted": true,
        "id": "DKx4eMStbQHL",
        "outputId": "59cd8de6-da62-4a5a-a115-78a46c4dafbc"
      },
      "execution_count": null,
      "outputs": [
        {
          "execution_count": 95,
          "output_type": "execute_result",
          "data": {
            "text/plain": "   User-ID        ISBN  Book-Rating  \\\n0   277427  002542730X           10   \n1   277427  0026217457            0   \n2   277427  003008685X            8   \n3   277427  0030615321            0   \n4   277427  0060002050            0   \n\n                                                                 Book-Title  \\\n0  Politically Correct Bedtime Stories: Modern Tales for Our Life and Times   \n1                                        Vegetarian Times Complete Cookbook   \n2                                                                  Pioneers   \n3                          Ask for May, Settle for June (A Doonesbury book)   \n4                                         On a Wicked Dawn (Cynster Novels)   \n\n             Book-Author  Year-Of-Publication                  Publisher  \\\n0      James Finn Garner                 1994  John Wiley &amp; Sons Inc   \n1             Lucy  Moll                 1995      John Wiley &amp; Sons   \n2  James Fenimore Cooper                 1974           Thomson Learning   \n3          G. B. Trudeau                 1982        Henry Holt &amp; Co   \n4      Stephanie Laurens                 2002                 Avon Books   \n\n   num_of_ratings  \n0              82  \n1               7  \n2               1  \n3               1  \n4              13  ",
            "text/html": "<div>\n<style scoped>\n    .dataframe tbody tr th:only-of-type {\n        vertical-align: middle;\n    }\n\n    .dataframe tbody tr th {\n        vertical-align: top;\n    }\n\n    .dataframe thead th {\n        text-align: right;\n    }\n</style>\n<table border=\"1\" class=\"dataframe\">\n  <thead>\n    <tr style=\"text-align: right;\">\n      <th></th>\n      <th>User-ID</th>\n      <th>ISBN</th>\n      <th>Book-Rating</th>\n      <th>Book-Title</th>\n      <th>Book-Author</th>\n      <th>Year-Of-Publication</th>\n      <th>Publisher</th>\n      <th>num_of_ratings</th>\n    </tr>\n  </thead>\n  <tbody>\n    <tr>\n      <th>0</th>\n      <td>277427</td>\n      <td>002542730X</td>\n      <td>10</td>\n      <td>Politically Correct Bedtime Stories: Modern Tales for Our Life and Times</td>\n      <td>James Finn Garner</td>\n      <td>1994</td>\n      <td>John Wiley &amp;amp; Sons Inc</td>\n      <td>82</td>\n    </tr>\n    <tr>\n      <th>1</th>\n      <td>277427</td>\n      <td>0026217457</td>\n      <td>0</td>\n      <td>Vegetarian Times Complete Cookbook</td>\n      <td>Lucy  Moll</td>\n      <td>1995</td>\n      <td>John Wiley &amp;amp; Sons</td>\n      <td>7</td>\n    </tr>\n    <tr>\n      <th>2</th>\n      <td>277427</td>\n      <td>003008685X</td>\n      <td>8</td>\n      <td>Pioneers</td>\n      <td>James Fenimore Cooper</td>\n      <td>1974</td>\n      <td>Thomson Learning</td>\n      <td>1</td>\n    </tr>\n    <tr>\n      <th>3</th>\n      <td>277427</td>\n      <td>0030615321</td>\n      <td>0</td>\n      <td>Ask for May, Settle for June (A Doonesbury book)</td>\n      <td>G. B. Trudeau</td>\n      <td>1982</td>\n      <td>Henry Holt &amp;amp; Co</td>\n      <td>1</td>\n    </tr>\n    <tr>\n      <th>4</th>\n      <td>277427</td>\n      <td>0060002050</td>\n      <td>0</td>\n      <td>On a Wicked Dawn (Cynster Novels)</td>\n      <td>Stephanie Laurens</td>\n      <td>2002</td>\n      <td>Avon Books</td>\n      <td>13</td>\n    </tr>\n  </tbody>\n</table>\n</div>"
          },
          "metadata": {}
        }
      ]
    },
    {
      "cell_type": "code",
      "source": [
        "final_rating=final_rating[final_rating['num_of_ratings']>=50]\n",
        "final_rating.head(5)"
      ],
      "metadata": {
        "execution": {
          "iopub.status.busy": "2024-03-23T04:02:18.934532Z",
          "iopub.execute_input": "2024-03-23T04:02:18.934823Z",
          "iopub.status.idle": "2024-03-23T04:02:18.957134Z",
          "shell.execute_reply.started": "2024-03-23T04:02:18.934798Z",
          "shell.execute_reply": "2024-03-23T04:02:18.956162Z"
        },
        "trusted": true,
        "id": "pOCuOkdmbQHL",
        "outputId": "a84e323c-185a-47a8-b7b8-895c29971517"
      },
      "execution_count": null,
      "outputs": [
        {
          "execution_count": 96,
          "output_type": "execute_result",
          "data": {
            "text/plain": "    User-ID        ISBN  Book-Rating  \\\n0    277427  002542730X           10   \n13   277427  0060930535            0   \n15   277427  0060934417            0   \n18   277427  0061009059            9   \n24   277427  006440188X            0   \n\n                                                                  Book-Title  \\\n0   Politically Correct Bedtime Stories: Modern Tales for Our Life and Times   \n13                                             The Poisonwood Bible: A Novel   \n15                                                        Bel Canto: A Novel   \n18                     One for the Money (Stephanie Plum Novels (Paperback))   \n24                                                         The Secret Garden   \n\n                Book-Author  Year-Of-Publication                  Publisher  \\\n0         James Finn Garner                 1994  John Wiley &amp; Sons Inc   \n13       Barbara Kingsolver                 1999                  Perennial   \n15             Ann Patchett                 2002                  Perennial   \n18          Janet Evanovich                 1995                HarperTorch   \n24  Frances Hodgson Burnett                 1998               HarperTrophy   \n\n    num_of_ratings  \n0               82  \n13             133  \n15             108  \n18             108  \n24              77  ",
            "text/html": "<div>\n<style scoped>\n    .dataframe tbody tr th:only-of-type {\n        vertical-align: middle;\n    }\n\n    .dataframe tbody tr th {\n        vertical-align: top;\n    }\n\n    .dataframe thead th {\n        text-align: right;\n    }\n</style>\n<table border=\"1\" class=\"dataframe\">\n  <thead>\n    <tr style=\"text-align: right;\">\n      <th></th>\n      <th>User-ID</th>\n      <th>ISBN</th>\n      <th>Book-Rating</th>\n      <th>Book-Title</th>\n      <th>Book-Author</th>\n      <th>Year-Of-Publication</th>\n      <th>Publisher</th>\n      <th>num_of_ratings</th>\n    </tr>\n  </thead>\n  <tbody>\n    <tr>\n      <th>0</th>\n      <td>277427</td>\n      <td>002542730X</td>\n      <td>10</td>\n      <td>Politically Correct Bedtime Stories: Modern Tales for Our Life and Times</td>\n      <td>James Finn Garner</td>\n      <td>1994</td>\n      <td>John Wiley &amp;amp; Sons Inc</td>\n      <td>82</td>\n    </tr>\n    <tr>\n      <th>13</th>\n      <td>277427</td>\n      <td>0060930535</td>\n      <td>0</td>\n      <td>The Poisonwood Bible: A Novel</td>\n      <td>Barbara Kingsolver</td>\n      <td>1999</td>\n      <td>Perennial</td>\n      <td>133</td>\n    </tr>\n    <tr>\n      <th>15</th>\n      <td>277427</td>\n      <td>0060934417</td>\n      <td>0</td>\n      <td>Bel Canto: A Novel</td>\n      <td>Ann Patchett</td>\n      <td>2002</td>\n      <td>Perennial</td>\n      <td>108</td>\n    </tr>\n    <tr>\n      <th>18</th>\n      <td>277427</td>\n      <td>0061009059</td>\n      <td>9</td>\n      <td>One for the Money (Stephanie Plum Novels (Paperback))</td>\n      <td>Janet Evanovich</td>\n      <td>1995</td>\n      <td>HarperTorch</td>\n      <td>108</td>\n    </tr>\n    <tr>\n      <th>24</th>\n      <td>277427</td>\n      <td>006440188X</td>\n      <td>0</td>\n      <td>The Secret Garden</td>\n      <td>Frances Hodgson Burnett</td>\n      <td>1998</td>\n      <td>HarperTrophy</td>\n      <td>77</td>\n    </tr>\n  </tbody>\n</table>\n</div>"
          },
          "metadata": {}
        }
      ]
    },
    {
      "cell_type": "markdown",
      "source": [
        "#### Dropping duplicate values of user-id and title"
      ],
      "metadata": {
        "id": "5wlG-TIEbQHL"
      }
    },
    {
      "cell_type": "code",
      "source": [
        "final_rating.drop_duplicates(['User-ID','Book-Title'], inplace=True)"
      ],
      "metadata": {
        "execution": {
          "iopub.status.busy": "2024-03-23T04:02:18.958144Z",
          "iopub.execute_input": "2024-03-23T04:02:18.958424Z",
          "iopub.status.idle": "2024-03-23T04:02:18.978161Z",
          "shell.execute_reply.started": "2024-03-23T04:02:18.9584Z",
          "shell.execute_reply": "2024-03-23T04:02:18.977278Z"
        },
        "trusted": true,
        "id": "ZFgfrmv4bQHL"
      },
      "execution_count": null,
      "outputs": []
    },
    {
      "cell_type": "code",
      "source": [
        "final_rating.shape"
      ],
      "metadata": {
        "execution": {
          "iopub.status.busy": "2024-03-23T04:02:18.97917Z",
          "iopub.execute_input": "2024-03-23T04:02:18.979451Z",
          "iopub.status.idle": "2024-03-23T04:02:18.985976Z",
          "shell.execute_reply.started": "2024-03-23T04:02:18.979428Z",
          "shell.execute_reply": "2024-03-23T04:02:18.984925Z"
        },
        "trusted": true,
        "id": "F8MfDAXIbQHL",
        "outputId": "566d314b-54fe-431b-ed99-ab90bdf95639"
      },
      "execution_count": null,
      "outputs": [
        {
          "execution_count": 98,
          "output_type": "execute_result",
          "data": {
            "text/plain": "(59507, 8)"
          },
          "metadata": {}
        }
      ]
    },
    {
      "cell_type": "markdown",
      "source": [
        "#### Now creating the pivot table to use it in further implementation"
      ],
      "metadata": {
        "id": "NbfgnQokbQHL"
      }
    },
    {
      "cell_type": "code",
      "source": [
        "book_pivot = final_rating.pivot_table(columns='User-ID',index='Book-Title', values='Book-Rating')"
      ],
      "metadata": {
        "execution": {
          "iopub.status.busy": "2024-03-23T04:02:18.987253Z",
          "iopub.execute_input": "2024-03-23T04:02:18.987562Z",
          "iopub.status.idle": "2024-03-23T04:02:19.035492Z",
          "shell.execute_reply.started": "2024-03-23T04:02:18.987529Z",
          "shell.execute_reply": "2024-03-23T04:02:19.034403Z"
        },
        "trusted": true,
        "id": "6JZ66bRLbQHL"
      },
      "execution_count": null,
      "outputs": []
    },
    {
      "cell_type": "code",
      "source": [
        "book_pivot"
      ],
      "metadata": {
        "execution": {
          "iopub.status.busy": "2024-03-23T04:02:19.037163Z",
          "iopub.execute_input": "2024-03-23T04:02:19.037504Z",
          "iopub.status.idle": "2024-03-23T04:02:19.070314Z",
          "shell.execute_reply.started": "2024-03-23T04:02:19.037473Z",
          "shell.execute_reply": "2024-03-23T04:02:19.069081Z"
        },
        "trusted": true,
        "id": "ta-lEKGWbQHL",
        "outputId": "9d2ba4d9-e197-4b03-b045-cc04bd6e2bba"
      },
      "execution_count": null,
      "outputs": [
        {
          "execution_count": 100,
          "output_type": "execute_result",
          "data": {
            "text/plain": "User-ID                                                            254     \\\nBook-Title                                                                  \n1984                                                                  9.0   \n1st to Die: A Novel                                                   NaN   \n2nd Chance                                                            NaN   \n4 Blondes                                                             NaN   \nA Bend in the Road                                                    0.0   \n...                                                                   ...   \nYear of Wonders                                                       NaN   \nYou Belong To Me                                                      NaN   \nZen and the Art of Motorcycle Maintenance: An Inquiry into Values     NaN   \nZoya                                                                  NaN   \n\\O\\\" Is for Outlaw\"                                                   NaN   \n\nUser-ID                                                            2276    \\\nBook-Title                                                                  \n1984                                                                  NaN   \n1st to Die: A Novel                                                   NaN   \n2nd Chance                                                           10.0   \n4 Blondes                                                             NaN   \nA Bend in the Road                                                    NaN   \n...                                                                   ...   \nYear of Wonders                                                       NaN   \nYou Belong To Me                                                      NaN   \nZen and the Art of Motorcycle Maintenance: An Inquiry into Values     NaN   \nZoya                                                                  NaN   \n\\O\\\" Is for Outlaw\"                                                   NaN   \n\nUser-ID                                                            2766    \\\nBook-Title                                                                  \n1984                                                                  NaN   \n1st to Die: A Novel                                                   NaN   \n2nd Chance                                                            NaN   \n4 Blondes                                                             NaN   \nA Bend in the Road                                                    7.0   \n...                                                                   ...   \nYear of Wonders                                                       NaN   \nYou Belong To Me                                                      NaN   \nZen and the Art of Motorcycle Maintenance: An Inquiry into Values     NaN   \nZoya                                                                  NaN   \n\\O\\\" Is for Outlaw\"                                                   NaN   \n\nUser-ID                                                            2977    \\\nBook-Title                                                                  \n1984                                                                  NaN   \n1st to Die: A Novel                                                   NaN   \n2nd Chance                                                            NaN   \n4 Blondes                                                             NaN   \nA Bend in the Road                                                    NaN   \n...                                                                   ...   \nYear of Wonders                                                       7.0   \nYou Belong To Me                                                      NaN   \nZen and the Art of Motorcycle Maintenance: An Inquiry into Values     NaN   \nZoya                                                                  NaN   \n\\O\\\" Is for Outlaw\"                                                   NaN   \n\nUser-ID                                                            3363    \\\nBook-Title                                                                  \n1984                                                                  NaN   \n1st to Die: A Novel                                                   NaN   \n2nd Chance                                                            NaN   \n4 Blondes                                                             NaN   \nA Bend in the Road                                                    NaN   \n...                                                                   ...   \nYear of Wonders                                                       NaN   \nYou Belong To Me                                                      NaN   \nZen and the Art of Motorcycle Maintenance: An Inquiry into Values     0.0   \nZoya                                                                  NaN   \n\\O\\\" Is for Outlaw\"                                                   NaN   \n\nUser-ID                                                            3757    \\\nBook-Title                                                                  \n1984                                                                  NaN   \n1st to Die: A Novel                                                   NaN   \n2nd Chance                                                            NaN   \n4 Blondes                                                             NaN   \nA Bend in the Road                                                    NaN   \n...                                                                   ...   \nYear of Wonders                                                       NaN   \nYou Belong To Me                                                      NaN   \nZen and the Art of Motorcycle Maintenance: An Inquiry into Values     NaN   \nZoya                                                                  NaN   \n\\O\\\" Is for Outlaw\"                                                   NaN   \n\nUser-ID                                                            4017    \\\nBook-Title                                                                  \n1984                                                                  NaN   \n1st to Die: A Novel                                                   NaN   \n2nd Chance                                                            NaN   \n4 Blondes                                                             NaN   \nA Bend in the Road                                                    NaN   \n...                                                                   ...   \nYear of Wonders                                                       NaN   \nYou Belong To Me                                                      NaN   \nZen and the Art of Motorcycle Maintenance: An Inquiry into Values     NaN   \nZoya                                                                  NaN   \n\\O\\\" Is for Outlaw\"                                                   NaN   \n\nUser-ID                                                            4385    \\\nBook-Title                                                                  \n1984                                                                  NaN   \n1st to Die: A Novel                                                   NaN   \n2nd Chance                                                            NaN   \n4 Blondes                                                             NaN   \nA Bend in the Road                                                    NaN   \n...                                                                   ...   \nYear of Wonders                                                       NaN   \nYou Belong To Me                                                      NaN   \nZen and the Art of Motorcycle Maintenance: An Inquiry into Values     NaN   \nZoya                                                                  NaN   \n\\O\\\" Is for Outlaw\"                                                   NaN   \n\nUser-ID                                                            6242    \\\nBook-Title                                                                  \n1984                                                                  NaN   \n1st to Die: A Novel                                                   NaN   \n2nd Chance                                                            NaN   \n4 Blondes                                                             NaN   \nA Bend in the Road                                                    NaN   \n...                                                                   ...   \nYear of Wonders                                                       7.0   \nYou Belong To Me                                                      NaN   \nZen and the Art of Motorcycle Maintenance: An Inquiry into Values     NaN   \nZoya                                                                  NaN   \n\\O\\\" Is for Outlaw\"                                                   NaN   \n\nUser-ID                                                            6251    \\\nBook-Title                                                                  \n1984                                                                  NaN   \n1st to Die: A Novel                                                   NaN   \n2nd Chance                                                            NaN   \n4 Blondes                                                             0.0   \nA Bend in the Road                                                    NaN   \n...                                                                   ...   \nYear of Wonders                                                       NaN   \nYou Belong To Me                                                      NaN   \nZen and the Art of Motorcycle Maintenance: An Inquiry into Values     0.0   \nZoya                                                                  NaN   \n\\O\\\" Is for Outlaw\"                                                   NaN   \n\nUser-ID                                                            ...  \\\nBook-Title                                                         ...   \n1984                                                               ...   \n1st to Die: A Novel                                                ...   \n2nd Chance                                                         ...   \n4 Blondes                                                          ...   \nA Bend in the Road                                                 ...   \n...                                                                ...   \nYear of Wonders                                                    ...   \nYou Belong To Me                                                   ...   \nZen and the Art of Motorcycle Maintenance: An Inquiry into Values  ...   \nZoya                                                               ...   \n\\O\\\" Is for Outlaw\"                                                ...   \n\nUser-ID                                                            274004  \\\nBook-Title                                                                  \n1984                                                                  NaN   \n1st to Die: A Novel                                                   NaN   \n2nd Chance                                                            NaN   \n4 Blondes                                                             NaN   \nA Bend in the Road                                                    NaN   \n...                                                                   ...   \nYear of Wonders                                                       NaN   \nYou Belong To Me                                                      NaN   \nZen and the Art of Motorcycle Maintenance: An Inquiry into Values     NaN   \nZoya                                                                  NaN   \n\\O\\\" Is for Outlaw\"                                                   NaN   \n\nUser-ID                                                            274061  \\\nBook-Title                                                                  \n1984                                                                  NaN   \n1st to Die: A Novel                                                   NaN   \n2nd Chance                                                            NaN   \n4 Blondes                                                             NaN   \nA Bend in the Road                                                    NaN   \n...                                                                   ...   \nYear of Wonders                                                       NaN   \nYou Belong To Me                                                      NaN   \nZen and the Art of Motorcycle Maintenance: An Inquiry into Values     NaN   \nZoya                                                                  NaN   \n\\O\\\" Is for Outlaw\"                                                   NaN   \n\nUser-ID                                                            274301  \\\nBook-Title                                                                  \n1984                                                                  NaN   \n1st to Die: A Novel                                                   NaN   \n2nd Chance                                                            NaN   \n4 Blondes                                                             NaN   \nA Bend in the Road                                                    NaN   \n...                                                                   ...   \nYear of Wonders                                                       NaN   \nYou Belong To Me                                                      NaN   \nZen and the Art of Motorcycle Maintenance: An Inquiry into Values     NaN   \nZoya                                                                  NaN   \n\\O\\\" Is for Outlaw\"                                                   8.0   \n\nUser-ID                                                            274308  \\\nBook-Title                                                                  \n1984                                                                  NaN   \n1st to Die: A Novel                                                   NaN   \n2nd Chance                                                            0.0   \n4 Blondes                                                             NaN   \nA Bend in the Road                                                    NaN   \n...                                                                   ...   \nYear of Wonders                                                       NaN   \nYou Belong To Me                                                      NaN   \nZen and the Art of Motorcycle Maintenance: An Inquiry into Values     NaN   \nZoya                                                                  NaN   \n\\O\\\" Is for Outlaw\"                                                   NaN   \n\nUser-ID                                                            274808  \\\nBook-Title                                                                  \n1984                                                                  NaN   \n1st to Die: A Novel                                                   NaN   \n2nd Chance                                                            NaN   \n4 Blondes                                                             NaN   \nA Bend in the Road                                                    NaN   \n...                                                                   ...   \nYear of Wonders                                                       NaN   \nYou Belong To Me                                                      NaN   \nZen and the Art of Motorcycle Maintenance: An Inquiry into Values     NaN   \nZoya                                                                  NaN   \n\\O\\\" Is for Outlaw\"                                                   NaN   \n\nUser-ID                                                            275970  \\\nBook-Title                                                                  \n1984                                                                  0.0   \n1st to Die: A Novel                                                   NaN   \n2nd Chance                                                            NaN   \n4 Blondes                                                             NaN   \nA Bend in the Road                                                    NaN   \n...                                                                   ...   \nYear of Wonders                                                       0.0   \nYou Belong To Me                                                      NaN   \nZen and the Art of Motorcycle Maintenance: An Inquiry into Values     0.0   \nZoya                                                                  NaN   \n\\O\\\" Is for Outlaw\"                                                   NaN   \n\nUser-ID                                                            277427  \\\nBook-Title                                                                  \n1984                                                                  NaN   \n1st to Die: A Novel                                                   NaN   \n2nd Chance                                                            NaN   \n4 Blondes                                                             NaN   \nA Bend in the Road                                                    NaN   \n...                                                                   ...   \nYear of Wonders                                                       NaN   \nYou Belong To Me                                                      NaN   \nZen and the Art of Motorcycle Maintenance: An Inquiry into Values     NaN   \nZoya                                                                  NaN   \n\\O\\\" Is for Outlaw\"                                                   NaN   \n\nUser-ID                                                            277478  \\\nBook-Title                                                                  \n1984                                                                  NaN   \n1st to Die: A Novel                                                   NaN   \n2nd Chance                                                            NaN   \n4 Blondes                                                             NaN   \nA Bend in the Road                                                    NaN   \n...                                                                   ...   \nYear of Wonders                                                       NaN   \nYou Belong To Me                                                      NaN   \nZen and the Art of Motorcycle Maintenance: An Inquiry into Values     NaN   \nZoya                                                                  NaN   \n\\O\\\" Is for Outlaw\"                                                   NaN   \n\nUser-ID                                                            277639  \\\nBook-Title                                                                  \n1984                                                                  NaN   \n1st to Die: A Novel                                                   NaN   \n2nd Chance                                                            0.0   \n4 Blondes                                                             NaN   \nA Bend in the Road                                                    NaN   \n...                                                                   ...   \nYear of Wonders                                                       NaN   \nYou Belong To Me                                                      NaN   \nZen and the Art of Motorcycle Maintenance: An Inquiry into Values     NaN   \nZoya                                                                  NaN   \n\\O\\\" Is for Outlaw\"                                                   NaN   \n\nUser-ID                                                            278418  \nBook-Title                                                                 \n1984                                                                  NaN  \n1st to Die: A Novel                                                   NaN  \n2nd Chance                                                            NaN  \n4 Blondes                                                             NaN  \nA Bend in the Road                                                    NaN  \n...                                                                   ...  \nYear of Wonders                                                       NaN  \nYou Belong To Me                                                      NaN  \nZen and the Art of Motorcycle Maintenance: An Inquiry into Values     NaN  \nZoya                                                                  NaN  \n\\O\\\" Is for Outlaw\"                                                   NaN  \n\n[737 rows x 888 columns]",
            "text/html": "<div>\n<style scoped>\n    .dataframe tbody tr th:only-of-type {\n        vertical-align: middle;\n    }\n\n    .dataframe tbody tr th {\n        vertical-align: top;\n    }\n\n    .dataframe thead th {\n        text-align: right;\n    }\n</style>\n<table border=\"1\" class=\"dataframe\">\n  <thead>\n    <tr style=\"text-align: right;\">\n      <th>User-ID</th>\n      <th>254</th>\n      <th>2276</th>\n      <th>2766</th>\n      <th>2977</th>\n      <th>3363</th>\n      <th>3757</th>\n      <th>4017</th>\n      <th>4385</th>\n      <th>6242</th>\n      <th>6251</th>\n      <th>...</th>\n      <th>274004</th>\n      <th>274061</th>\n      <th>274301</th>\n      <th>274308</th>\n      <th>274808</th>\n      <th>275970</th>\n      <th>277427</th>\n      <th>277478</th>\n      <th>277639</th>\n      <th>278418</th>\n    </tr>\n    <tr>\n      <th>Book-Title</th>\n      <th></th>\n      <th></th>\n      <th></th>\n      <th></th>\n      <th></th>\n      <th></th>\n      <th></th>\n      <th></th>\n      <th></th>\n      <th></th>\n      <th></th>\n      <th></th>\n      <th></th>\n      <th></th>\n      <th></th>\n      <th></th>\n      <th></th>\n      <th></th>\n      <th></th>\n      <th></th>\n      <th></th>\n    </tr>\n  </thead>\n  <tbody>\n    <tr>\n      <th>1984</th>\n      <td>9.0</td>\n      <td>NaN</td>\n      <td>NaN</td>\n      <td>NaN</td>\n      <td>NaN</td>\n      <td>NaN</td>\n      <td>NaN</td>\n      <td>NaN</td>\n      <td>NaN</td>\n      <td>NaN</td>\n      <td>...</td>\n      <td>NaN</td>\n      <td>NaN</td>\n      <td>NaN</td>\n      <td>NaN</td>\n      <td>NaN</td>\n      <td>0.0</td>\n      <td>NaN</td>\n      <td>NaN</td>\n      <td>NaN</td>\n      <td>NaN</td>\n    </tr>\n    <tr>\n      <th>1st to Die: A Novel</th>\n      <td>NaN</td>\n      <td>NaN</td>\n      <td>NaN</td>\n      <td>NaN</td>\n      <td>NaN</td>\n      <td>NaN</td>\n      <td>NaN</td>\n      <td>NaN</td>\n      <td>NaN</td>\n      <td>NaN</td>\n      <td>...</td>\n      <td>NaN</td>\n      <td>NaN</td>\n      <td>NaN</td>\n      <td>NaN</td>\n      <td>NaN</td>\n      <td>NaN</td>\n      <td>NaN</td>\n      <td>NaN</td>\n      <td>NaN</td>\n      <td>NaN</td>\n    </tr>\n    <tr>\n      <th>2nd Chance</th>\n      <td>NaN</td>\n      <td>10.0</td>\n      <td>NaN</td>\n      <td>NaN</td>\n      <td>NaN</td>\n      <td>NaN</td>\n      <td>NaN</td>\n      <td>NaN</td>\n      <td>NaN</td>\n      <td>NaN</td>\n      <td>...</td>\n      <td>NaN</td>\n      <td>NaN</td>\n      <td>NaN</td>\n      <td>0.0</td>\n      <td>NaN</td>\n      <td>NaN</td>\n      <td>NaN</td>\n      <td>NaN</td>\n      <td>0.0</td>\n      <td>NaN</td>\n    </tr>\n    <tr>\n      <th>4 Blondes</th>\n      <td>NaN</td>\n      <td>NaN</td>\n      <td>NaN</td>\n      <td>NaN</td>\n      <td>NaN</td>\n      <td>NaN</td>\n      <td>NaN</td>\n      <td>NaN</td>\n      <td>NaN</td>\n      <td>0.0</td>\n      <td>...</td>\n      <td>NaN</td>\n      <td>NaN</td>\n      <td>NaN</td>\n      <td>NaN</td>\n      <td>NaN</td>\n      <td>NaN</td>\n      <td>NaN</td>\n      <td>NaN</td>\n      <td>NaN</td>\n      <td>NaN</td>\n    </tr>\n    <tr>\n      <th>A Bend in the Road</th>\n      <td>0.0</td>\n      <td>NaN</td>\n      <td>7.0</td>\n      <td>NaN</td>\n      <td>NaN</td>\n      <td>NaN</td>\n      <td>NaN</td>\n      <td>NaN</td>\n      <td>NaN</td>\n      <td>NaN</td>\n      <td>...</td>\n      <td>NaN</td>\n      <td>NaN</td>\n      <td>NaN</td>\n      <td>NaN</td>\n      <td>NaN</td>\n      <td>NaN</td>\n      <td>NaN</td>\n      <td>NaN</td>\n      <td>NaN</td>\n      <td>NaN</td>\n    </tr>\n    <tr>\n      <th>...</th>\n      <td>...</td>\n      <td>...</td>\n      <td>...</td>\n      <td>...</td>\n      <td>...</td>\n      <td>...</td>\n      <td>...</td>\n      <td>...</td>\n      <td>...</td>\n      <td>...</td>\n      <td>...</td>\n      <td>...</td>\n      <td>...</td>\n      <td>...</td>\n      <td>...</td>\n      <td>...</td>\n      <td>...</td>\n      <td>...</td>\n      <td>...</td>\n      <td>...</td>\n      <td>...</td>\n    </tr>\n    <tr>\n      <th>Year of Wonders</th>\n      <td>NaN</td>\n      <td>NaN</td>\n      <td>NaN</td>\n      <td>7.0</td>\n      <td>NaN</td>\n      <td>NaN</td>\n      <td>NaN</td>\n      <td>NaN</td>\n      <td>7.0</td>\n      <td>NaN</td>\n      <td>...</td>\n      <td>NaN</td>\n      <td>NaN</td>\n      <td>NaN</td>\n      <td>NaN</td>\n      <td>NaN</td>\n      <td>0.0</td>\n      <td>NaN</td>\n      <td>NaN</td>\n      <td>NaN</td>\n      <td>NaN</td>\n    </tr>\n    <tr>\n      <th>You Belong To Me</th>\n      <td>NaN</td>\n      <td>NaN</td>\n      <td>NaN</td>\n      <td>NaN</td>\n      <td>NaN</td>\n      <td>NaN</td>\n      <td>NaN</td>\n      <td>NaN</td>\n      <td>NaN</td>\n      <td>NaN</td>\n      <td>...</td>\n      <td>NaN</td>\n      <td>NaN</td>\n      <td>NaN</td>\n      <td>NaN</td>\n      <td>NaN</td>\n      <td>NaN</td>\n      <td>NaN</td>\n      <td>NaN</td>\n      <td>NaN</td>\n      <td>NaN</td>\n    </tr>\n    <tr>\n      <th>Zen and the Art of Motorcycle Maintenance: An Inquiry into Values</th>\n      <td>NaN</td>\n      <td>NaN</td>\n      <td>NaN</td>\n      <td>NaN</td>\n      <td>0.0</td>\n      <td>NaN</td>\n      <td>NaN</td>\n      <td>NaN</td>\n      <td>NaN</td>\n      <td>0.0</td>\n      <td>...</td>\n      <td>NaN</td>\n      <td>NaN</td>\n      <td>NaN</td>\n      <td>NaN</td>\n      <td>NaN</td>\n      <td>0.0</td>\n      <td>NaN</td>\n      <td>NaN</td>\n      <td>NaN</td>\n      <td>NaN</td>\n    </tr>\n    <tr>\n      <th>Zoya</th>\n      <td>NaN</td>\n      <td>NaN</td>\n      <td>NaN</td>\n      <td>NaN</td>\n      <td>NaN</td>\n      <td>NaN</td>\n      <td>NaN</td>\n      <td>NaN</td>\n      <td>NaN</td>\n      <td>NaN</td>\n      <td>...</td>\n      <td>NaN</td>\n      <td>NaN</td>\n      <td>NaN</td>\n      <td>NaN</td>\n      <td>NaN</td>\n      <td>NaN</td>\n      <td>NaN</td>\n      <td>NaN</td>\n      <td>NaN</td>\n      <td>NaN</td>\n    </tr>\n    <tr>\n      <th>\\O\\\" Is for Outlaw\"</th>\n      <td>NaN</td>\n      <td>NaN</td>\n      <td>NaN</td>\n      <td>NaN</td>\n      <td>NaN</td>\n      <td>NaN</td>\n      <td>NaN</td>\n      <td>NaN</td>\n      <td>NaN</td>\n      <td>NaN</td>\n      <td>...</td>\n      <td>NaN</td>\n      <td>NaN</td>\n      <td>8.0</td>\n      <td>NaN</td>\n      <td>NaN</td>\n      <td>NaN</td>\n      <td>NaN</td>\n      <td>NaN</td>\n      <td>NaN</td>\n      <td>NaN</td>\n    </tr>\n  </tbody>\n</table>\n<p>737 rows × 888 columns</p>\n</div>"
          },
          "metadata": {}
        }
      ]
    },
    {
      "cell_type": "markdown",
      "source": [
        "#### From the above table, we can see there are Nan values so lets fill it with '0'"
      ],
      "metadata": {
        "id": "EDPUa8FfbQHL"
      }
    },
    {
      "cell_type": "code",
      "source": [
        "#lets fill nan with '0'\n",
        "\n",
        "book_pivot.fillna(0, inplace=True)\n",
        "book_pivot"
      ],
      "metadata": {
        "execution": {
          "iopub.status.busy": "2024-03-23T04:02:19.071554Z",
          "iopub.execute_input": "2024-03-23T04:02:19.071868Z",
          "iopub.status.idle": "2024-03-23T04:02:19.119452Z",
          "shell.execute_reply.started": "2024-03-23T04:02:19.071841Z",
          "shell.execute_reply": "2024-03-23T04:02:19.118476Z"
        },
        "trusted": true,
        "id": "jsWpuzU7bQHL",
        "outputId": "6da38bf5-53da-4281-faa7-eb5954769c90"
      },
      "execution_count": null,
      "outputs": [
        {
          "execution_count": 101,
          "output_type": "execute_result",
          "data": {
            "text/plain": "User-ID                                                            254     \\\nBook-Title                                                                  \n1984                                                                  9.0   \n1st to Die: A Novel                                                   0.0   \n2nd Chance                                                            0.0   \n4 Blondes                                                             0.0   \nA Bend in the Road                                                    0.0   \n...                                                                   ...   \nYear of Wonders                                                       0.0   \nYou Belong To Me                                                      0.0   \nZen and the Art of Motorcycle Maintenance: An Inquiry into Values     0.0   \nZoya                                                                  0.0   \n\\O\\\" Is for Outlaw\"                                                   0.0   \n\nUser-ID                                                            2276    \\\nBook-Title                                                                  \n1984                                                                  0.0   \n1st to Die: A Novel                                                   0.0   \n2nd Chance                                                           10.0   \n4 Blondes                                                             0.0   \nA Bend in the Road                                                    0.0   \n...                                                                   ...   \nYear of Wonders                                                       0.0   \nYou Belong To Me                                                      0.0   \nZen and the Art of Motorcycle Maintenance: An Inquiry into Values     0.0   \nZoya                                                                  0.0   \n\\O\\\" Is for Outlaw\"                                                   0.0   \n\nUser-ID                                                            2766    \\\nBook-Title                                                                  \n1984                                                                  0.0   \n1st to Die: A Novel                                                   0.0   \n2nd Chance                                                            0.0   \n4 Blondes                                                             0.0   \nA Bend in the Road                                                    7.0   \n...                                                                   ...   \nYear of Wonders                                                       0.0   \nYou Belong To Me                                                      0.0   \nZen and the Art of Motorcycle Maintenance: An Inquiry into Values     0.0   \nZoya                                                                  0.0   \n\\O\\\" Is for Outlaw\"                                                   0.0   \n\nUser-ID                                                            2977    \\\nBook-Title                                                                  \n1984                                                                  0.0   \n1st to Die: A Novel                                                   0.0   \n2nd Chance                                                            0.0   \n4 Blondes                                                             0.0   \nA Bend in the Road                                                    0.0   \n...                                                                   ...   \nYear of Wonders                                                       7.0   \nYou Belong To Me                                                      0.0   \nZen and the Art of Motorcycle Maintenance: An Inquiry into Values     0.0   \nZoya                                                                  0.0   \n\\O\\\" Is for Outlaw\"                                                   0.0   \n\nUser-ID                                                            3363    \\\nBook-Title                                                                  \n1984                                                                  0.0   \n1st to Die: A Novel                                                   0.0   \n2nd Chance                                                            0.0   \n4 Blondes                                                             0.0   \nA Bend in the Road                                                    0.0   \n...                                                                   ...   \nYear of Wonders                                                       0.0   \nYou Belong To Me                                                      0.0   \nZen and the Art of Motorcycle Maintenance: An Inquiry into Values     0.0   \nZoya                                                                  0.0   \n\\O\\\" Is for Outlaw\"                                                   0.0   \n\nUser-ID                                                            3757    \\\nBook-Title                                                                  \n1984                                                                  0.0   \n1st to Die: A Novel                                                   0.0   \n2nd Chance                                                            0.0   \n4 Blondes                                                             0.0   \nA Bend in the Road                                                    0.0   \n...                                                                   ...   \nYear of Wonders                                                       0.0   \nYou Belong To Me                                                      0.0   \nZen and the Art of Motorcycle Maintenance: An Inquiry into Values     0.0   \nZoya                                                                  0.0   \n\\O\\\" Is for Outlaw\"                                                   0.0   \n\nUser-ID                                                            4017    \\\nBook-Title                                                                  \n1984                                                                  0.0   \n1st to Die: A Novel                                                   0.0   \n2nd Chance                                                            0.0   \n4 Blondes                                                             0.0   \nA Bend in the Road                                                    0.0   \n...                                                                   ...   \nYear of Wonders                                                       0.0   \nYou Belong To Me                                                      0.0   \nZen and the Art of Motorcycle Maintenance: An Inquiry into Values     0.0   \nZoya                                                                  0.0   \n\\O\\\" Is for Outlaw\"                                                   0.0   \n\nUser-ID                                                            4385    \\\nBook-Title                                                                  \n1984                                                                  0.0   \n1st to Die: A Novel                                                   0.0   \n2nd Chance                                                            0.0   \n4 Blondes                                                             0.0   \nA Bend in the Road                                                    0.0   \n...                                                                   ...   \nYear of Wonders                                                       0.0   \nYou Belong To Me                                                      0.0   \nZen and the Art of Motorcycle Maintenance: An Inquiry into Values     0.0   \nZoya                                                                  0.0   \n\\O\\\" Is for Outlaw\"                                                   0.0   \n\nUser-ID                                                            6242    \\\nBook-Title                                                                  \n1984                                                                  0.0   \n1st to Die: A Novel                                                   0.0   \n2nd Chance                                                            0.0   \n4 Blondes                                                             0.0   \nA Bend in the Road                                                    0.0   \n...                                                                   ...   \nYear of Wonders                                                       7.0   \nYou Belong To Me                                                      0.0   \nZen and the Art of Motorcycle Maintenance: An Inquiry into Values     0.0   \nZoya                                                                  0.0   \n\\O\\\" Is for Outlaw\"                                                   0.0   \n\nUser-ID                                                            6251    \\\nBook-Title                                                                  \n1984                                                                  0.0   \n1st to Die: A Novel                                                   0.0   \n2nd Chance                                                            0.0   \n4 Blondes                                                             0.0   \nA Bend in the Road                                                    0.0   \n...                                                                   ...   \nYear of Wonders                                                       0.0   \nYou Belong To Me                                                      0.0   \nZen and the Art of Motorcycle Maintenance: An Inquiry into Values     0.0   \nZoya                                                                  0.0   \n\\O\\\" Is for Outlaw\"                                                   0.0   \n\nUser-ID                                                            ...  \\\nBook-Title                                                         ...   \n1984                                                               ...   \n1st to Die: A Novel                                                ...   \n2nd Chance                                                         ...   \n4 Blondes                                                          ...   \nA Bend in the Road                                                 ...   \n...                                                                ...   \nYear of Wonders                                                    ...   \nYou Belong To Me                                                   ...   \nZen and the Art of Motorcycle Maintenance: An Inquiry into Values  ...   \nZoya                                                               ...   \n\\O\\\" Is for Outlaw\"                                                ...   \n\nUser-ID                                                            274004  \\\nBook-Title                                                                  \n1984                                                                  0.0   \n1st to Die: A Novel                                                   0.0   \n2nd Chance                                                            0.0   \n4 Blondes                                                             0.0   \nA Bend in the Road                                                    0.0   \n...                                                                   ...   \nYear of Wonders                                                       0.0   \nYou Belong To Me                                                      0.0   \nZen and the Art of Motorcycle Maintenance: An Inquiry into Values     0.0   \nZoya                                                                  0.0   \n\\O\\\" Is for Outlaw\"                                                   0.0   \n\nUser-ID                                                            274061  \\\nBook-Title                                                                  \n1984                                                                  0.0   \n1st to Die: A Novel                                                   0.0   \n2nd Chance                                                            0.0   \n4 Blondes                                                             0.0   \nA Bend in the Road                                                    0.0   \n...                                                                   ...   \nYear of Wonders                                                       0.0   \nYou Belong To Me                                                      0.0   \nZen and the Art of Motorcycle Maintenance: An Inquiry into Values     0.0   \nZoya                                                                  0.0   \n\\O\\\" Is for Outlaw\"                                                   0.0   \n\nUser-ID                                                            274301  \\\nBook-Title                                                                  \n1984                                                                  0.0   \n1st to Die: A Novel                                                   0.0   \n2nd Chance                                                            0.0   \n4 Blondes                                                             0.0   \nA Bend in the Road                                                    0.0   \n...                                                                   ...   \nYear of Wonders                                                       0.0   \nYou Belong To Me                                                      0.0   \nZen and the Art of Motorcycle Maintenance: An Inquiry into Values     0.0   \nZoya                                                                  0.0   \n\\O\\\" Is for Outlaw\"                                                   8.0   \n\nUser-ID                                                            274308  \\\nBook-Title                                                                  \n1984                                                                  0.0   \n1st to Die: A Novel                                                   0.0   \n2nd Chance                                                            0.0   \n4 Blondes                                                             0.0   \nA Bend in the Road                                                    0.0   \n...                                                                   ...   \nYear of Wonders                                                       0.0   \nYou Belong To Me                                                      0.0   \nZen and the Art of Motorcycle Maintenance: An Inquiry into Values     0.0   \nZoya                                                                  0.0   \n\\O\\\" Is for Outlaw\"                                                   0.0   \n\nUser-ID                                                            274808  \\\nBook-Title                                                                  \n1984                                                                  0.0   \n1st to Die: A Novel                                                   0.0   \n2nd Chance                                                            0.0   \n4 Blondes                                                             0.0   \nA Bend in the Road                                                    0.0   \n...                                                                   ...   \nYear of Wonders                                                       0.0   \nYou Belong To Me                                                      0.0   \nZen and the Art of Motorcycle Maintenance: An Inquiry into Values     0.0   \nZoya                                                                  0.0   \n\\O\\\" Is for Outlaw\"                                                   0.0   \n\nUser-ID                                                            275970  \\\nBook-Title                                                                  \n1984                                                                  0.0   \n1st to Die: A Novel                                                   0.0   \n2nd Chance                                                            0.0   \n4 Blondes                                                             0.0   \nA Bend in the Road                                                    0.0   \n...                                                                   ...   \nYear of Wonders                                                       0.0   \nYou Belong To Me                                                      0.0   \nZen and the Art of Motorcycle Maintenance: An Inquiry into Values     0.0   \nZoya                                                                  0.0   \n\\O\\\" Is for Outlaw\"                                                   0.0   \n\nUser-ID                                                            277427  \\\nBook-Title                                                                  \n1984                                                                  0.0   \n1st to Die: A Novel                                                   0.0   \n2nd Chance                                                            0.0   \n4 Blondes                                                             0.0   \nA Bend in the Road                                                    0.0   \n...                                                                   ...   \nYear of Wonders                                                       0.0   \nYou Belong To Me                                                      0.0   \nZen and the Art of Motorcycle Maintenance: An Inquiry into Values     0.0   \nZoya                                                                  0.0   \n\\O\\\" Is for Outlaw\"                                                   0.0   \n\nUser-ID                                                            277478  \\\nBook-Title                                                                  \n1984                                                                  0.0   \n1st to Die: A Novel                                                   0.0   \n2nd Chance                                                            0.0   \n4 Blondes                                                             0.0   \nA Bend in the Road                                                    0.0   \n...                                                                   ...   \nYear of Wonders                                                       0.0   \nYou Belong To Me                                                      0.0   \nZen and the Art of Motorcycle Maintenance: An Inquiry into Values     0.0   \nZoya                                                                  0.0   \n\\O\\\" Is for Outlaw\"                                                   0.0   \n\nUser-ID                                                            277639  \\\nBook-Title                                                                  \n1984                                                                  0.0   \n1st to Die: A Novel                                                   0.0   \n2nd Chance                                                            0.0   \n4 Blondes                                                             0.0   \nA Bend in the Road                                                    0.0   \n...                                                                   ...   \nYear of Wonders                                                       0.0   \nYou Belong To Me                                                      0.0   \nZen and the Art of Motorcycle Maintenance: An Inquiry into Values     0.0   \nZoya                                                                  0.0   \n\\O\\\" Is for Outlaw\"                                                   0.0   \n\nUser-ID                                                            278418  \nBook-Title                                                                 \n1984                                                                  0.0  \n1st to Die: A Novel                                                   0.0  \n2nd Chance                                                            0.0  \n4 Blondes                                                             0.0  \nA Bend in the Road                                                    0.0  \n...                                                                   ...  \nYear of Wonders                                                       0.0  \nYou Belong To Me                                                      0.0  \nZen and the Art of Motorcycle Maintenance: An Inquiry into Values     0.0  \nZoya                                                                  0.0  \n\\O\\\" Is for Outlaw\"                                                   0.0  \n\n[737 rows x 888 columns]",
            "text/html": "<div>\n<style scoped>\n    .dataframe tbody tr th:only-of-type {\n        vertical-align: middle;\n    }\n\n    .dataframe tbody tr th {\n        vertical-align: top;\n    }\n\n    .dataframe thead th {\n        text-align: right;\n    }\n</style>\n<table border=\"1\" class=\"dataframe\">\n  <thead>\n    <tr style=\"text-align: right;\">\n      <th>User-ID</th>\n      <th>254</th>\n      <th>2276</th>\n      <th>2766</th>\n      <th>2977</th>\n      <th>3363</th>\n      <th>3757</th>\n      <th>4017</th>\n      <th>4385</th>\n      <th>6242</th>\n      <th>6251</th>\n      <th>...</th>\n      <th>274004</th>\n      <th>274061</th>\n      <th>274301</th>\n      <th>274308</th>\n      <th>274808</th>\n      <th>275970</th>\n      <th>277427</th>\n      <th>277478</th>\n      <th>277639</th>\n      <th>278418</th>\n    </tr>\n    <tr>\n      <th>Book-Title</th>\n      <th></th>\n      <th></th>\n      <th></th>\n      <th></th>\n      <th></th>\n      <th></th>\n      <th></th>\n      <th></th>\n      <th></th>\n      <th></th>\n      <th></th>\n      <th></th>\n      <th></th>\n      <th></th>\n      <th></th>\n      <th></th>\n      <th></th>\n      <th></th>\n      <th></th>\n      <th></th>\n      <th></th>\n    </tr>\n  </thead>\n  <tbody>\n    <tr>\n      <th>1984</th>\n      <td>9.0</td>\n      <td>0.0</td>\n      <td>0.0</td>\n      <td>0.0</td>\n      <td>0.0</td>\n      <td>0.0</td>\n      <td>0.0</td>\n      <td>0.0</td>\n      <td>0.0</td>\n      <td>0.0</td>\n      <td>...</td>\n      <td>0.0</td>\n      <td>0.0</td>\n      <td>0.0</td>\n      <td>0.0</td>\n      <td>0.0</td>\n      <td>0.0</td>\n      <td>0.0</td>\n      <td>0.0</td>\n      <td>0.0</td>\n      <td>0.0</td>\n    </tr>\n    <tr>\n      <th>1st to Die: A Novel</th>\n      <td>0.0</td>\n      <td>0.0</td>\n      <td>0.0</td>\n      <td>0.0</td>\n      <td>0.0</td>\n      <td>0.0</td>\n      <td>0.0</td>\n      <td>0.0</td>\n      <td>0.0</td>\n      <td>0.0</td>\n      <td>...</td>\n      <td>0.0</td>\n      <td>0.0</td>\n      <td>0.0</td>\n      <td>0.0</td>\n      <td>0.0</td>\n      <td>0.0</td>\n      <td>0.0</td>\n      <td>0.0</td>\n      <td>0.0</td>\n      <td>0.0</td>\n    </tr>\n    <tr>\n      <th>2nd Chance</th>\n      <td>0.0</td>\n      <td>10.0</td>\n      <td>0.0</td>\n      <td>0.0</td>\n      <td>0.0</td>\n      <td>0.0</td>\n      <td>0.0</td>\n      <td>0.0</td>\n      <td>0.0</td>\n      <td>0.0</td>\n      <td>...</td>\n      <td>0.0</td>\n      <td>0.0</td>\n      <td>0.0</td>\n      <td>0.0</td>\n      <td>0.0</td>\n      <td>0.0</td>\n      <td>0.0</td>\n      <td>0.0</td>\n      <td>0.0</td>\n      <td>0.0</td>\n    </tr>\n    <tr>\n      <th>4 Blondes</th>\n      <td>0.0</td>\n      <td>0.0</td>\n      <td>0.0</td>\n      <td>0.0</td>\n      <td>0.0</td>\n      <td>0.0</td>\n      <td>0.0</td>\n      <td>0.0</td>\n      <td>0.0</td>\n      <td>0.0</td>\n      <td>...</td>\n      <td>0.0</td>\n      <td>0.0</td>\n      <td>0.0</td>\n      <td>0.0</td>\n      <td>0.0</td>\n      <td>0.0</td>\n      <td>0.0</td>\n      <td>0.0</td>\n      <td>0.0</td>\n      <td>0.0</td>\n    </tr>\n    <tr>\n      <th>A Bend in the Road</th>\n      <td>0.0</td>\n      <td>0.0</td>\n      <td>7.0</td>\n      <td>0.0</td>\n      <td>0.0</td>\n      <td>0.0</td>\n      <td>0.0</td>\n      <td>0.0</td>\n      <td>0.0</td>\n      <td>0.0</td>\n      <td>...</td>\n      <td>0.0</td>\n      <td>0.0</td>\n      <td>0.0</td>\n      <td>0.0</td>\n      <td>0.0</td>\n      <td>0.0</td>\n      <td>0.0</td>\n      <td>0.0</td>\n      <td>0.0</td>\n      <td>0.0</td>\n    </tr>\n    <tr>\n      <th>...</th>\n      <td>...</td>\n      <td>...</td>\n      <td>...</td>\n      <td>...</td>\n      <td>...</td>\n      <td>...</td>\n      <td>...</td>\n      <td>...</td>\n      <td>...</td>\n      <td>...</td>\n      <td>...</td>\n      <td>...</td>\n      <td>...</td>\n      <td>...</td>\n      <td>...</td>\n      <td>...</td>\n      <td>...</td>\n      <td>...</td>\n      <td>...</td>\n      <td>...</td>\n      <td>...</td>\n    </tr>\n    <tr>\n      <th>Year of Wonders</th>\n      <td>0.0</td>\n      <td>0.0</td>\n      <td>0.0</td>\n      <td>7.0</td>\n      <td>0.0</td>\n      <td>0.0</td>\n      <td>0.0</td>\n      <td>0.0</td>\n      <td>7.0</td>\n      <td>0.0</td>\n      <td>...</td>\n      <td>0.0</td>\n      <td>0.0</td>\n      <td>0.0</td>\n      <td>0.0</td>\n      <td>0.0</td>\n      <td>0.0</td>\n      <td>0.0</td>\n      <td>0.0</td>\n      <td>0.0</td>\n      <td>0.0</td>\n    </tr>\n    <tr>\n      <th>You Belong To Me</th>\n      <td>0.0</td>\n      <td>0.0</td>\n      <td>0.0</td>\n      <td>0.0</td>\n      <td>0.0</td>\n      <td>0.0</td>\n      <td>0.0</td>\n      <td>0.0</td>\n      <td>0.0</td>\n      <td>0.0</td>\n      <td>...</td>\n      <td>0.0</td>\n      <td>0.0</td>\n      <td>0.0</td>\n      <td>0.0</td>\n      <td>0.0</td>\n      <td>0.0</td>\n      <td>0.0</td>\n      <td>0.0</td>\n      <td>0.0</td>\n      <td>0.0</td>\n    </tr>\n    <tr>\n      <th>Zen and the Art of Motorcycle Maintenance: An Inquiry into Values</th>\n      <td>0.0</td>\n      <td>0.0</td>\n      <td>0.0</td>\n      <td>0.0</td>\n      <td>0.0</td>\n      <td>0.0</td>\n      <td>0.0</td>\n      <td>0.0</td>\n      <td>0.0</td>\n      <td>0.0</td>\n      <td>...</td>\n      <td>0.0</td>\n      <td>0.0</td>\n      <td>0.0</td>\n      <td>0.0</td>\n      <td>0.0</td>\n      <td>0.0</td>\n      <td>0.0</td>\n      <td>0.0</td>\n      <td>0.0</td>\n      <td>0.0</td>\n    </tr>\n    <tr>\n      <th>Zoya</th>\n      <td>0.0</td>\n      <td>0.0</td>\n      <td>0.0</td>\n      <td>0.0</td>\n      <td>0.0</td>\n      <td>0.0</td>\n      <td>0.0</td>\n      <td>0.0</td>\n      <td>0.0</td>\n      <td>0.0</td>\n      <td>...</td>\n      <td>0.0</td>\n      <td>0.0</td>\n      <td>0.0</td>\n      <td>0.0</td>\n      <td>0.0</td>\n      <td>0.0</td>\n      <td>0.0</td>\n      <td>0.0</td>\n      <td>0.0</td>\n      <td>0.0</td>\n    </tr>\n    <tr>\n      <th>\\O\\\" Is for Outlaw\"</th>\n      <td>0.0</td>\n      <td>0.0</td>\n      <td>0.0</td>\n      <td>0.0</td>\n      <td>0.0</td>\n      <td>0.0</td>\n      <td>0.0</td>\n      <td>0.0</td>\n      <td>0.0</td>\n      <td>0.0</td>\n      <td>...</td>\n      <td>0.0</td>\n      <td>0.0</td>\n      <td>8.0</td>\n      <td>0.0</td>\n      <td>0.0</td>\n      <td>0.0</td>\n      <td>0.0</td>\n      <td>0.0</td>\n      <td>0.0</td>\n      <td>0.0</td>\n    </tr>\n  </tbody>\n</table>\n<p>737 rows × 888 columns</p>\n</div>"
          },
          "metadata": {}
        }
      ]
    },
    {
      "cell_type": "code",
      "source": [
        "book_sparse =csr_matrix(book_pivot)"
      ],
      "metadata": {
        "execution": {
          "iopub.status.busy": "2024-03-23T04:02:19.120585Z",
          "iopub.execute_input": "2024-03-23T04:02:19.120886Z",
          "iopub.status.idle": "2024-03-23T04:02:19.138788Z",
          "shell.execute_reply.started": "2024-03-23T04:02:19.120859Z",
          "shell.execute_reply": "2024-03-23T04:02:19.137883Z"
        },
        "trusted": true,
        "id": "ooqmTzRMbQHL"
      },
      "execution_count": null,
      "outputs": []
    },
    {
      "cell_type": "markdown",
      "source": [
        "#### ************* Implementing the KNN *********************"
      ],
      "metadata": {
        "id": "Z8O1bDPYbQHL"
      }
    },
    {
      "cell_type": "code",
      "source": [
        "from sklearn.neighbors import NearestNeighbors\n",
        "model=NearestNeighbors(algorithm='brute')\n"
      ],
      "metadata": {
        "execution": {
          "iopub.status.busy": "2024-03-23T04:02:19.139967Z",
          "iopub.execute_input": "2024-03-23T04:02:19.140273Z",
          "iopub.status.idle": "2024-03-23T04:02:19.144407Z",
          "shell.execute_reply.started": "2024-03-23T04:02:19.140247Z",
          "shell.execute_reply": "2024-03-23T04:02:19.14352Z"
        },
        "trusted": true,
        "id": "OPikPWj9bQHL"
      },
      "execution_count": null,
      "outputs": []
    },
    {
      "cell_type": "code",
      "source": [
        "model.fit(book_sparse)"
      ],
      "metadata": {
        "execution": {
          "iopub.status.busy": "2024-03-23T04:02:19.145518Z",
          "iopub.execute_input": "2024-03-23T04:02:19.145823Z",
          "iopub.status.idle": "2024-03-23T04:02:19.157728Z",
          "shell.execute_reply.started": "2024-03-23T04:02:19.145798Z",
          "shell.execute_reply": "2024-03-23T04:02:19.15648Z"
        },
        "trusted": true,
        "id": "rDp8HjWvbQHL",
        "outputId": "e4c852ed-cfad-4faa-cab7-e69d55efe98e"
      },
      "execution_count": null,
      "outputs": [
        {
          "execution_count": 104,
          "output_type": "execute_result",
          "data": {
            "text/plain": "NearestNeighbors(algorithm='brute')",
            "text/html": "<style>#sk-container-id-2 {color: black;background-color: white;}#sk-container-id-2 pre{padding: 0;}#sk-container-id-2 div.sk-toggleable {background-color: white;}#sk-container-id-2 label.sk-toggleable__label {cursor: pointer;display: block;width: 100%;margin-bottom: 0;padding: 0.3em;box-sizing: border-box;text-align: center;}#sk-container-id-2 label.sk-toggleable__label-arrow:before {content: \"▸\";float: left;margin-right: 0.25em;color: #696969;}#sk-container-id-2 label.sk-toggleable__label-arrow:hover:before {color: black;}#sk-container-id-2 div.sk-estimator:hover label.sk-toggleable__label-arrow:before {color: black;}#sk-container-id-2 div.sk-toggleable__content {max-height: 0;max-width: 0;overflow: hidden;text-align: left;background-color: #f0f8ff;}#sk-container-id-2 div.sk-toggleable__content pre {margin: 0.2em;color: black;border-radius: 0.25em;background-color: #f0f8ff;}#sk-container-id-2 input.sk-toggleable__control:checked~div.sk-toggleable__content {max-height: 200px;max-width: 100%;overflow: auto;}#sk-container-id-2 input.sk-toggleable__control:checked~label.sk-toggleable__label-arrow:before {content: \"▾\";}#sk-container-id-2 div.sk-estimator input.sk-toggleable__control:checked~label.sk-toggleable__label {background-color: #d4ebff;}#sk-container-id-2 div.sk-label input.sk-toggleable__control:checked~label.sk-toggleable__label {background-color: #d4ebff;}#sk-container-id-2 input.sk-hidden--visually {border: 0;clip: rect(1px 1px 1px 1px);clip: rect(1px, 1px, 1px, 1px);height: 1px;margin: -1px;overflow: hidden;padding: 0;position: absolute;width: 1px;}#sk-container-id-2 div.sk-estimator {font-family: monospace;background-color: #f0f8ff;border: 1px dotted black;border-radius: 0.25em;box-sizing: border-box;margin-bottom: 0.5em;}#sk-container-id-2 div.sk-estimator:hover {background-color: #d4ebff;}#sk-container-id-2 div.sk-parallel-item::after {content: \"\";width: 100%;border-bottom: 1px solid gray;flex-grow: 1;}#sk-container-id-2 div.sk-label:hover label.sk-toggleable__label {background-color: #d4ebff;}#sk-container-id-2 div.sk-serial::before {content: \"\";position: absolute;border-left: 1px solid gray;box-sizing: border-box;top: 0;bottom: 0;left: 50%;z-index: 0;}#sk-container-id-2 div.sk-serial {display: flex;flex-direction: column;align-items: center;background-color: white;padding-right: 0.2em;padding-left: 0.2em;position: relative;}#sk-container-id-2 div.sk-item {position: relative;z-index: 1;}#sk-container-id-2 div.sk-parallel {display: flex;align-items: stretch;justify-content: center;background-color: white;position: relative;}#sk-container-id-2 div.sk-item::before, #sk-container-id-2 div.sk-parallel-item::before {content: \"\";position: absolute;border-left: 1px solid gray;box-sizing: border-box;top: 0;bottom: 0;left: 50%;z-index: -1;}#sk-container-id-2 div.sk-parallel-item {display: flex;flex-direction: column;z-index: 1;position: relative;background-color: white;}#sk-container-id-2 div.sk-parallel-item:first-child::after {align-self: flex-end;width: 50%;}#sk-container-id-2 div.sk-parallel-item:last-child::after {align-self: flex-start;width: 50%;}#sk-container-id-2 div.sk-parallel-item:only-child::after {width: 0;}#sk-container-id-2 div.sk-dashed-wrapped {border: 1px dashed gray;margin: 0 0.4em 0.5em 0.4em;box-sizing: border-box;padding-bottom: 0.4em;background-color: white;}#sk-container-id-2 div.sk-label label {font-family: monospace;font-weight: bold;display: inline-block;line-height: 1.2em;}#sk-container-id-2 div.sk-label-container {text-align: center;}#sk-container-id-2 div.sk-container {/* jupyter's `normalize.less` sets `[hidden] { display: none; }` but bootstrap.min.css set `[hidden] { display: none !important; }` so we also need the `!important` here to be able to override the default hidden behavior on the sphinx rendered scikit-learn.org. See: https://github.com/scikit-learn/scikit-learn/issues/21755 */display: inline-block !important;position: relative;}#sk-container-id-2 div.sk-text-repr-fallback {display: none;}</style><div id=\"sk-container-id-2\" class=\"sk-top-container\"><div class=\"sk-text-repr-fallback\"><pre>NearestNeighbors(algorithm=&#x27;brute&#x27;)</pre><b>In a Jupyter environment, please rerun this cell to show the HTML representation or trust the notebook. <br />On GitHub, the HTML representation is unable to render, please try loading this page with nbviewer.org.</b></div><div class=\"sk-container\" hidden><div class=\"sk-item\"><div class=\"sk-estimator sk-toggleable\"><input class=\"sk-toggleable__control sk-hidden--visually\" id=\"sk-estimator-id-2\" type=\"checkbox\" checked><label for=\"sk-estimator-id-2\" class=\"sk-toggleable__label sk-toggleable__label-arrow\">NearestNeighbors</label><div class=\"sk-toggleable__content\"><pre>NearestNeighbors(algorithm=&#x27;brute&#x27;)</pre></div></div></div></div></div>"
          },
          "metadata": {}
        }
      ]
    },
    {
      "cell_type": "code",
      "source": [
        "book_pivot.iloc[233,:].name"
      ],
      "metadata": {
        "execution": {
          "iopub.status.busy": "2024-03-23T04:02:19.159085Z",
          "iopub.execute_input": "2024-03-23T04:02:19.159369Z",
          "iopub.status.idle": "2024-03-23T04:02:19.166099Z",
          "shell.execute_reply.started": "2024-03-23T04:02:19.159346Z",
          "shell.execute_reply": "2024-03-23T04:02:19.164882Z"
        },
        "trusted": true,
        "id": "cUn0UsE7bQHL",
        "outputId": "7a924172-cab1-445b-82e3-738c0d053e62"
      },
      "execution_count": null,
      "outputs": [
        {
          "execution_count": 105,
          "output_type": "execute_result",
          "data": {
            "text/plain": "'Harry Potter and the Chamber of Secrets (Book 2)'"
          },
          "metadata": {}
        }
      ]
    },
    {
      "cell_type": "code",
      "source": [
        "\n",
        "distance,suggestion = model.kneighbors(book_pivot.iloc[233,:].values.reshape(1,-1), n_neighbors=10)"
      ],
      "metadata": {
        "execution": {
          "iopub.status.busy": "2024-03-23T04:02:19.16777Z",
          "iopub.execute_input": "2024-03-23T04:02:19.168244Z",
          "iopub.status.idle": "2024-03-23T04:02:19.180978Z",
          "shell.execute_reply.started": "2024-03-23T04:02:19.168208Z",
          "shell.execute_reply": "2024-03-23T04:02:19.17974Z"
        },
        "trusted": true,
        "id": "4zjrXSr1bQHL"
      },
      "execution_count": null,
      "outputs": []
    },
    {
      "cell_type": "code",
      "source": [
        "distance"
      ],
      "metadata": {
        "execution": {
          "iopub.status.busy": "2024-03-23T04:02:19.182497Z",
          "iopub.execute_input": "2024-03-23T04:02:19.183188Z",
          "iopub.status.idle": "2024-03-23T04:02:19.194802Z",
          "shell.execute_reply.started": "2024-03-23T04:02:19.183149Z",
          "shell.execute_reply": "2024-03-23T04:02:19.194034Z"
        },
        "trusted": true,
        "id": "P7k6yeA4bQHL",
        "outputId": "67befab0-5747-4ac2-fd2f-5e30fd5f6016"
      },
      "execution_count": null,
      "outputs": [
        {
          "execution_count": 107,
          "output_type": "execute_result",
          "data": {
            "text/plain": "array([[ 0.        , 67.75691847, 68.05145112, 72.277244  , 75.81556568,\n        76.30203143, 76.62245102, 76.64202503, 76.75285011, 76.81796665]])"
          },
          "metadata": {}
        }
      ]
    },
    {
      "cell_type": "code",
      "source": [
        "suggestion"
      ],
      "metadata": {
        "execution": {
          "iopub.status.busy": "2024-03-23T04:02:19.195785Z",
          "iopub.execute_input": "2024-03-23T04:02:19.19648Z",
          "iopub.status.idle": "2024-03-23T04:02:19.205445Z",
          "shell.execute_reply.started": "2024-03-23T04:02:19.196452Z",
          "shell.execute_reply": "2024-03-23T04:02:19.204365Z"
        },
        "trusted": true,
        "id": "ErW8oMkbbQHM",
        "outputId": "db162fb3-6013-4c5c-d84b-82ecedfab491"
      },
      "execution_count": null,
      "outputs": [
        {
          "execution_count": 108,
          "output_type": "execute_result",
          "data": {
            "text/plain": "array([[233, 234, 236, 237, 180, 531, 681, 670, 684, 686]])"
          },
          "metadata": {}
        }
      ]
    },
    {
      "cell_type": "code",
      "source": [
        "# we need book names\n",
        "for i in range(len(suggestion)):\n",
        "    print(book_pivot.index[suggestion[i]])"
      ],
      "metadata": {
        "execution": {
          "iopub.status.busy": "2024-03-23T04:02:19.207094Z",
          "iopub.execute_input": "2024-03-23T04:02:19.207803Z",
          "iopub.status.idle": "2024-03-23T04:02:19.215147Z",
          "shell.execute_reply.started": "2024-03-23T04:02:19.207768Z",
          "shell.execute_reply": "2024-03-23T04:02:19.213958Z"
        },
        "trusted": true,
        "id": "9Nw4o5hvbQHM",
        "outputId": "402778b0-e9d0-481b-f71b-6b987e474618"
      },
      "execution_count": null,
      "outputs": [
        {
          "name": "stdout",
          "text": "Index(['Harry Potter and the Chamber of Secrets (Book 2)',\n       'Harry Potter and the Goblet of Fire (Book 4)',\n       'Harry Potter and the Prisoner of Azkaban (Book 3)',\n       'Harry Potter and the Sorcerer's Stone (Book 1)', 'Exclusive',\n       'The Cradle Will Fall',\n       'Tom Clancy's Op-Center (Tom Clancy's Op Center (Paperback))',\n       'The Witness', 'Toxin', 'Truly, Madly Manhattan'],\n      dtype='object', name='Book-Title')\n",
          "output_type": "stream"
        }
      ]
    },
    {
      "cell_type": "markdown",
      "source": [
        "#### From the above o/p, we can say that if user has read Harry potter book then system has recommended user all books related to harry potter"
      ],
      "metadata": {
        "id": "f5SdiOwMbQHM"
      }
    },
    {
      "cell_type": "markdown",
      "source": [
        "#### Lets write a function which takes book-id and recommends nearest books"
      ],
      "metadata": {
        "id": "sgj6UIL1bQHM"
      }
    },
    {
      "cell_type": "code",
      "source": [
        "def recommend_book(book_name):\n",
        "    book_id=np.where(book_pivot.index == book_name)[0][0]\n",
        "    distance,suggestion = model.kneighbors(book_pivot.iloc[book_id,:].values.reshape(1,-1), n_neighbors=10)\n",
        "\n",
        "    for i in range(len(suggestion)):\n",
        "        books = book_pivot.index[suggestion[i]]\n",
        "        print(\"BELOW ARE THE RECOMMENDED BOOKS:  \\n\")\n",
        "        for j in books:\n",
        "            print(j)\n",
        "\n"
      ],
      "metadata": {
        "execution": {
          "iopub.status.busy": "2024-03-23T04:02:19.216471Z",
          "iopub.execute_input": "2024-03-23T04:02:19.21698Z",
          "iopub.status.idle": "2024-03-23T04:02:19.225049Z",
          "shell.execute_reply.started": "2024-03-23T04:02:19.216953Z",
          "shell.execute_reply": "2024-03-23T04:02:19.224268Z"
        },
        "trusted": true,
        "id": "kJvkHxAJbQHM"
      },
      "execution_count": null,
      "outputs": []
    },
    {
      "cell_type": "code",
      "source": [
        "## Taking the book name\n",
        "book_name= 'Harry Potter and the Chamber of Secrets (Book 2)'\n",
        "recommend_book(book_name)"
      ],
      "metadata": {
        "execution": {
          "iopub.status.busy": "2024-03-23T04:02:19.226097Z",
          "iopub.execute_input": "2024-03-23T04:02:19.226743Z",
          "iopub.status.idle": "2024-03-23T04:02:19.237147Z",
          "shell.execute_reply.started": "2024-03-23T04:02:19.226716Z",
          "shell.execute_reply": "2024-03-23T04:02:19.236166Z"
        },
        "trusted": true,
        "id": "ywpZoIpqbQHM",
        "outputId": "c912e59e-38ea-4e52-bea4-1cd309a97f8d"
      },
      "execution_count": null,
      "outputs": [
        {
          "name": "stdout",
          "text": "BELOW ARE THE RECOMMENDED BOOKS:  \n\nHarry Potter and the Chamber of Secrets (Book 2)\nHarry Potter and the Goblet of Fire (Book 4)\nHarry Potter and the Prisoner of Azkaban (Book 3)\nHarry Potter and the Sorcerer's Stone (Book 1)\nExclusive\nThe Cradle Will Fall\nTom Clancy's Op-Center (Tom Clancy's Op Center (Paperback))\nThe Witness\nToxin\nTruly, Madly Manhattan\n",
          "output_type": "stream"
        }
      ]
    },
    {
      "cell_type": "markdown",
      "source": [
        "#### This is the output of ITEM BASED SYSTEM"
      ],
      "metadata": {
        "id": "FcNnvUhFbQHM"
      }
    },
    {
      "cell_type": "markdown",
      "source": [
        "#### ************** SVD ***************"
      ],
      "metadata": {
        "id": "JLi9adQobQHM"
      }
    },
    {
      "cell_type": "markdown",
      "source": [
        "#### Creation of Distance and SVD Functions:"
      ],
      "metadata": {
        "id": "zZALdci0bQHM"
      }
    },
    {
      "cell_type": "code",
      "source": [
        "def euclidSim(inA,inB):\n",
        "    return 1.0/(1.0 + np.linalg.norm(inA - inB))\n",
        "\n",
        "def pearsonSim(inA,inB):\n",
        "    if len(inA) < 3 : return 1.0\n",
        "    return 0.5+0.5*np.corrcoef(inA, inB, rowvar = 0)[0][1]\n",
        "\n",
        "def svdEst(dataMat, user, simMeas, item):\n",
        "    n = np.shape(dataMat)[1]\n",
        "    simTotal = 0.0; ratSimTotal = 0.0\n",
        "    data=np.mat(dataMat)\n",
        "    U,Sigma,VT = np.linalg.svd(data)\n",
        "    Sig4 = np.mat(np.eye(4)*Sigma[:4]) #arrange Sig4 into a diagonal matrix\n",
        "    xformedItems = data.T * U[:,:4] * Sig4.I  #create transformed items\n",
        "    for j in range(n):\n",
        "        userRating = data[user,j]\n",
        "        if userRating == 0 or j==item: continue\n",
        "        similarity = simMeas(xformedItems[item,:].T, xformedItems[j,:].T)\n",
        "        #print('the %d and %d similarity is: %f' % (item, j, similarity))\n",
        "        simTotal += similarity\n",
        "        ratSimTotal += similarity * userRating\n",
        "    if simTotal == 0: return 0\n",
        "    else: return ratSimTotal/simTotal"
      ],
      "metadata": {
        "execution": {
          "iopub.status.busy": "2024-03-23T04:02:19.238685Z",
          "iopub.execute_input": "2024-03-23T04:02:19.239237Z",
          "iopub.status.idle": "2024-03-23T04:02:19.247591Z",
          "shell.execute_reply.started": "2024-03-23T04:02:19.239209Z",
          "shell.execute_reply": "2024-03-23T04:02:19.246644Z"
        },
        "trusted": true,
        "id": "TpVn3aeebQHM"
      },
      "execution_count": null,
      "outputs": []
    },
    {
      "cell_type": "markdown",
      "source": [
        "#### Creation of recommend function:"
      ],
      "metadata": {
        "id": "8HlMkW7_bQHM"
      }
    },
    {
      "cell_type": "markdown",
      "source": [
        "#### Developed the ‘recommend’ function to generate book recommendations for a specific user by taking below parameter"
      ],
      "metadata": {
        "id": "bDwhnH-_bQHM"
      }
    },
    {
      "cell_type": "code",
      "source": [
        "def recommend(dataMat, user, N=3, simMeas = pearsonSim, estMethod=svdEst):\n",
        "    unratedItems = np.nonzero(dataMat[user,:].A==0)[1] #find unrated items\n",
        "    if len(unratedItems) == 0: return 'you rated everything'\n",
        "    itemScores = []\n",
        "    for item in unratedItems:\n",
        "        estimatedScore = estMethod(dataMat, user, simMeas, item)\n",
        "        itemScores.append((item, estimatedScore))\n",
        "    return sorted(itemScores, key=lambda jj: jj[1], reverse=True)[:N]"
      ],
      "metadata": {
        "execution": {
          "iopub.status.busy": "2024-03-23T04:02:19.24886Z",
          "iopub.execute_input": "2024-03-23T04:02:19.249416Z",
          "iopub.status.idle": "2024-03-23T04:02:19.258128Z",
          "shell.execute_reply.started": "2024-03-23T04:02:19.24938Z",
          "shell.execute_reply": "2024-03-23T04:02:19.256983Z"
        },
        "trusted": true,
        "id": "fPhxavbcbQHM"
      },
      "execution_count": null,
      "outputs": []
    },
    {
      "cell_type": "code",
      "source": [
        "data=np.mat(book_pivot.T)"
      ],
      "metadata": {
        "execution": {
          "iopub.status.busy": "2024-03-23T04:02:19.259292Z",
          "iopub.execute_input": "2024-03-23T04:02:19.260048Z",
          "iopub.status.idle": "2024-03-23T04:02:19.270061Z",
          "shell.execute_reply.started": "2024-03-23T04:02:19.260021Z",
          "shell.execute_reply": "2024-03-23T04:02:19.26916Z"
        },
        "trusted": true,
        "id": "AcoVQJzZbQHM"
      },
      "execution_count": null,
      "outputs": []
    },
    {
      "cell_type": "markdown",
      "source": [
        "#### Calling the function to get the recommendations to particular user"
      ],
      "metadata": {
        "id": "Zb6vm2_zbQHM"
      }
    },
    {
      "cell_type": "code",
      "source": [
        "user = 18\n",
        "recommendations = recommend(data, user, N=5, simMeas=pearsonSim, estMethod=svdEst)\n",
        "print(recommendations)\n"
      ],
      "metadata": {
        "execution": {
          "iopub.status.busy": "2024-03-23T04:02:19.271416Z",
          "iopub.execute_input": "2024-03-23T04:02:19.271997Z",
          "iopub.status.idle": "2024-03-23T04:05:49.003647Z",
          "shell.execute_reply.started": "2024-03-23T04:02:19.27197Z",
          "shell.execute_reply": "2024-03-23T04:05:49.0024Z"
        },
        "trusted": true,
        "id": "3vthMuKEbQHM",
        "outputId": "e0a5a295-847e-48c8-8a95-c9ec70a22c11"
      },
      "execution_count": null,
      "outputs": [
        {
          "name": "stdout",
          "text": "[(647, 9.18069315841379), (671, 9.180374101371342), (305, 9.179965684014885), (649, 9.179637398322972), (146, 9.179628020155505)]\n",
          "output_type": "stream"
        }
      ]
    },
    {
      "cell_type": "markdown",
      "source": [
        "#### Implemented a loop to iterate over the recommendations generated by the recommed function."
      ],
      "metadata": {
        "id": "AioTt4gfbQHM"
      }
    },
    {
      "cell_type": "code",
      "source": [
        "print(\"Recommended Items for User\", user, \":\\n\")\n",
        "for i, p in recommendations:\n",
        "    print(f'Book: \"{book_pivot.index[i].title()}\" , Rating : \"{round(p,2)}\"')"
      ],
      "metadata": {
        "execution": {
          "iopub.status.busy": "2024-03-23T04:05:49.005847Z",
          "iopub.execute_input": "2024-03-23T04:05:49.006786Z",
          "iopub.status.idle": "2024-03-23T04:05:49.015407Z",
          "shell.execute_reply.started": "2024-03-23T04:05:49.006741Z",
          "shell.execute_reply": "2024-03-23T04:05:49.014215Z"
        },
        "trusted": true,
        "id": "dSow_jfdbQHM",
        "outputId": "08a18396-0587-4d49-ba65-067a2af6b08a"
      },
      "execution_count": null,
      "outputs": [
        {
          "name": "stdout",
          "text": "Recommended Items for User 18 :\n\nBook: \"The Summerhouse\" , Rating : \"9.18\"\nBook: \"The Woman Next Door\" , Rating : \"9.18\"\nBook: \"Last Chance Saloon\" , Rating : \"9.18\"\nBook: \"The Surgeon\" , Rating : \"9.18\"\nBook: \"Deception Point\" , Rating : \"9.18\"\n",
          "output_type": "stream"
        }
      ]
    }
  ]
}